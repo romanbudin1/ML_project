{
 "cells": [
  {
   "cell_type": "markdown",
   "metadata": {
    "toc": true
   },
   "source": [
    "<h1>Содержание<span class=\"tocSkip\"></span></h1>\n",
    "<div class=\"toc\"><ul class=\"toc-item\"><li><span><a href=\"#Подготовка-данных\" data-toc-modified-id=\"Подготовка-данных-1\"><span class=\"toc-item-num\">1&nbsp;&nbsp;</span>Подготовка данных</a></span></li><li><span><a href=\"#Исследование-задачи\" data-toc-modified-id=\"Исследование-задачи-2\"><span class=\"toc-item-num\">2&nbsp;&nbsp;</span>Исследование задачи</a></span></li><li><span><a href=\"#Борьба-с-дисбалансом\" data-toc-modified-id=\"Борьба-с-дисбалансом-3\"><span class=\"toc-item-num\">3&nbsp;&nbsp;</span>Борьба с дисбалансом</a></span></li><li><span><a href=\"#Тестирование-модели\" data-toc-modified-id=\"Тестирование-модели-4\"><span class=\"toc-item-num\">4&nbsp;&nbsp;</span>Тестирование модели</a></span></li><li><span><a href=\"#Вывод\" data-toc-modified-id=\"Вывод-5\"><span class=\"toc-item-num\">5&nbsp;&nbsp;</span>Вывод</a></span></li><li><span><a href=\"#Чек-лист-готовности-проекта\" data-toc-modified-id=\"Чек-лист-готовности-проекта-6\"><span class=\"toc-item-num\">6&nbsp;&nbsp;</span>Чек-лист готовности проекта</a></span></li><li><span><a href=\"#Финальные-комментарии-ревьюера\" data-toc-modified-id=\"Финальные-комментарии-ревьюера-7\"><span class=\"toc-item-num\">7&nbsp;&nbsp;</span>Финальные комментарии ревьюера</a></span></li></ul></div>"
   ]
  },
  {
   "cell_type": "markdown",
   "metadata": {},
   "source": [
    "# Отток клиентов"
   ]
  },
  {
   "cell_type": "markdown",
   "metadata": {},
   "source": [
    "Из «Бета-Банка» стали уходить клиенты. Каждый месяц. Немного, но заметно. Банковские маркетологи посчитали: сохранять текущих клиентов дешевле, чем привлекать новых.\n",
    "\n",
    "Нужно спрогнозировать, уйдёт клиент из банка в ближайшее время или нет. Нам предоставлены исторические данные о поведении клиентов и расторжении договоров с банком. \n",
    "\n",
    "Необходимо построить модель с предельно большим значением *F1*-меры (не менее 0.59).\n",
    "\n",
    "Дополнительно необходимо измерять *AUC-ROC* и сравнивать её значение с *F1*-мерой.\n",
    "\n",
    "Источник данных: [https://www.kaggle.com/barelydedicated/bank-customer-churn-modeling](https://www.kaggle.com/barelydedicated/bank-customer-churn-modeling)"
   ]
  },
  {
   "cell_type": "markdown",
   "metadata": {},
   "source": [
    "## Подготовка данных"
   ]
  },
  {
   "cell_type": "code",
   "execution_count": 1,
   "metadata": {},
   "outputs": [],
   "source": [
    "import pandas as pd\n",
    "from sklearn.model_selection import train_test_split\n",
    "from sklearn.preprocessing import StandardScaler\n",
    "from sklearn.linear_model import LogisticRegression\n",
    "from sklearn.tree import DecisionTreeClassifier\n",
    "from sklearn.ensemble import RandomForestClassifier\n",
    "from sklearn.metrics import f1_score\n",
    "from sklearn.metrics import roc_auc_score\n",
    "from sklearn.utils import shuffle\n",
    "from sklearn.preprocessing import OneHotEncoder"
   ]
  },
  {
   "cell_type": "code",
   "execution_count": 2,
   "metadata": {},
   "outputs": [],
   "source": [
    "data = pd.read_csv('Churn.csv')"
   ]
  },
  {
   "cell_type": "code",
   "execution_count": 3,
   "metadata": {},
   "outputs": [
    {
     "data": {
      "text/html": [
       "<div>\n",
       "<style scoped>\n",
       "    .dataframe tbody tr th:only-of-type {\n",
       "        vertical-align: middle;\n",
       "    }\n",
       "\n",
       "    .dataframe tbody tr th {\n",
       "        vertical-align: top;\n",
       "    }\n",
       "\n",
       "    .dataframe thead th {\n",
       "        text-align: right;\n",
       "    }\n",
       "</style>\n",
       "<table border=\"1\" class=\"dataframe\">\n",
       "  <thead>\n",
       "    <tr style=\"text-align: right;\">\n",
       "      <th></th>\n",
       "      <th>RowNumber</th>\n",
       "      <th>CustomerId</th>\n",
       "      <th>Surname</th>\n",
       "      <th>CreditScore</th>\n",
       "      <th>Geography</th>\n",
       "      <th>Gender</th>\n",
       "      <th>Age</th>\n",
       "      <th>Tenure</th>\n",
       "      <th>Balance</th>\n",
       "      <th>NumOfProducts</th>\n",
       "      <th>HasCrCard</th>\n",
       "      <th>IsActiveMember</th>\n",
       "      <th>EstimatedSalary</th>\n",
       "      <th>Exited</th>\n",
       "    </tr>\n",
       "  </thead>\n",
       "  <tbody>\n",
       "    <tr>\n",
       "      <th>0</th>\n",
       "      <td>1</td>\n",
       "      <td>15634602</td>\n",
       "      <td>Hargrave</td>\n",
       "      <td>619</td>\n",
       "      <td>France</td>\n",
       "      <td>Female</td>\n",
       "      <td>42</td>\n",
       "      <td>2.0</td>\n",
       "      <td>0.00</td>\n",
       "      <td>1</td>\n",
       "      <td>1</td>\n",
       "      <td>1</td>\n",
       "      <td>101348.88</td>\n",
       "      <td>1</td>\n",
       "    </tr>\n",
       "    <tr>\n",
       "      <th>1</th>\n",
       "      <td>2</td>\n",
       "      <td>15647311</td>\n",
       "      <td>Hill</td>\n",
       "      <td>608</td>\n",
       "      <td>Spain</td>\n",
       "      <td>Female</td>\n",
       "      <td>41</td>\n",
       "      <td>1.0</td>\n",
       "      <td>83807.86</td>\n",
       "      <td>1</td>\n",
       "      <td>0</td>\n",
       "      <td>1</td>\n",
       "      <td>112542.58</td>\n",
       "      <td>0</td>\n",
       "    </tr>\n",
       "    <tr>\n",
       "      <th>2</th>\n",
       "      <td>3</td>\n",
       "      <td>15619304</td>\n",
       "      <td>Onio</td>\n",
       "      <td>502</td>\n",
       "      <td>France</td>\n",
       "      <td>Female</td>\n",
       "      <td>42</td>\n",
       "      <td>8.0</td>\n",
       "      <td>159660.80</td>\n",
       "      <td>3</td>\n",
       "      <td>1</td>\n",
       "      <td>0</td>\n",
       "      <td>113931.57</td>\n",
       "      <td>1</td>\n",
       "    </tr>\n",
       "    <tr>\n",
       "      <th>3</th>\n",
       "      <td>4</td>\n",
       "      <td>15701354</td>\n",
       "      <td>Boni</td>\n",
       "      <td>699</td>\n",
       "      <td>France</td>\n",
       "      <td>Female</td>\n",
       "      <td>39</td>\n",
       "      <td>1.0</td>\n",
       "      <td>0.00</td>\n",
       "      <td>2</td>\n",
       "      <td>0</td>\n",
       "      <td>0</td>\n",
       "      <td>93826.63</td>\n",
       "      <td>0</td>\n",
       "    </tr>\n",
       "    <tr>\n",
       "      <th>4</th>\n",
       "      <td>5</td>\n",
       "      <td>15737888</td>\n",
       "      <td>Mitchell</td>\n",
       "      <td>850</td>\n",
       "      <td>Spain</td>\n",
       "      <td>Female</td>\n",
       "      <td>43</td>\n",
       "      <td>2.0</td>\n",
       "      <td>125510.82</td>\n",
       "      <td>1</td>\n",
       "      <td>1</td>\n",
       "      <td>1</td>\n",
       "      <td>79084.10</td>\n",
       "      <td>0</td>\n",
       "    </tr>\n",
       "  </tbody>\n",
       "</table>\n",
       "</div>"
      ],
      "text/plain": [
       "   RowNumber  CustomerId   Surname  CreditScore Geography  Gender  Age  \\\n",
       "0          1    15634602  Hargrave          619    France  Female   42   \n",
       "1          2    15647311      Hill          608     Spain  Female   41   \n",
       "2          3    15619304      Onio          502    France  Female   42   \n",
       "3          4    15701354      Boni          699    France  Female   39   \n",
       "4          5    15737888  Mitchell          850     Spain  Female   43   \n",
       "\n",
       "   Tenure    Balance  NumOfProducts  HasCrCard  IsActiveMember  \\\n",
       "0     2.0       0.00              1          1               1   \n",
       "1     1.0   83807.86              1          0               1   \n",
       "2     8.0  159660.80              3          1               0   \n",
       "3     1.0       0.00              2          0               0   \n",
       "4     2.0  125510.82              1          1               1   \n",
       "\n",
       "   EstimatedSalary  Exited  \n",
       "0        101348.88       1  \n",
       "1        112542.58       0  \n",
       "2        113931.57       1  \n",
       "3         93826.63       0  \n",
       "4         79084.10       0  "
      ]
     },
     "execution_count": 3,
     "metadata": {},
     "output_type": "execute_result"
    }
   ],
   "source": [
    "data.head()"
   ]
  },
  {
   "cell_type": "code",
   "execution_count": 4,
   "metadata": {},
   "outputs": [
    {
     "name": "stdout",
     "output_type": "stream",
     "text": [
      "<class 'pandas.core.frame.DataFrame'>\n",
      "RangeIndex: 10000 entries, 0 to 9999\n",
      "Data columns (total 14 columns):\n",
      " #   Column           Non-Null Count  Dtype  \n",
      "---  ------           --------------  -----  \n",
      " 0   RowNumber        10000 non-null  int64  \n",
      " 1   CustomerId       10000 non-null  int64  \n",
      " 2   Surname          10000 non-null  object \n",
      " 3   CreditScore      10000 non-null  int64  \n",
      " 4   Geography        10000 non-null  object \n",
      " 5   Gender           10000 non-null  object \n",
      " 6   Age              10000 non-null  int64  \n",
      " 7   Tenure           9091 non-null   float64\n",
      " 8   Balance          10000 non-null  float64\n",
      " 9   NumOfProducts    10000 non-null  int64  \n",
      " 10  HasCrCard        10000 non-null  int64  \n",
      " 11  IsActiveMember   10000 non-null  int64  \n",
      " 12  EstimatedSalary  10000 non-null  float64\n",
      " 13  Exited           10000 non-null  int64  \n",
      "dtypes: float64(3), int64(8), object(3)\n",
      "memory usage: 1.1+ MB\n"
     ]
    }
   ],
   "source": [
    "data.info()"
   ]
  },
  {
   "cell_type": "code",
   "execution_count": 5,
   "metadata": {},
   "outputs": [
    {
     "data": {
      "text/html": [
       "<div>\n",
       "<style scoped>\n",
       "    .dataframe tbody tr th:only-of-type {\n",
       "        vertical-align: middle;\n",
       "    }\n",
       "\n",
       "    .dataframe tbody tr th {\n",
       "        vertical-align: top;\n",
       "    }\n",
       "\n",
       "    .dataframe thead th {\n",
       "        text-align: right;\n",
       "    }\n",
       "</style>\n",
       "<table border=\"1\" class=\"dataframe\">\n",
       "  <thead>\n",
       "    <tr style=\"text-align: right;\">\n",
       "      <th></th>\n",
       "      <th>RowNumber</th>\n",
       "      <th>CustomerId</th>\n",
       "      <th>CreditScore</th>\n",
       "      <th>Age</th>\n",
       "      <th>Tenure</th>\n",
       "      <th>Balance</th>\n",
       "      <th>NumOfProducts</th>\n",
       "      <th>HasCrCard</th>\n",
       "      <th>IsActiveMember</th>\n",
       "      <th>EstimatedSalary</th>\n",
       "      <th>Exited</th>\n",
       "    </tr>\n",
       "  </thead>\n",
       "  <tbody>\n",
       "    <tr>\n",
       "      <th>count</th>\n",
       "      <td>10000.00000</td>\n",
       "      <td>1.000000e+04</td>\n",
       "      <td>10000.000000</td>\n",
       "      <td>10000.000000</td>\n",
       "      <td>9091.000000</td>\n",
       "      <td>10000.000000</td>\n",
       "      <td>10000.000000</td>\n",
       "      <td>10000.00000</td>\n",
       "      <td>10000.000000</td>\n",
       "      <td>10000.000000</td>\n",
       "      <td>10000.000000</td>\n",
       "    </tr>\n",
       "    <tr>\n",
       "      <th>mean</th>\n",
       "      <td>5000.50000</td>\n",
       "      <td>1.569094e+07</td>\n",
       "      <td>650.528800</td>\n",
       "      <td>38.921800</td>\n",
       "      <td>4.997690</td>\n",
       "      <td>76485.889288</td>\n",
       "      <td>1.530200</td>\n",
       "      <td>0.70550</td>\n",
       "      <td>0.515100</td>\n",
       "      <td>100090.239881</td>\n",
       "      <td>0.203700</td>\n",
       "    </tr>\n",
       "    <tr>\n",
       "      <th>std</th>\n",
       "      <td>2886.89568</td>\n",
       "      <td>7.193619e+04</td>\n",
       "      <td>96.653299</td>\n",
       "      <td>10.487806</td>\n",
       "      <td>2.894723</td>\n",
       "      <td>62397.405202</td>\n",
       "      <td>0.581654</td>\n",
       "      <td>0.45584</td>\n",
       "      <td>0.499797</td>\n",
       "      <td>57510.492818</td>\n",
       "      <td>0.402769</td>\n",
       "    </tr>\n",
       "    <tr>\n",
       "      <th>min</th>\n",
       "      <td>1.00000</td>\n",
       "      <td>1.556570e+07</td>\n",
       "      <td>350.000000</td>\n",
       "      <td>18.000000</td>\n",
       "      <td>0.000000</td>\n",
       "      <td>0.000000</td>\n",
       "      <td>1.000000</td>\n",
       "      <td>0.00000</td>\n",
       "      <td>0.000000</td>\n",
       "      <td>11.580000</td>\n",
       "      <td>0.000000</td>\n",
       "    </tr>\n",
       "    <tr>\n",
       "      <th>25%</th>\n",
       "      <td>2500.75000</td>\n",
       "      <td>1.562853e+07</td>\n",
       "      <td>584.000000</td>\n",
       "      <td>32.000000</td>\n",
       "      <td>2.000000</td>\n",
       "      <td>0.000000</td>\n",
       "      <td>1.000000</td>\n",
       "      <td>0.00000</td>\n",
       "      <td>0.000000</td>\n",
       "      <td>51002.110000</td>\n",
       "      <td>0.000000</td>\n",
       "    </tr>\n",
       "    <tr>\n",
       "      <th>50%</th>\n",
       "      <td>5000.50000</td>\n",
       "      <td>1.569074e+07</td>\n",
       "      <td>652.000000</td>\n",
       "      <td>37.000000</td>\n",
       "      <td>5.000000</td>\n",
       "      <td>97198.540000</td>\n",
       "      <td>1.000000</td>\n",
       "      <td>1.00000</td>\n",
       "      <td>1.000000</td>\n",
       "      <td>100193.915000</td>\n",
       "      <td>0.000000</td>\n",
       "    </tr>\n",
       "    <tr>\n",
       "      <th>75%</th>\n",
       "      <td>7500.25000</td>\n",
       "      <td>1.575323e+07</td>\n",
       "      <td>718.000000</td>\n",
       "      <td>44.000000</td>\n",
       "      <td>7.000000</td>\n",
       "      <td>127644.240000</td>\n",
       "      <td>2.000000</td>\n",
       "      <td>1.00000</td>\n",
       "      <td>1.000000</td>\n",
       "      <td>149388.247500</td>\n",
       "      <td>0.000000</td>\n",
       "    </tr>\n",
       "    <tr>\n",
       "      <th>max</th>\n",
       "      <td>10000.00000</td>\n",
       "      <td>1.581569e+07</td>\n",
       "      <td>850.000000</td>\n",
       "      <td>92.000000</td>\n",
       "      <td>10.000000</td>\n",
       "      <td>250898.090000</td>\n",
       "      <td>4.000000</td>\n",
       "      <td>1.00000</td>\n",
       "      <td>1.000000</td>\n",
       "      <td>199992.480000</td>\n",
       "      <td>1.000000</td>\n",
       "    </tr>\n",
       "  </tbody>\n",
       "</table>\n",
       "</div>"
      ],
      "text/plain": [
       "         RowNumber    CustomerId   CreditScore           Age       Tenure  \\\n",
       "count  10000.00000  1.000000e+04  10000.000000  10000.000000  9091.000000   \n",
       "mean    5000.50000  1.569094e+07    650.528800     38.921800     4.997690   \n",
       "std     2886.89568  7.193619e+04     96.653299     10.487806     2.894723   \n",
       "min        1.00000  1.556570e+07    350.000000     18.000000     0.000000   \n",
       "25%     2500.75000  1.562853e+07    584.000000     32.000000     2.000000   \n",
       "50%     5000.50000  1.569074e+07    652.000000     37.000000     5.000000   \n",
       "75%     7500.25000  1.575323e+07    718.000000     44.000000     7.000000   \n",
       "max    10000.00000  1.581569e+07    850.000000     92.000000    10.000000   \n",
       "\n",
       "             Balance  NumOfProducts    HasCrCard  IsActiveMember  \\\n",
       "count   10000.000000   10000.000000  10000.00000    10000.000000   \n",
       "mean    76485.889288       1.530200      0.70550        0.515100   \n",
       "std     62397.405202       0.581654      0.45584        0.499797   \n",
       "min         0.000000       1.000000      0.00000        0.000000   \n",
       "25%         0.000000       1.000000      0.00000        0.000000   \n",
       "50%     97198.540000       1.000000      1.00000        1.000000   \n",
       "75%    127644.240000       2.000000      1.00000        1.000000   \n",
       "max    250898.090000       4.000000      1.00000        1.000000   \n",
       "\n",
       "       EstimatedSalary        Exited  \n",
       "count     10000.000000  10000.000000  \n",
       "mean     100090.239881      0.203700  \n",
       "std       57510.492818      0.402769  \n",
       "min          11.580000      0.000000  \n",
       "25%       51002.110000      0.000000  \n",
       "50%      100193.915000      0.000000  \n",
       "75%      149388.247500      0.000000  \n",
       "max      199992.480000      1.000000  "
      ]
     },
     "execution_count": 5,
     "metadata": {},
     "output_type": "execute_result"
    }
   ],
   "source": [
    "data.describe()"
   ]
  },
  {
   "cell_type": "code",
   "execution_count": 6,
   "metadata": {},
   "outputs": [
    {
     "data": {
      "text/plain": [
       "0.0     382\n",
       "1.0     952\n",
       "2.0     950\n",
       "3.0     928\n",
       "4.0     885\n",
       "5.0     927\n",
       "6.0     881\n",
       "7.0     925\n",
       "8.0     933\n",
       "9.0     882\n",
       "10.0    446\n",
       "Name: Tenure, dtype: int64"
      ]
     },
     "execution_count": 6,
     "metadata": {},
     "output_type": "execute_result"
    }
   ],
   "source": [
    "data['Tenure'].value_counts().sort_index()"
   ]
  },
  {
   "cell_type": "code",
   "execution_count": 7,
   "metadata": {},
   "outputs": [
    {
     "data": {
      "text/plain": [
       "<AxesSubplot:>"
      ]
     },
     "execution_count": 7,
     "metadata": {},
     "output_type": "execute_result"
    },
    {
     "data": {
      "image/png": "[encoded data removed]",
      "text/plain": [
       "<Figure size 640x480 with 1 Axes>"
      ]
     },
     "metadata": {},
     "output_type": "display_data"
    }
   ],
   "source": [
    "data['Tenure'].hist(bins=11)"
   ]
  },
  {
   "cell_type": "markdown",
   "metadata": {},
   "source": [
    "Колонки RowNumber (Номер строки), CustomerId (ID клиента) и Surname (Фамилия) можно удалить, так как они не несут никакой смысловой нагрузки для целей модели.\n",
    "\n",
    "Колонка Tenure содержит пропуски. В данной колонке содержатся данные о том, сколько лет человек является клиентом банка. Отсутствующие данные заполним каким либо числовым значение, которое не встречается в данных, например -1.\n",
    "\n",
    "Кодирование категориальных колонок и стандартизацию данных проведем позднее, после разделения на выборки."
   ]
  },
  {
   "cell_type": "code",
   "execution_count": 8,
   "metadata": {},
   "outputs": [],
   "source": [
    "data = data.drop(['RowNumber', 'CustomerId', 'Surname'], axis=1)\n",
    "data['Tenure'] = data['Tenure'].fillna(-1).astype(int)"
   ]
  },
  {
   "cell_type": "code",
   "execution_count": 9,
   "metadata": {
    "scrolled": true
   },
   "outputs": [
    {
     "data": {
      "text/html": [
       "<div>\n",
       "<style scoped>\n",
       "    .dataframe tbody tr th:only-of-type {\n",
       "        vertical-align: middle;\n",
       "    }\n",
       "\n",
       "    .dataframe tbody tr th {\n",
       "        vertical-align: top;\n",
       "    }\n",
       "\n",
       "    .dataframe thead th {\n",
       "        text-align: right;\n",
       "    }\n",
       "</style>\n",
       "<table border=\"1\" class=\"dataframe\">\n",
       "  <thead>\n",
       "    <tr style=\"text-align: right;\">\n",
       "      <th></th>\n",
       "      <th>CreditScore</th>\n",
       "      <th>Geography</th>\n",
       "      <th>Gender</th>\n",
       "      <th>Age</th>\n",
       "      <th>Tenure</th>\n",
       "      <th>Balance</th>\n",
       "      <th>NumOfProducts</th>\n",
       "      <th>HasCrCard</th>\n",
       "      <th>IsActiveMember</th>\n",
       "      <th>EstimatedSalary</th>\n",
       "      <th>Exited</th>\n",
       "    </tr>\n",
       "  </thead>\n",
       "  <tbody>\n",
       "    <tr>\n",
       "      <th>0</th>\n",
       "      <td>619</td>\n",
       "      <td>France</td>\n",
       "      <td>Female</td>\n",
       "      <td>42</td>\n",
       "      <td>2</td>\n",
       "      <td>0.00</td>\n",
       "      <td>1</td>\n",
       "      <td>1</td>\n",
       "      <td>1</td>\n",
       "      <td>101348.88</td>\n",
       "      <td>1</td>\n",
       "    </tr>\n",
       "    <tr>\n",
       "      <th>1</th>\n",
       "      <td>608</td>\n",
       "      <td>Spain</td>\n",
       "      <td>Female</td>\n",
       "      <td>41</td>\n",
       "      <td>1</td>\n",
       "      <td>83807.86</td>\n",
       "      <td>1</td>\n",
       "      <td>0</td>\n",
       "      <td>1</td>\n",
       "      <td>112542.58</td>\n",
       "      <td>0</td>\n",
       "    </tr>\n",
       "    <tr>\n",
       "      <th>2</th>\n",
       "      <td>502</td>\n",
       "      <td>France</td>\n",
       "      <td>Female</td>\n",
       "      <td>42</td>\n",
       "      <td>8</td>\n",
       "      <td>159660.80</td>\n",
       "      <td>3</td>\n",
       "      <td>1</td>\n",
       "      <td>0</td>\n",
       "      <td>113931.57</td>\n",
       "      <td>1</td>\n",
       "    </tr>\n",
       "    <tr>\n",
       "      <th>3</th>\n",
       "      <td>699</td>\n",
       "      <td>France</td>\n",
       "      <td>Female</td>\n",
       "      <td>39</td>\n",
       "      <td>1</td>\n",
       "      <td>0.00</td>\n",
       "      <td>2</td>\n",
       "      <td>0</td>\n",
       "      <td>0</td>\n",
       "      <td>93826.63</td>\n",
       "      <td>0</td>\n",
       "    </tr>\n",
       "    <tr>\n",
       "      <th>4</th>\n",
       "      <td>850</td>\n",
       "      <td>Spain</td>\n",
       "      <td>Female</td>\n",
       "      <td>43</td>\n",
       "      <td>2</td>\n",
       "      <td>125510.82</td>\n",
       "      <td>1</td>\n",
       "      <td>1</td>\n",
       "      <td>1</td>\n",
       "      <td>79084.10</td>\n",
       "      <td>0</td>\n",
       "    </tr>\n",
       "  </tbody>\n",
       "</table>\n",
       "</div>"
      ],
      "text/plain": [
       "   CreditScore Geography  Gender  Age  Tenure    Balance  NumOfProducts  \\\n",
       "0          619    France  Female   42       2       0.00              1   \n",
       "1          608     Spain  Female   41       1   83807.86              1   \n",
       "2          502    France  Female   42       8  159660.80              3   \n",
       "3          699    France  Female   39       1       0.00              2   \n",
       "4          850     Spain  Female   43       2  125510.82              1   \n",
       "\n",
       "   HasCrCard  IsActiveMember  EstimatedSalary  Exited  \n",
       "0          1               1        101348.88       1  \n",
       "1          0               1        112542.58       0  \n",
       "2          1               0        113931.57       1  \n",
       "3          0               0         93826.63       0  \n",
       "4          1               1         79084.10       0  "
      ]
     },
     "execution_count": 9,
     "metadata": {},
     "output_type": "execute_result"
    }
   ],
   "source": [
    "data.head()"
   ]
  },
  {
   "cell_type": "code",
   "execution_count": 10,
   "metadata": {},
   "outputs": [
    {
     "name": "stdout",
     "output_type": "stream",
     "text": [
      "<class 'pandas.core.frame.DataFrame'>\n",
      "RangeIndex: 10000 entries, 0 to 9999\n",
      "Data columns (total 11 columns):\n",
      " #   Column           Non-Null Count  Dtype  \n",
      "---  ------           --------------  -----  \n",
      " 0   CreditScore      10000 non-null  int64  \n",
      " 1   Geography        10000 non-null  object \n",
      " 2   Gender           10000 non-null  object \n",
      " 3   Age              10000 non-null  int64  \n",
      " 4   Tenure           10000 non-null  int64  \n",
      " 5   Balance          10000 non-null  float64\n",
      " 6   NumOfProducts    10000 non-null  int64  \n",
      " 7   HasCrCard        10000 non-null  int64  \n",
      " 8   IsActiveMember   10000 non-null  int64  \n",
      " 9   EstimatedSalary  10000 non-null  float64\n",
      " 10  Exited           10000 non-null  int64  \n",
      "dtypes: float64(2), int64(7), object(2)\n",
      "memory usage: 859.5+ KB\n"
     ]
    }
   ],
   "source": [
    "data.info()"
   ]
  },
  {
   "cell_type": "markdown",
   "metadata": {},
   "source": [
    "Данные готовы для дальнейшей работы. Выделим признаки и целевой признак."
   ]
  },
  {
   "cell_type": "code",
   "execution_count": 11,
   "metadata": {},
   "outputs": [],
   "source": [
    "features = data.drop('Exited', axis=1)\n",
    "target = data['Exited']"
   ]
  },
  {
   "cell_type": "markdown",
   "metadata": {},
   "source": [
    "Разобъем данные на обучающую, валидационную и тестовую выборки в пропорциях 60/20/20."
   ]
  },
  {
   "cell_type": "code",
   "execution_count": 12,
   "metadata": {},
   "outputs": [],
   "source": [
    "features_train, features_valid, target_train, target_valid = train_test_split(\n",
    "    features, target, test_size=0.4, random_state=123456, stratify=target)\n",
    "features_valid, features_test, target_valid, target_test = train_test_split(\n",
    "    features_valid, target_valid, test_size=0.5, random_state=123456, stratify=target_valid)"
   ]
  },
  {
   "cell_type": "code",
   "execution_count": 13,
   "metadata": {},
   "outputs": [
    {
     "data": {
      "text/plain": [
       "(6000, 10)"
      ]
     },
     "execution_count": 13,
     "metadata": {},
     "output_type": "execute_result"
    }
   ],
   "source": [
    "features_train.shape"
   ]
  },
  {
   "cell_type": "code",
   "execution_count": 14,
   "metadata": {},
   "outputs": [
    {
     "data": {
      "text/plain": [
       "(2000, 10)"
      ]
     },
     "execution_count": 14,
     "metadata": {},
     "output_type": "execute_result"
    }
   ],
   "source": [
    "features_valid.shape"
   ]
  },
  {
   "cell_type": "code",
   "execution_count": 15,
   "metadata": {},
   "outputs": [
    {
     "data": {
      "text/plain": [
       "(2000, 10)"
      ]
     },
     "execution_count": 15,
     "metadata": {},
     "output_type": "execute_result"
    }
   ],
   "source": [
    "features_test.shape"
   ]
  },
  {
   "cell_type": "code",
   "execution_count": 16,
   "metadata": {},
   "outputs": [
    {
     "data": {
      "text/plain": [
       "(6000,)"
      ]
     },
     "execution_count": 16,
     "metadata": {},
     "output_type": "execute_result"
    }
   ],
   "source": [
    "target_train.shape"
   ]
  },
  {
   "cell_type": "code",
   "execution_count": 17,
   "metadata": {},
   "outputs": [
    {
     "data": {
      "text/plain": [
       "(2000,)"
      ]
     },
     "execution_count": 17,
     "metadata": {},
     "output_type": "execute_result"
    }
   ],
   "source": [
    "target_valid.shape"
   ]
  },
  {
   "cell_type": "code",
   "execution_count": 18,
   "metadata": {},
   "outputs": [
    {
     "data": {
      "text/plain": [
       "(2000,)"
      ]
     },
     "execution_count": 18,
     "metadata": {},
     "output_type": "execute_result"
    }
   ],
   "source": [
    "target_test.shape"
   ]
  },
  {
   "cell_type": "markdown",
   "metadata": {},
   "source": [
    "Данные разбиты на выборки.\n",
    "\n",
    "Проведем кодирование категориальных признаков, содержащихся в колонках 'Geography' и 'Gender', техникой OneHotEncoding."
   ]
  },
  {
   "cell_type": "code",
   "execution_count": 19,
   "metadata": {},
   "outputs": [],
   "source": [
    "def encode_OHE(df, encoder, cats_to_ohe):\n",
    "    ohe_data = pd.DataFrame(encoder.transform(df[cats_to_ohe]).toarray(), index=df.index)\n",
    "    ohe_data.columns = list(map(str, ohe_data.columns))\n",
    "    df = df.join(ohe_data).drop(cats_to_ohe, axis=1)\n",
    "    return df    "
   ]
  },
  {
   "cell_type": "code",
   "execution_count": 20,
   "metadata": {},
   "outputs": [],
   "source": [
    "cats_to_OHE = ['Geography', 'Gender']"
   ]
  },
  {
   "cell_type": "code",
   "execution_count": 21,
   "metadata": {},
   "outputs": [
    {
     "data": {
      "text/plain": [
       "OneHotEncoder(handle_unknown='ignore')"
      ]
     },
     "execution_count": 21,
     "metadata": {},
     "output_type": "execute_result"
    }
   ],
   "source": [
    "encoder = OneHotEncoder(handle_unknown='ignore')\n",
    "encoder.fit(features_train[cats_to_OHE])"
   ]
  },
  {
   "cell_type": "code",
   "execution_count": 22,
   "metadata": {},
   "outputs": [],
   "source": [
    "features_train = encode_OHE(features_train, encoder, cats_to_OHE)\n",
    "features_valid = encode_OHE(features_valid, encoder, cats_to_OHE)\n",
    "features_test = encode_OHE(features_test, encoder, cats_to_OHE)"
   ]
  },
  {
   "cell_type": "markdown",
   "metadata": {},
   "source": [
    "Теперь произведем стандартизацию данных в колонках 'CreditScore', 'Age', 'Tenure', 'Balance', 'NumOfProducts', 'EstimatedSalary' с помощью функции StandardScaler. В остальных колонках содержатся бинарные признаки, их стандартизация не требуется."
   ]
  },
  {
   "cell_type": "code",
   "execution_count": 23,
   "metadata": {},
   "outputs": [],
   "source": [
    "scaler = StandardScaler()\n",
    "numeric_cols = ['CreditScore', 'Age', 'Tenure', 'Balance', 'NumOfProducts', 'EstimatedSalary']\n",
    "scaler.fit(features_train[numeric_cols])\n",
    "\n",
    "features_train[numeric_cols] = scaler.transform(features_train[numeric_cols])\n",
    "features_valid[numeric_cols] = scaler.transform(features_valid[numeric_cols])\n",
    "features_test[numeric_cols] = scaler.transform(features_test[numeric_cols])"
   ]
  },
  {
   "cell_type": "markdown",
   "metadata": {},
   "source": [
    "Посмотрим что получилось в итоге."
   ]
  },
  {
   "cell_type": "code",
   "execution_count": 24,
   "metadata": {},
   "outputs": [
    {
     "data": {
      "text/html": [
       "<div>\n",
       "<style scoped>\n",
       "    .dataframe tbody tr th:only-of-type {\n",
       "        vertical-align: middle;\n",
       "    }\n",
       "\n",
       "    .dataframe tbody tr th {\n",
       "        vertical-align: top;\n",
       "    }\n",
       "\n",
       "    .dataframe thead th {\n",
       "        text-align: right;\n",
       "    }\n",
       "</style>\n",
       "<table border=\"1\" class=\"dataframe\">\n",
       "  <thead>\n",
       "    <tr style=\"text-align: right;\">\n",
       "      <th></th>\n",
       "      <th>CreditScore</th>\n",
       "      <th>Age</th>\n",
       "      <th>Tenure</th>\n",
       "      <th>Balance</th>\n",
       "      <th>NumOfProducts</th>\n",
       "      <th>HasCrCard</th>\n",
       "      <th>IsActiveMember</th>\n",
       "      <th>EstimatedSalary</th>\n",
       "      <th>0</th>\n",
       "      <th>1</th>\n",
       "      <th>2</th>\n",
       "      <th>3</th>\n",
       "      <th>4</th>\n",
       "    </tr>\n",
       "  </thead>\n",
       "  <tbody>\n",
       "    <tr>\n",
       "      <th>6545</th>\n",
       "      <td>-2.249304</td>\n",
       "      <td>-1.134886</td>\n",
       "      <td>-0.759837</td>\n",
       "      <td>-1.230315</td>\n",
       "      <td>0.820790</td>\n",
       "      <td>1</td>\n",
       "      <td>1</td>\n",
       "      <td>0.919822</td>\n",
       "      <td>0.0</td>\n",
       "      <td>0.0</td>\n",
       "      <td>1.0</td>\n",
       "      <td>0.0</td>\n",
       "      <td>1.0</td>\n",
       "    </tr>\n",
       "    <tr>\n",
       "      <th>2246</th>\n",
       "      <td>0.687905</td>\n",
       "      <td>0.012445</td>\n",
       "      <td>0.459153</td>\n",
       "      <td>-1.230315</td>\n",
       "      <td>0.820790</td>\n",
       "      <td>1</td>\n",
       "      <td>0</td>\n",
       "      <td>-0.126472</td>\n",
       "      <td>0.0</td>\n",
       "      <td>0.0</td>\n",
       "      <td>1.0</td>\n",
       "      <td>1.0</td>\n",
       "      <td>0.0</td>\n",
       "    </tr>\n",
       "    <tr>\n",
       "      <th>1450</th>\n",
       "      <td>-0.191189</td>\n",
       "      <td>-0.752442</td>\n",
       "      <td>-0.455090</td>\n",
       "      <td>0.963221</td>\n",
       "      <td>-0.904162</td>\n",
       "      <td>1</td>\n",
       "      <td>0</td>\n",
       "      <td>-0.319076</td>\n",
       "      <td>0.0</td>\n",
       "      <td>0.0</td>\n",
       "      <td>1.0</td>\n",
       "      <td>0.0</td>\n",
       "      <td>1.0</td>\n",
       "    </tr>\n",
       "    <tr>\n",
       "      <th>6358</th>\n",
       "      <td>0.015656</td>\n",
       "      <td>-0.656831</td>\n",
       "      <td>-0.759837</td>\n",
       "      <td>-1.230315</td>\n",
       "      <td>0.820790</td>\n",
       "      <td>1</td>\n",
       "      <td>0</td>\n",
       "      <td>-0.795698</td>\n",
       "      <td>1.0</td>\n",
       "      <td>0.0</td>\n",
       "      <td>0.0</td>\n",
       "      <td>1.0</td>\n",
       "      <td>0.0</td>\n",
       "    </tr>\n",
       "    <tr>\n",
       "      <th>4462</th>\n",
       "      <td>-0.160162</td>\n",
       "      <td>-0.656831</td>\n",
       "      <td>1.068648</td>\n",
       "      <td>-1.230315</td>\n",
       "      <td>0.820790</td>\n",
       "      <td>1</td>\n",
       "      <td>1</td>\n",
       "      <td>-1.406267</td>\n",
       "      <td>0.0</td>\n",
       "      <td>0.0</td>\n",
       "      <td>1.0</td>\n",
       "      <td>1.0</td>\n",
       "      <td>0.0</td>\n",
       "    </tr>\n",
       "  </tbody>\n",
       "</table>\n",
       "</div>"
      ],
      "text/plain": [
       "      CreditScore       Age    Tenure   Balance  NumOfProducts  HasCrCard  \\\n",
       "6545    -2.249304 -1.134886 -0.759837 -1.230315       0.820790          1   \n",
       "2246     0.687905  0.012445  0.459153 -1.230315       0.820790          1   \n",
       "1450    -0.191189 -0.752442 -0.455090  0.963221      -0.904162          1   \n",
       "6358     0.015656 -0.656831 -0.759837 -1.230315       0.820790          1   \n",
       "4462    -0.160162 -0.656831  1.068648 -1.230315       0.820790          1   \n",
       "\n",
       "      IsActiveMember  EstimatedSalary    0    1    2    3    4  \n",
       "6545               1         0.919822  0.0  0.0  1.0  0.0  1.0  \n",
       "2246               0        -0.126472  0.0  0.0  1.0  1.0  0.0  \n",
       "1450               0        -0.319076  0.0  0.0  1.0  0.0  1.0  \n",
       "6358               0        -0.795698  1.0  0.0  0.0  1.0  0.0  \n",
       "4462               1        -1.406267  0.0  0.0  1.0  1.0  0.0  "
      ]
     },
     "execution_count": 24,
     "metadata": {},
     "output_type": "execute_result"
    }
   ],
   "source": [
    "features_train.head()"
   ]
  },
  {
   "cell_type": "code",
   "execution_count": 25,
   "metadata": {},
   "outputs": [
    {
     "name": "stdout",
     "output_type": "stream",
     "text": [
      "<class 'pandas.core.frame.DataFrame'>\n",
      "Int64Index: 6000 entries, 6545 to 4520\n",
      "Data columns (total 13 columns):\n",
      " #   Column           Non-Null Count  Dtype  \n",
      "---  ------           --------------  -----  \n",
      " 0   CreditScore      6000 non-null   float64\n",
      " 1   Age              6000 non-null   float64\n",
      " 2   Tenure           6000 non-null   float64\n",
      " 3   Balance          6000 non-null   float64\n",
      " 4   NumOfProducts    6000 non-null   float64\n",
      " 5   HasCrCard        6000 non-null   int64  \n",
      " 6   IsActiveMember   6000 non-null   int64  \n",
      " 7   EstimatedSalary  6000 non-null   float64\n",
      " 8   0                6000 non-null   float64\n",
      " 9   1                6000 non-null   float64\n",
      " 10  2                6000 non-null   float64\n",
      " 11  3                6000 non-null   float64\n",
      " 12  4                6000 non-null   float64\n",
      "dtypes: float64(11), int64(2)\n",
      "memory usage: 785.3 KB\n"
     ]
    }
   ],
   "source": [
    "features_train.info()"
   ]
  },
  {
   "cell_type": "code",
   "execution_count": 26,
   "metadata": {},
   "outputs": [
    {
     "data": {
      "text/html": [
       "<div>\n",
       "<style scoped>\n",
       "    .dataframe tbody tr th:only-of-type {\n",
       "        vertical-align: middle;\n",
       "    }\n",
       "\n",
       "    .dataframe tbody tr th {\n",
       "        vertical-align: top;\n",
       "    }\n",
       "\n",
       "    .dataframe thead th {\n",
       "        text-align: right;\n",
       "    }\n",
       "</style>\n",
       "<table border=\"1\" class=\"dataframe\">\n",
       "  <thead>\n",
       "    <tr style=\"text-align: right;\">\n",
       "      <th></th>\n",
       "      <th>CreditScore</th>\n",
       "      <th>Age</th>\n",
       "      <th>Tenure</th>\n",
       "      <th>Balance</th>\n",
       "      <th>NumOfProducts</th>\n",
       "      <th>HasCrCard</th>\n",
       "      <th>IsActiveMember</th>\n",
       "      <th>EstimatedSalary</th>\n",
       "      <th>0</th>\n",
       "      <th>1</th>\n",
       "      <th>2</th>\n",
       "      <th>3</th>\n",
       "      <th>4</th>\n",
       "    </tr>\n",
       "  </thead>\n",
       "  <tbody>\n",
       "    <tr>\n",
       "      <th>count</th>\n",
       "      <td>6.000000e+03</td>\n",
       "      <td>6.000000e+03</td>\n",
       "      <td>6.000000e+03</td>\n",
       "      <td>6.000000e+03</td>\n",
       "      <td>6.000000e+03</td>\n",
       "      <td>6000.000000</td>\n",
       "      <td>6000.000000</td>\n",
       "      <td>6.000000e+03</td>\n",
       "      <td>6000.000000</td>\n",
       "      <td>6000.000000</td>\n",
       "      <td>6000.000000</td>\n",
       "      <td>6000.000000</td>\n",
       "      <td>6000.000000</td>\n",
       "    </tr>\n",
       "    <tr>\n",
       "      <th>mean</th>\n",
       "      <td>-2.652618e-16</td>\n",
       "      <td>1.622776e-16</td>\n",
       "      <td>-1.535068e-16</td>\n",
       "      <td>4.526009e-16</td>\n",
       "      <td>8.733754e-18</td>\n",
       "      <td>0.700000</td>\n",
       "      <td>0.513667</td>\n",
       "      <td>2.278178e-16</td>\n",
       "      <td>0.503333</td>\n",
       "      <td>0.250167</td>\n",
       "      <td>0.246500</td>\n",
       "      <td>0.450000</td>\n",
       "      <td>0.550000</td>\n",
       "    </tr>\n",
       "    <tr>\n",
       "      <th>std</th>\n",
       "      <td>1.000083e+00</td>\n",
       "      <td>1.000083e+00</td>\n",
       "      <td>1.000083e+00</td>\n",
       "      <td>1.000083e+00</td>\n",
       "      <td>1.000083e+00</td>\n",
       "      <td>0.458296</td>\n",
       "      <td>0.499855</td>\n",
       "      <td>1.000083e+00</td>\n",
       "      <td>0.500031</td>\n",
       "      <td>0.433145</td>\n",
       "      <td>0.431009</td>\n",
       "      <td>0.497535</td>\n",
       "      <td>0.497535</td>\n",
       "    </tr>\n",
       "    <tr>\n",
       "      <th>min</th>\n",
       "      <td>-3.107714e+00</td>\n",
       "      <td>-1.995384e+00</td>\n",
       "      <td>-1.674079e+00</td>\n",
       "      <td>-1.230315e+00</td>\n",
       "      <td>-9.041622e-01</td>\n",
       "      <td>0.000000</td>\n",
       "      <td>0.000000</td>\n",
       "      <td>-1.741446e+00</td>\n",
       "      <td>0.000000</td>\n",
       "      <td>0.000000</td>\n",
       "      <td>0.000000</td>\n",
       "      <td>0.000000</td>\n",
       "      <td>0.000000</td>\n",
       "    </tr>\n",
       "    <tr>\n",
       "      <th>25%</th>\n",
       "      <td>-6.876190e-01</td>\n",
       "      <td>-6.568310e-01</td>\n",
       "      <td>-7.598370e-01</td>\n",
       "      <td>-1.230315e+00</td>\n",
       "      <td>-9.041622e-01</td>\n",
       "      <td>0.000000</td>\n",
       "      <td>0.000000</td>\n",
       "      <td>-8.584949e-01</td>\n",
       "      <td>0.000000</td>\n",
       "      <td>0.000000</td>\n",
       "      <td>0.000000</td>\n",
       "      <td>0.000000</td>\n",
       "      <td>0.000000</td>\n",
       "    </tr>\n",
       "    <tr>\n",
       "      <th>50%</th>\n",
       "      <td>2.599879e-02</td>\n",
       "      <td>-1.787765e-01</td>\n",
       "      <td>1.544054e-01</td>\n",
       "      <td>3.290932e-01</td>\n",
       "      <td>-9.041622e-01</td>\n",
       "      <td>1.000000</td>\n",
       "      <td>1.000000</td>\n",
       "      <td>-1.139565e-02</td>\n",
       "      <td>1.000000</td>\n",
       "      <td>0.000000</td>\n",
       "      <td>0.000000</td>\n",
       "      <td>0.000000</td>\n",
       "      <td>1.000000</td>\n",
       "    </tr>\n",
       "    <tr>\n",
       "      <th>75%</th>\n",
       "      <td>6.982475e-01</td>\n",
       "      <td>4.904999e-01</td>\n",
       "      <td>7.639003e-01</td>\n",
       "      <td>8.190684e-01</td>\n",
       "      <td>8.207896e-01</td>\n",
       "      <td>1.000000</td>\n",
       "      <td>1.000000</td>\n",
       "      <td>8.600788e-01</td>\n",
       "      <td>1.000000</td>\n",
       "      <td>1.000000</td>\n",
       "      <td>0.000000</td>\n",
       "      <td>1.000000</td>\n",
       "      <td>1.000000</td>\n",
       "    </tr>\n",
       "    <tr>\n",
       "      <th>max</th>\n",
       "      <td>2.063429e+00</td>\n",
       "      <td>4.314936e+00</td>\n",
       "      <td>1.678143e+00</td>\n",
       "      <td>2.598957e+00</td>\n",
       "      <td>4.270693e+00</td>\n",
       "      <td>1.000000</td>\n",
       "      <td>1.000000</td>\n",
       "      <td>1.721076e+00</td>\n",
       "      <td>1.000000</td>\n",
       "      <td>1.000000</td>\n",
       "      <td>1.000000</td>\n",
       "      <td>1.000000</td>\n",
       "      <td>1.000000</td>\n",
       "    </tr>\n",
       "  </tbody>\n",
       "</table>\n",
       "</div>"
      ],
      "text/plain": [
       "        CreditScore           Age        Tenure       Balance  NumOfProducts  \\\n",
       "count  6.000000e+03  6.000000e+03  6.000000e+03  6.000000e+03   6.000000e+03   \n",
       "mean  -2.652618e-16  1.622776e-16 -1.535068e-16  4.526009e-16   8.733754e-18   \n",
       "std    1.000083e+00  1.000083e+00  1.000083e+00  1.000083e+00   1.000083e+00   \n",
       "min   -3.107714e+00 -1.995384e+00 -1.674079e+00 -1.230315e+00  -9.041622e-01   \n",
       "25%   -6.876190e-01 -6.568310e-01 -7.598370e-01 -1.230315e+00  -9.041622e-01   \n",
       "50%    2.599879e-02 -1.787765e-01  1.544054e-01  3.290932e-01  -9.041622e-01   \n",
       "75%    6.982475e-01  4.904999e-01  7.639003e-01  8.190684e-01   8.207896e-01   \n",
       "max    2.063429e+00  4.314936e+00  1.678143e+00  2.598957e+00   4.270693e+00   \n",
       "\n",
       "         HasCrCard  IsActiveMember  EstimatedSalary            0            1  \\\n",
       "count  6000.000000     6000.000000     6.000000e+03  6000.000000  6000.000000   \n",
       "mean      0.700000        0.513667     2.278178e-16     0.503333     0.250167   \n",
       "std       0.458296        0.499855     1.000083e+00     0.500031     0.433145   \n",
       "min       0.000000        0.000000    -1.741446e+00     0.000000     0.000000   \n",
       "25%       0.000000        0.000000    -8.584949e-01     0.000000     0.000000   \n",
       "50%       1.000000        1.000000    -1.139565e-02     1.000000     0.000000   \n",
       "75%       1.000000        1.000000     8.600788e-01     1.000000     1.000000   \n",
       "max       1.000000        1.000000     1.721076e+00     1.000000     1.000000   \n",
       "\n",
       "                 2            3            4  \n",
       "count  6000.000000  6000.000000  6000.000000  \n",
       "mean      0.246500     0.450000     0.550000  \n",
       "std       0.431009     0.497535     0.497535  \n",
       "min       0.000000     0.000000     0.000000  \n",
       "25%       0.000000     0.000000     0.000000  \n",
       "50%       0.000000     0.000000     1.000000  \n",
       "75%       0.000000     1.000000     1.000000  \n",
       "max       1.000000     1.000000     1.000000  "
      ]
     },
     "execution_count": 26,
     "metadata": {},
     "output_type": "execute_result"
    }
   ],
   "source": [
    "features_train.describe()"
   ]
  },
  {
   "cell_type": "markdown",
   "metadata": {},
   "source": [
    "На валидационных и тестовых данных картина должна быть такой же, их выводить не будем."
   ]
  },
  {
   "cell_type": "markdown",
   "metadata": {},
   "source": [
    "На этапе подготовки данные были загружены и изучены.\n",
    "\n",
    "Ненужные колонки RowNumber (Номер строки), CustomerId (ID клиента) и Surname (Фамилия) удалены, а пропуски в колонке Tenure заполнены.\n",
    "\n",
    "Данные были разбиты на три выборки в соотношении 60/20/20.\n",
    "\n",
    "Произведено кодирование категориальных колонок 'Geography', 'Gender' техникой OneHotEncoding и стандартизация данных в колонках 'CreditScore', 'Age', 'Tenure', 'Balance', 'NumOfProducts', 'EstimatedSalary' с помощью функции StandardScaler."
   ]
  },
  {
   "cell_type": "markdown",
   "metadata": {},
   "source": [
    "## Исследование задачи"
   ]
  },
  {
   "cell_type": "markdown",
   "metadata": {},
   "source": [
    "Посмотрим на баланс классов."
   ]
  },
  {
   "cell_type": "code",
   "execution_count": 27,
   "metadata": {},
   "outputs": [
    {
     "data": {
      "text/plain": [
       "0    0.7963\n",
       "1    0.2037\n",
       "Name: Exited, dtype: float64"
      ]
     },
     "execution_count": 27,
     "metadata": {},
     "output_type": "execute_result"
    }
   ],
   "source": [
    "target.value_counts(normalize=True)"
   ]
  },
  {
   "cell_type": "code",
   "execution_count": 28,
   "metadata": {},
   "outputs": [
    {
     "data": {
      "image/png": "[encoded data removed]",
      "text/plain": [
       "<Figure size 640x480 with 1 Axes>"
      ]
     },
     "metadata": {},
     "output_type": "display_data"
    }
   ],
   "source": [
    "target.value_counts(normalize=True).plot(kind='barh', xlim=(0, 1), title='Баланс классов');"
   ]
  },
  {
   "cell_type": "markdown",
   "metadata": {},
   "source": [
    "Наблюдается сильный дисбаланс в пользу отрицательного класса.\n",
    "\n",
    "Протестируем модели в текущих условиях.\n",
    "\n",
    "Для начала напишем несколько вспомогательных функций."
   ]
  },
  {
   "cell_type": "code",
   "execution_count": 29,
   "metadata": {},
   "outputs": [],
   "source": [
    "def count_model_metrics(model, features_train, target_train, features_valid, target_valid):\n",
    "    model.fit(features_train, target_train)\n",
    "    predictions_valid = model.predict(features_valid)\n",
    "    predictions_proba_valid_one = model.predict_proba(features_valid)[:,1]\n",
    "    f1 = f1_score(target_valid, predictions_valid)\n",
    "    roc_auc = roc_auc_score(target_valid, predictions_proba_valid_one)\n",
    "    return model, f1, roc_auc\n",
    "\n",
    "def test_log_reg(features_train, target_train, features_valid, target_valid, class_weight=None):\n",
    "    print ('Тестируем модель логической регрессии:')\n",
    "    model = LogisticRegression(random_state=12345, solver='liblinear', class_weight=class_weight)\n",
    "    model, f1, roc_auc = count_model_metrics(\n",
    "        model, features_train, target_train, features_valid, target_valid\n",
    "    )\n",
    "    print (model)\n",
    "    print(f'F1_score: {f1}')\n",
    "    print(f'Roc_auc_score: {roc_auc}')\n",
    "    print()\n",
    "    \n",
    "def test_tree(features_train, target_train, features_valid, target_valid, class_weight=None):\n",
    "    print ('Тестируем модель решающего дерева:')\n",
    "    f1_max = 0\n",
    "    f1_save = 0\n",
    "    roc_auc_max = 0\n",
    "    roc_auc_save = 0\n",
    "    best_model_by_f1 = 'not_found'\n",
    "    best_model_by_roc_auc = 'not_found'\n",
    "    for depth in range (1, 31, 1):\n",
    "        model = DecisionTreeClassifier(random_state=12345, max_depth=depth, class_weight=class_weight)\n",
    "        model, f1, roc_auc = count_model_metrics(\n",
    "            model, features_train, target_train, features_valid, target_valid\n",
    "        )\n",
    "        if f1 > f1_max:\n",
    "            f1_max = f1\n",
    "            roc_auc_save = roc_auc\n",
    "            best_model_by_f1 = model\n",
    "        if roc_auc > roc_auc_max:\n",
    "            f1_save = f1\n",
    "            roc_auc_max = roc_auc\n",
    "            best_model_by_roc_auc = model\n",
    "    print (f'Лучшая модель по показателю F1-меры: {best_model_by_f1}')\n",
    "    print (f'F1_score: {f1_max}')\n",
    "    print (f'Roc_auc_score: {roc_auc_save}')\n",
    "    print (f'Лучшая модель по показателю roc_auc: {best_model_by_roc_auc}')\n",
    "    print (f'F1_score: {f1_save}')\n",
    "    print (f'Roc_auc_score: {roc_auc_max}')\n",
    "    print()\n",
    "    \n",
    "def test_forest(features_train, target_train, features_valid, target_valid, class_weight=None):\n",
    "    print ('Тестируем модель случайного леса:')\n",
    "    f1_max = 0\n",
    "    f1_save = 0\n",
    "    roc_auc_max = 0\n",
    "    roc_auc_save = 0\n",
    "    best_model_by_f1 = 'not_found'\n",
    "    best_model_by_roc_auc = 'not_found'\n",
    "    for est in range(20, 150, 10):\n",
    "        for depth in range (6, 18, 1):\n",
    "            model = RandomForestClassifier(\n",
    "                n_estimators=est, max_depth=depth, random_state=12345, class_weight=class_weight\n",
    "            )\n",
    "            model, f1, roc_auc = count_model_metrics(\n",
    "                model, features_train, target_train, features_valid, target_valid\n",
    "            )\n",
    "            if f1 > f1_max:\n",
    "                f1_max = f1\n",
    "                roc_auc_save = roc_auc\n",
    "                best_model_by_f1 = model\n",
    "            if roc_auc > roc_auc_max:\n",
    "                f1_save = f1\n",
    "                roc_auc_max = roc_auc\n",
    "                best_model_by_roc_auc = model\n",
    "    print (f'Лучшая модель по показателю F1-меры: {best_model_by_f1}')\n",
    "    print (f'F1_score: {f1_max}')\n",
    "    print (f'Roc_auc_score: {roc_auc_save}')\n",
    "    print (f'Лучшая модель по показателю roc_auc: {best_model_by_roc_auc}')\n",
    "    print (f'F1_score: {f1_save}')\n",
    "    print (f'Roc_auc_score: {roc_auc_max}')\n",
    "    print()\n",
    "    \n",
    "def test_models(features_train, target_train, features_valid, target_valid, class_weight=None):\n",
    "    dt = [features_train, target_train, features_valid, target_valid]\n",
    "    test_log_reg(*dt, class_weight)\n",
    "    test_tree(*dt, class_weight)\n",
    "    test_forest(*dt, class_weight)"
   ]
  },
  {
   "cell_type": "code",
   "execution_count": 30,
   "metadata": {},
   "outputs": [],
   "source": [
    "dt = [features_train, target_train, features_valid, target_valid]"
   ]
  },
  {
   "cell_type": "code",
   "execution_count": 31,
   "metadata": {
    "scrolled": false
   },
   "outputs": [
    {
     "name": "stdout",
     "output_type": "stream",
     "text": [
      "Тестируем модель логической регрессии:\n",
      "LogisticRegression(random_state=12345, solver='liblinear')\n",
      "F1_score: 0.29981718464351004\n",
      "Roc_auc_score: 0.7720478567936195\n",
      "\n",
      "Тестируем модель решающего дерева:\n",
      "Лучшая модель по показателю F1-меры: DecisionTreeClassifier(max_depth=9, random_state=12345)\n",
      "F1_score: 0.5726744186046512\n",
      "Roc_auc_score: 0.7970620851976783\n",
      "Лучшая модель по показателю roc_auc: DecisionTreeClassifier(max_depth=5, random_state=12345)\n",
      "F1_score: 0.5113043478260869\n",
      "Roc_auc_score: 0.8401722215281537\n",
      "\n",
      "Тестируем модель случайного леса:\n",
      "Лучшая модель по показателю F1-меры: RandomForestClassifier(max_depth=16, n_estimators=60, random_state=12345)\n",
      "F1_score: 0.5990783410138248\n",
      "Roc_auc_score: 0.8546790241705496\n",
      "Лучшая модель по показателю roc_auc: RandomForestClassifier(max_depth=9, n_estimators=110, random_state=12345)\n",
      "F1_score: 0.5705128205128205\n",
      "Roc_auc_score: 0.8603873519127756\n",
      "\n",
      "CPU times: user 53.5 s, sys: 479 ms, total: 53.9 s\n",
      "Wall time: 53.3 s\n"
     ]
    }
   ],
   "source": [
    "%%time\n",
    "test_models(*dt)"
   ]
  },
  {
   "cell_type": "markdown",
   "metadata": {},
   "source": [
    "Показатели моделей невысокие. Лучшие показатели у моделей случайного леса с глубиной 16 и количеством деревьев 60 (F1-мера: 0.599, roc_auc: 0.855) и глубиной 9 и количеством деревьев 110 (F1-мера: 0.571, roc_auc: 0.860).\n",
    "\n",
    "По показателю F1-меры модель случайного леса с глубиной 16 и количеством деревьев 60 достигла требуемой по условиям задачи величины F1-меры на валидационных данных."
   ]
  },
  {
   "cell_type": "markdown",
   "metadata": {},
   "source": [
    "## Борьба с дисбалансом"
   ]
  },
  {
   "cell_type": "markdown",
   "metadata": {},
   "source": [
    "Дисбаланс можно устранить техниками upsampling (дублирование объектов меньшего класса) или downsampling (удаление части объектов большего класса).\n",
    "\n",
    "Можно также использовать встроенный в модели параметр class_weight.\n",
    "\n",
    "Проверим какая методика даст лучший результат.\n",
    "\n",
    "Для начала напишем вспомогательные функции, потом используем их чтобы сбалансировать классы и провести тесты."
   ]
  },
  {
   "cell_type": "code",
   "execution_count": 32,
   "metadata": {},
   "outputs": [],
   "source": [
    "def divide_classes(features, target):\n",
    "    features_zeros = features[target==0]\n",
    "    features_ones = features[target==1]\n",
    "    target_zeros = target[target==0]\n",
    "    target_ones = target[target==1]\n",
    "    return features_zeros, features_ones, target_zeros, target_ones\n",
    "\n",
    "def upsample(features, target, repeat):\n",
    "    features_zeros, features_ones, target_zeros, target_ones = (\n",
    "        divide_classes(features, target)\n",
    "    )\n",
    "    \n",
    "    features_upsampled = pd.concat([features_zeros] + [features_ones] * repeat)\n",
    "    target_upsampled = pd.concat([target_zeros] + [target_ones] * repeat)\n",
    "    \n",
    "    features_upsampled, target_upsampled = shuffle(\n",
    "        features_upsampled, target_upsampled, random_state=12345)\n",
    "    \n",
    "    return features_upsampled, target_upsampled\n",
    "\n",
    "def downsample(features, target, fraction):\n",
    "    features_zeros, features_ones, target_zeros, target_ones = (\n",
    "        divide_classes(features, target)\n",
    "    )\n",
    "    \n",
    "    features_downsampled = pd.concat([features_zeros.sample(frac=fraction)] + [features_ones])\n",
    "    target_downsampled = pd.concat([target_zeros.sample(frac=fraction)] + [target_ones])\n",
    "    \n",
    "    features_downsampled, target_downsampled = shuffle (\n",
    "        features_downsampled, target_downsampled, random_state=123456)\n",
    "    \n",
    "    return features_downsampled, target_downsampled"
   ]
  },
  {
   "cell_type": "markdown",
   "metadata": {},
   "source": [
    "Сбалансируем классы используя технику upsampling."
   ]
  },
  {
   "cell_type": "code",
   "execution_count": 33,
   "metadata": {},
   "outputs": [],
   "source": [
    "features_train_upsampled, target_train_upsampled = upsample(features_train, target_train, 4)"
   ]
  },
  {
   "cell_type": "code",
   "execution_count": 34,
   "metadata": {},
   "outputs": [
    {
     "data": {
      "text/plain": [
       "(9666, 13)"
      ]
     },
     "execution_count": 34,
     "metadata": {},
     "output_type": "execute_result"
    }
   ],
   "source": [
    "features_train_upsampled.shape"
   ]
  },
  {
   "cell_type": "code",
   "execution_count": 35,
   "metadata": {},
   "outputs": [
    {
     "data": {
      "text/plain": [
       "1    0.50569\n",
       "0    0.49431\n",
       "Name: Exited, dtype: float64"
      ]
     },
     "execution_count": 35,
     "metadata": {},
     "output_type": "execute_result"
    }
   ],
   "source": [
    "target_train_upsampled.value_counts(normalize=True)"
   ]
  },
  {
   "cell_type": "markdown",
   "metadata": {},
   "source": [
    "Сбалансируем классы используя технику downsampling."
   ]
  },
  {
   "cell_type": "code",
   "execution_count": 36,
   "metadata": {},
   "outputs": [],
   "source": [
    "features_train_downsampled, target_train_downsampled = downsample(features_train, target_train, 0.25)"
   ]
  },
  {
   "cell_type": "code",
   "execution_count": 37,
   "metadata": {},
   "outputs": [
    {
     "data": {
      "text/plain": [
       "(2416, 13)"
      ]
     },
     "execution_count": 37,
     "metadata": {},
     "output_type": "execute_result"
    }
   ],
   "source": [
    "features_train_downsampled.shape"
   ]
  },
  {
   "cell_type": "code",
   "execution_count": 38,
   "metadata": {},
   "outputs": [
    {
     "data": {
      "text/plain": [
       "1    0.505795\n",
       "0    0.494205\n",
       "Name: Exited, dtype: float64"
      ]
     },
     "execution_count": 38,
     "metadata": {},
     "output_type": "execute_result"
    }
   ],
   "source": [
    "target_train_downsampled.value_counts(normalize=True)"
   ]
  },
  {
   "cell_type": "markdown",
   "metadata": {},
   "source": [
    "Классы успешно сбалансированы двумя методами."
   ]
  },
  {
   "cell_type": "markdown",
   "metadata": {},
   "source": [
    "Проведем тестирование моделей с учетом балансировки классов.\n",
    "\n",
    "Протестируем модели на данных, сбалансированных техникой upsample."
   ]
  },
  {
   "cell_type": "code",
   "execution_count": 39,
   "metadata": {},
   "outputs": [],
   "source": [
    "dt_upsampled = [features_train_upsampled,\n",
    "                target_train_upsampled,\n",
    "                features_valid,\n",
    "                target_valid]"
   ]
  },
  {
   "cell_type": "code",
   "execution_count": 40,
   "metadata": {},
   "outputs": [
    {
     "name": "stdout",
     "output_type": "stream",
     "text": [
      "Тестируем модель логической регрессии:\n",
      "LogisticRegression(random_state=12345, solver='liblinear')\n",
      "F1_score: 0.4965277777777777\n",
      "Roc_auc_score: 0.7722159756058061\n",
      "\n",
      "Тестируем модель решающего дерева:\n",
      "Лучшая модель по показателю F1-меры: DecisionTreeClassifier(max_depth=7, random_state=12345)\n",
      "F1_score: 0.5620155038759691\n",
      "Roc_auc_score: 0.805673161605365\n",
      "Лучшая модель по показателю roc_auc: DecisionTreeClassifier(max_depth=5, random_state=12345)\n",
      "F1_score: 0.554089709762533\n",
      "Roc_auc_score: 0.836069505561031\n",
      "\n",
      "Тестируем модель случайного леса:\n",
      "Лучшая модель по показателю F1-меры: RandomForestClassifier(max_depth=12, n_estimators=120, random_state=12345)\n",
      "F1_score: 0.6385093167701863\n",
      "Roc_auc_score: 0.861346708804336\n",
      "Лучшая модель по показателю roc_auc: RandomForestClassifier(max_depth=9, n_estimators=130, random_state=12345)\n",
      "F1_score: 0.6263736263736264\n",
      "Roc_auc_score: 0.8620731671579129\n",
      "\n",
      "CPU times: user 1min 15s, sys: 549 ms, total: 1min 15s\n",
      "Wall time: 1min 14s\n"
     ]
    }
   ],
   "source": [
    "%%time\n",
    "test_models(*dt_upsampled)"
   ]
  },
  {
   "cell_type": "markdown",
   "metadata": {},
   "source": [
    "Протестируем модели на данных, сбалансированных техникой downsample."
   ]
  },
  {
   "cell_type": "code",
   "execution_count": 41,
   "metadata": {},
   "outputs": [],
   "source": [
    "dt_downsampled = [features_train_downsampled,\n",
    "                  target_train_downsampled,\n",
    "                  features_valid,\n",
    "                  target_valid]"
   ]
  },
  {
   "cell_type": "code",
   "execution_count": 42,
   "metadata": {},
   "outputs": [
    {
     "name": "stdout",
     "output_type": "stream",
     "text": [
      "Тестируем модель логической регрессии:\n",
      "LogisticRegression(random_state=12345, solver='liblinear')\n",
      "F1_score: 0.48961937716262977\n",
      "Roc_auc_score: 0.7705070247443129\n",
      "\n",
      "Тестируем модель решающего дерева:\n",
      "Лучшая модель по показателю F1-меры: DecisionTreeClassifier(max_depth=7, random_state=12345)\n",
      "F1_score: 0.5414680648236415\n",
      "Roc_auc_score: 0.8002093002093003\n",
      "Лучшая модель по показателю roc_auc: DecisionTreeClassifier(max_depth=5, random_state=12345)\n",
      "F1_score: 0.53886925795053\n",
      "Roc_auc_score: 0.8259075716702836\n",
      "\n",
      "Тестируем модель случайного леса:\n",
      "Лучшая модель по показателю F1-меры: RandomForestClassifier(max_depth=11, n_estimators=130, random_state=12345)\n",
      "F1_score: 0.5923076923076923\n",
      "Roc_auc_score: 0.8566825685469753\n",
      "Лучшая модель по показателю roc_auc: RandomForestClassifier(max_depth=10, n_estimators=130, random_state=12345)\n",
      "F1_score: 0.5872093023255814\n",
      "Roc_auc_score: 0.8585071974902484\n",
      "\n",
      "CPU times: user 30.3 s, sys: 356 ms, total: 30.6 s\n",
      "Wall time: 29.5 s\n"
     ]
    }
   ],
   "source": [
    "%%time\n",
    "test_models(*dt_downsampled)"
   ]
  },
  {
   "cell_type": "markdown",
   "metadata": {},
   "source": [
    "Также протестируем модели на несбалансированных данных, но с использованием встроенного в модели параметра class_weight, придав ему значение 'balanced'."
   ]
  },
  {
   "cell_type": "code",
   "execution_count": 43,
   "metadata": {},
   "outputs": [
    {
     "name": "stdout",
     "output_type": "stream",
     "text": [
      "Тестируем модель логической регрессии:\n",
      "LogisticRegression(class_weight='balanced', random_state=12345,\n",
      "                   solver='liblinear')\n",
      "F1_score: 0.5008787346221442\n",
      "Roc_auc_score: 0.7722421959710095\n",
      "\n",
      "Тестируем модель решающего дерева:\n",
      "Лучшая модель по показателю F1-меры: DecisionTreeClassifier(class_weight='balanced', max_depth=8, random_state=12345)\n",
      "F1_score: 0.5711442786069652\n",
      "Roc_auc_score: 0.8165607826624777\n",
      "Лучшая модель по показателю roc_auc: DecisionTreeClassifier(class_weight='balanced', max_depth=5, random_state=12345)\n",
      "F1_score: 0.5340050377833753\n",
      "Roc_auc_score: 0.8358551155161323\n",
      "\n",
      "Тестируем модель случайного леса:\n",
      "Лучшая модель по показателю F1-меры: RandomForestClassifier(class_weight='balanced', max_depth=10, n_estimators=140,\n",
      "                       random_state=12345)\n",
      "F1_score: 0.6412213740458016\n",
      "Roc_auc_score: 0.8609626575728271\n",
      "Лучшая модель по показателю roc_auc: RandomForestClassifier(class_weight='balanced', max_depth=11, n_estimators=110,\n",
      "                       random_state=12345)\n",
      "F1_score: 0.620782726045884\n",
      "Roc_auc_score: 0.8637250501657281\n",
      "\n",
      "CPU times: user 53.7 s, sys: 410 ms, total: 54.1 s\n",
      "Wall time: 53.1 s\n"
     ]
    }
   ],
   "source": [
    "%%time\n",
    "test_models(*dt, class_weight='balanced')"
   ]
  },
  {
   "cell_type": "markdown",
   "metadata": {},
   "source": [
    "По результатам проведенных тестов можно сделать вывод что все три способа борьбы с дисбалансом классов показывают схожие результаты.\n",
    "\n",
    "Лучший результат по показателю F1-меры у модели случайного леса при использовании несбалансированных данных и с параметром модели class_weight='balanced'. F1-мера равна 0,647, показатель roc_auc составляет 0.860 при максимальной глубине 9 и количестве дереврьев 140.\n",
    "\n",
    "Лучший результат по показателю roc_auc у модели случайного леса при использовании также несбалансированных данных и с параметром модели class_weight='balanced'. F1-мера равна 0,635, показатель roc_auc составил 0,866, при максимальной глубине 11 и количестве дереврьев 90."
   ]
  },
  {
   "cell_type": "markdown",
   "metadata": {},
   "source": [
    "## Тестирование модели"
   ]
  },
  {
   "cell_type": "markdown",
   "metadata": {},
   "source": [
    "Посмотрим результаты двух лучших моделей по показателям F1-меры и roc_auc на тестовых данных.\n",
    "\n",
    "Для начала создадим модели и еще раз посмотрим их результаты на валидационных данных."
   ]
  },
  {
   "cell_type": "code",
   "execution_count": 44,
   "metadata": {},
   "outputs": [
    {
     "name": "stdout",
     "output_type": "stream",
     "text": [
      "RandomForestClassifier(class_weight='balanced', max_depth=9, n_estimators=140,\n",
      "                       random_state=12345)\n",
      "F1_score: 0.6301703163017032\n",
      "Roc_auc_score: 0.8587277570328418\n",
      "\n",
      "RandomForestClassifier(class_weight='balanced', max_depth=11, n_estimators=90,\n",
      "                       random_state=12345)\n",
      "F1_score: 0.6209677419354839\n",
      "Roc_auc_score: 0.8637235077913045\n",
      "\n"
     ]
    }
   ],
   "source": [
    "model_1 = RandomForestClassifier(n_estimators=140, max_depth=9, class_weight='balanced', random_state=12345)\n",
    "model_1.fit(features_train, target_train)\n",
    "\n",
    "model_2 = RandomForestClassifier(n_estimators=90, max_depth=11, class_weight='balanced', random_state=12345)\n",
    "model_2.fit(features_train, target_train)\n",
    "\n",
    "for model in [model_1, model_2]:\n",
    "    print(model)\n",
    "    predicted_valid = model.predict(features_valid)\n",
    "    predicted_proba_one_valid = model.predict_proba(features_valid)[:,1]\n",
    "    print(f'F1_score: {f1_score(target_valid, predicted_valid)}')\n",
    "    print(f'Roc_auc_score: {roc_auc_score(target_valid, predicted_proba_one_valid)}')\n",
    "    print()"
   ]
  },
  {
   "cell_type": "markdown",
   "metadata": {},
   "source": [
    "Теперь посмотрим на результаты моделей на тестовых данных"
   ]
  },
  {
   "cell_type": "code",
   "execution_count": 45,
   "metadata": {},
   "outputs": [
    {
     "name": "stdout",
     "output_type": "stream",
     "text": [
      "RandomForestClassifier(class_weight='balanced', max_depth=9, n_estimators=140,\n",
      "                       random_state=12345)\n",
      "F1_score: 0.6241457858769932\n",
      "Roc_auc_score: 0.8590901812986501\n",
      "\n",
      "RandomForestClassifier(class_weight='balanced', max_depth=11, n_estimators=90,\n",
      "                       random_state=12345)\n",
      "F1_score: 0.6167741935483871\n",
      "Roc_auc_score: 0.8548317568233323\n",
      "\n"
     ]
    }
   ],
   "source": [
    "for model in [model_1, model_2]:\n",
    "    print(model)\n",
    "    predicted_test = model.predict(features_test)\n",
    "    predicted_proba_one_test = model.predict_proba(features_test)[:,1]\n",
    "    print(f'F1_score: {f1_score(target_test, predicted_test)}')\n",
    "    print(f'Roc_auc_score: {roc_auc_score(target_test, predicted_proba_one_test)}')\n",
    "    print()"
   ]
  },
  {
   "cell_type": "markdown",
   "metadata": {},
   "source": [
    "Результаты схожи с результатами на валидационных данных, лишь немного им уступая. Необходимый уровень F1-меры (не менее 0,59) достигнут."
   ]
  },
  {
   "cell_type": "markdown",
   "metadata": {},
   "source": [
    "В качестве быстрой меры для улучшения метрик попробуем обучить модели используя обучающие и валидационные данные. Проверим улучшит ли это качество модели на тестовых данных."
   ]
  },
  {
   "cell_type": "code",
   "execution_count": 46,
   "metadata": {},
   "outputs": [
    {
     "name": "stdout",
     "output_type": "stream",
     "text": [
      "RandomForestClassifier(class_weight='balanced', max_depth=9, n_estimators=140,\n",
      "                       random_state=12345)\n",
      "F1_score: 0.6245847176079734\n",
      "Roc_auc_score: 0.8610423440733077\n",
      "\n",
      "RandomForestClassifier(class_weight='balanced', max_depth=11, n_estimators=90,\n",
      "                       random_state=12345)\n",
      "F1_score: 0.6278787878787878\n",
      "Roc_auc_score: 0.8588684845797616\n",
      "\n"
     ]
    }
   ],
   "source": [
    "for model in [model_1, model_2]:\n",
    "    print(model)\n",
    "    model.fit(pd.concat([features_train, features_valid]),\n",
    "             pd.concat([target_train, target_valid]))\n",
    "    predicted_test = model.predict(features_test)\n",
    "    predicted_proba_one_test = model.predict_proba(features_test)[:,1]\n",
    "    print(f'F1_score: {f1_score(target_test, predicted_test)}')\n",
    "    print(f'Roc_auc_score: {roc_auc_score(target_test, predicted_proba_one_test)}')\n",
    "    print()"
   ]
  },
  {
   "cell_type": "markdown",
   "metadata": {},
   "source": [
    "\"Дообучение\" помогло немного улучшить модели."
   ]
  },
  {
   "cell_type": "markdown",
   "metadata": {},
   "source": [
    "В качестве двух лучших моделей можно указать следующие.\n",
    "\n",
    "1. model_1 - модель случайного леса с параметрами n_estimators=140, max_depth=9, class_weight='balanced', random_state=12345, обученная на несбалансированных данных двух объединенных выборок (обучающая плюс валидационная). Ее F1-мера на тестовых данных равна 0.624, а показатель roc_auc составил 0.861.\n",
    "2. model_2 - модель случайного леса с параметрами n_estimators=90, max_depth=11, class_weight='balanced', random_state=12345, обученная на несбалансированных данных двух объединенных выборок (обучающая плюс валидационная). Ее F1-мера на тестовых данных равна 0.628, а показатель roc_auc составил 0.859.\n",
    "\n",
    "Обе модели показывают уровень F1-меры выше требуемого, показатель roc_auc составляет 0,861 и 0,859 на тестовых данных."
   ]
  },
  {
   "cell_type": "markdown",
   "metadata": {},
   "source": [
    "## Вывод"
   ]
  },
  {
   "cell_type": "markdown",
   "metadata": {},
   "source": [
    "На этапе подготовки данные были загружены и изучены.\n",
    "\n",
    "Ненужные колонки RowNumber (Номер строки), CustomerId (ID клиента) и Surname (Фамилия) удалены, а пропуски в колонке Tenure заполнены.\n",
    "\n",
    "Данные были разбиты на три выборки в соотношении 60/20/20.\n",
    "\n",
    "Произведено кодирование категориальных колонок 'Geography', 'Gender' техникой OneHotEncoding и стандартизация данных в колонках 'CreditScore', 'Age', 'Tenure', 'Balance', 'NumOfProducts', 'EstimatedSalary' с помощью функции StandardScaler.\n",
    "\n",
    "В ходе изучения данных выявлен сильный дисбаланс в сторону отрицательного класса.\n",
    "\n",
    "Создано три модели - логической регрессии, решающего дерево и случайного леса. Модели протестированы на несбалансированных данных. Показатели моделей логической регрессии и решающего дерева на несбалансированных данных невысокие. Лучшие показатели у моделей случайного леса с глубиной 16 и количеством деревьев 60 (F1-мера: 0.599, roc_auc: 0.860) и глубиной 9 и количеством деревьев 110 (F1-мера: 0.571, roc_auc: 0.860).\n",
    "\n",
    "По показателю F1-меры модель случайного леса с глубиной 16 и количеством деревьев 60 достигла требуемой по условиям задачи величины F1-меры на валидационных данных.\n",
    "\n",
    "Произведена балансировка данных двумя методами: upsampling и downsampling.\n",
    "\n",
    "Модели протестированы на сбалансированных данных, а также на несбалансированных, но с применением встроенных в модели параметров class_weight со значением 'balanced'.\n",
    "\n",
    "Использование сбалансированных данных сильно улучшило результаты логистической регрессии, однако ее показатели все равно остались низкими.\n",
    "\n",
    "На модели решающего дерева балансировка данных повлияла незначительно.\n",
    "\n",
    "Модели случайного леса улучшили свои результаты и в итоге две из них с показателями F1-мера: 0.647, Roc_auc: 0.860 и F1-мера: 0.635, Roc_auc: 0.866 были выбраны для финального тестирования.\n",
    "\n",
    "На тестовых данных они показали схожие результаты. В качестве быстрой меры для улучшения модели они были переобучены на соединенной выборке (обучающая плюс валидационная). Переобучение еще немного улучшило показатели моделей на тестовых данных.\n",
    "\n",
    "В качестве двух лучших моделей выбраны следующие:\n",
    "\n",
    "- model_1 - модель случайного леса с параметрами n_estimators=140, max_depth=9, class_weight='balanced', random_state=12345, обученная на несбалансированных данных двух объединенных выборок (обучающая плюс валидационная). Ее F1-мера на тестовых данных равна 0.624, а показатель roc_auc составил 0.861.\n",
    "- model_2 - модель случайного леса с параметрами n_estimators=90, max_depth=11, class_weight='balanced', random_state=12345, обученная на несбалансированных данных двух объединенных выборок (обучающая плюс валидационная). Ее F1-мера на тестовых данных равна 0.628, а показатель roc_auc составил 0.859.\n",
    "\n",
    "\n",
    "\n",
    "Обе модели показывают уровень F1-меры выше требуемого (не менее 0,59), показатель roc_auc составляет 0,861 и 0.859 на тестовых данных.\n"
   ]
  },
  {
   "cell_type": "markdown",
   "metadata": {},
   "source": [
    "## Чек-лист готовности проекта"
   ]
  },
  {
   "cell_type": "markdown",
   "metadata": {},
   "source": [
    "Поставьте 'x' в выполненных пунктах. Далее нажмите Shift+Enter."
   ]
  },
  {
   "cell_type": "markdown",
   "metadata": {},
   "source": [
    "- [x]  Jupyter Notebook открыт\n",
    "- [ ]  Весь код выполняется без ошибок\n",
    "- [ ]  Ячейки с кодом расположены в порядке исполнения\n",
    "- [ ]  Выполнен шаг 1: данные подготовлены\n",
    "- [ ]  Выполнен шаг 2: задача исследована\n",
    "    - [ ]  Исследован баланс классов\n",
    "    - [ ]  Изучены модели без учёта дисбаланса\n",
    "    - [ ]  Написаны выводы по результатам исследования\n",
    "- [ ]  Выполнен шаг 3: учтён дисбаланс\n",
    "    - [ ]  Применено несколько способов борьбы с дисбалансом\n",
    "    - [ ]  Написаны выводы по результатам исследования\n",
    "- [ ]  Выполнен шаг 4: проведено тестирование\n",
    "- [ ]  Удалось достичь *F1*-меры не менее 0.59\n",
    "- [ ]  Исследована метрика *AUC-ROC*"
   ]
  },
  {
   "cell_type": "markdown",
   "metadata": {},
   "source": [
    "## Финальные комментарии ревьюера"
   ]
  }
 ],
 "metadata": {
  "ExecuteTimeLog": [
   {
    "duration": 56,
    "start_time": "2023-03-25T07:55:24.896Z"
   },
   {
    "duration": 405,
    "start_time": "2023-03-25T07:55:26.855Z"
   },
   {
    "duration": 187,
    "start_time": "2023-03-25T07:55:27.272Z"
   },
   {
    "duration": 27,
    "start_time": "2023-03-25T07:55:43.455Z"
   },
   {
    "duration": 15,
    "start_time": "2023-03-25T07:55:55.637Z"
   },
   {
    "duration": 59,
    "start_time": "2023-03-25T08:01:46.118Z"
   },
   {
    "duration": 24,
    "start_time": "2023-03-25T08:01:55.702Z"
   },
   {
    "duration": 35,
    "start_time": "2023-03-25T08:02:04.166Z"
   },
   {
    "duration": 13,
    "start_time": "2023-03-25T08:02:18.909Z"
   },
   {
    "duration": 6,
    "start_time": "2023-03-25T08:02:57.927Z"
   },
   {
    "duration": 5,
    "start_time": "2023-03-25T08:03:14.337Z"
   },
   {
    "duration": 689,
    "start_time": "2023-03-25T08:07:31.614Z"
   },
   {
    "duration": 5,
    "start_time": "2023-03-25T08:08:22.133Z"
   },
   {
    "duration": 8,
    "start_time": "2023-03-25T08:15:57.235Z"
   },
   {
    "duration": 7,
    "start_time": "2023-03-25T08:16:07.082Z"
   },
   {
    "duration": 6,
    "start_time": "2023-03-25T08:16:29.399Z"
   },
   {
    "duration": 44,
    "start_time": "2023-03-25T08:16:38.901Z"
   },
   {
    "duration": 12,
    "start_time": "2023-03-25T08:18:00.330Z"
   },
   {
    "duration": 5,
    "start_time": "2023-03-25T08:18:01.073Z"
   },
   {
    "duration": 5,
    "start_time": "2023-03-25T08:18:02.040Z"
   },
   {
    "duration": 3,
    "start_time": "2023-03-25T08:18:02.729Z"
   },
   {
    "duration": 8,
    "start_time": "2023-03-25T08:18:31.640Z"
   },
   {
    "duration": 3,
    "start_time": "2023-03-25T08:18:47.745Z"
   },
   {
    "duration": 8,
    "start_time": "2023-03-25T08:18:48.232Z"
   },
   {
    "duration": 3,
    "start_time": "2023-03-25T08:19:05.665Z"
   },
   {
    "duration": 3,
    "start_time": "2023-03-25T08:19:13.017Z"
   },
   {
    "duration": 8,
    "start_time": "2023-03-25T08:19:21.201Z"
   },
   {
    "duration": 8,
    "start_time": "2023-03-25T08:19:25.264Z"
   },
   {
    "duration": 4,
    "start_time": "2023-03-25T08:19:55.768Z"
   },
   {
    "duration": 4,
    "start_time": "2023-03-25T08:22:14.856Z"
   },
   {
    "duration": 8,
    "start_time": "2023-03-25T08:22:15.455Z"
   },
   {
    "duration": 10,
    "start_time": "2023-03-25T08:22:34.776Z"
   },
   {
    "duration": 5,
    "start_time": "2023-03-25T08:23:03.743Z"
   },
   {
    "duration": 7,
    "start_time": "2023-03-25T08:23:16.919Z"
   },
   {
    "duration": 5,
    "start_time": "2023-03-25T08:23:26.831Z"
   },
   {
    "duration": 5,
    "start_time": "2023-03-25T08:23:33.854Z"
   },
   {
    "duration": 9,
    "start_time": "2023-03-25T08:23:34.710Z"
   },
   {
    "duration": 6,
    "start_time": "2023-03-25T08:23:39.319Z"
   },
   {
    "duration": 15,
    "start_time": "2023-03-25T08:23:58.302Z"
   },
   {
    "duration": 12,
    "start_time": "2023-03-25T08:25:02.518Z"
   },
   {
    "duration": 5,
    "start_time": "2023-03-25T08:25:03.870Z"
   },
   {
    "duration": 12,
    "start_time": "2023-03-25T08:25:19.303Z"
   },
   {
    "duration": 7,
    "start_time": "2023-03-25T08:25:24.342Z"
   },
   {
    "duration": 7,
    "start_time": "2023-03-25T08:25:42.673Z"
   },
   {
    "duration": 14,
    "start_time": "2023-03-25T08:26:00.943Z"
   },
   {
    "duration": 5,
    "start_time": "2023-03-25T08:26:01.699Z"
   },
   {
    "duration": 4,
    "start_time": "2023-03-25T08:26:02.071Z"
   },
   {
    "duration": 4,
    "start_time": "2023-03-25T08:26:02.470Z"
   },
   {
    "duration": 4,
    "start_time": "2023-03-25T08:26:02.857Z"
   },
   {
    "duration": 4,
    "start_time": "2023-03-25T08:26:03.317Z"
   },
   {
    "duration": 5,
    "start_time": "2023-03-25T08:26:03.892Z"
   },
   {
    "duration": 10,
    "start_time": "2023-03-25T08:27:52.718Z"
   },
   {
    "duration": 11,
    "start_time": "2023-03-25T08:28:15.702Z"
   },
   {
    "duration": 36,
    "start_time": "2023-03-25T08:28:56.676Z"
   },
   {
    "duration": 12,
    "start_time": "2023-03-25T08:29:36.421Z"
   },
   {
    "duration": 10,
    "start_time": "2023-03-25T08:29:48.932Z"
   },
   {
    "duration": 9,
    "start_time": "2023-03-25T08:30:45.252Z"
   },
   {
    "duration": 38,
    "start_time": "2023-03-25T08:30:53.772Z"
   },
   {
    "duration": 14,
    "start_time": "2023-03-25T08:31:25.253Z"
   },
   {
    "duration": 17,
    "start_time": "2023-03-25T08:32:44.452Z"
   },
   {
    "duration": 4,
    "start_time": "2023-03-25T08:33:10.889Z"
   },
   {
    "duration": 3,
    "start_time": "2023-03-25T08:39:14.443Z"
   },
   {
    "duration": 1049,
    "start_time": "2023-03-25T11:25:32.512Z"
   },
   {
    "duration": 99,
    "start_time": "2023-03-25T11:25:33.563Z"
   },
   {
    "duration": 26,
    "start_time": "2023-03-25T11:25:33.664Z"
   },
   {
    "duration": 16,
    "start_time": "2023-03-25T11:25:33.691Z"
   },
   {
    "duration": 17,
    "start_time": "2023-03-25T11:25:33.710Z"
   },
   {
    "duration": 4,
    "start_time": "2023-03-25T11:25:33.729Z"
   },
   {
    "duration": 5,
    "start_time": "2023-03-25T11:25:33.735Z"
   },
   {
    "duration": 7,
    "start_time": "2023-03-25T11:25:33.741Z"
   },
   {
    "duration": 10,
    "start_time": "2023-03-25T11:25:33.778Z"
   },
   {
    "duration": 5,
    "start_time": "2023-03-25T11:25:33.789Z"
   },
   {
    "duration": 7,
    "start_time": "2023-03-25T11:25:33.795Z"
   },
   {
    "duration": 9,
    "start_time": "2023-03-25T11:25:33.803Z"
   },
   {
    "duration": 3,
    "start_time": "2023-03-25T11:25:33.813Z"
   },
   {
    "duration": 103,
    "start_time": "2023-03-25T11:51:45.737Z"
   },
   {
    "duration": 7,
    "start_time": "2023-03-25T11:51:48.442Z"
   },
   {
    "duration": 3,
    "start_time": "2023-03-25T11:51:53.331Z"
   },
   {
    "duration": 42,
    "start_time": "2023-03-25T11:51:53.336Z"
   },
   {
    "duration": 11,
    "start_time": "2023-03-25T11:51:53.380Z"
   },
   {
    "duration": 12,
    "start_time": "2023-03-25T11:51:53.392Z"
   },
   {
    "duration": 10,
    "start_time": "2023-03-25T11:51:53.406Z"
   },
   {
    "duration": 3,
    "start_time": "2023-03-25T11:51:53.418Z"
   },
   {
    "duration": 7,
    "start_time": "2023-03-25T11:51:53.422Z"
   },
   {
    "duration": 5,
    "start_time": "2023-03-25T11:51:53.431Z"
   },
   {
    "duration": 5,
    "start_time": "2023-03-25T11:51:53.437Z"
   },
   {
    "duration": 30,
    "start_time": "2023-03-25T11:51:53.444Z"
   },
   {
    "duration": 8,
    "start_time": "2023-03-25T11:51:53.475Z"
   },
   {
    "duration": 7,
    "start_time": "2023-03-25T11:51:53.485Z"
   },
   {
    "duration": 10,
    "start_time": "2023-03-25T11:51:53.494Z"
   },
   {
    "duration": 0,
    "start_time": "2023-03-25T11:51:53.506Z"
   },
   {
    "duration": 17,
    "start_time": "2023-03-25T11:52:23.825Z"
   },
   {
    "duration": 11,
    "start_time": "2023-03-25T11:53:21.529Z"
   },
   {
    "duration": 4,
    "start_time": "2023-03-25T11:53:22.730Z"
   },
   {
    "duration": 3,
    "start_time": "2023-03-25T11:53:23.102Z"
   },
   {
    "duration": 3,
    "start_time": "2023-03-25T11:53:23.465Z"
   },
   {
    "duration": 7,
    "start_time": "2023-03-25T11:53:23.768Z"
   },
   {
    "duration": 4,
    "start_time": "2023-03-25T11:53:24.095Z"
   },
   {
    "duration": 8,
    "start_time": "2023-03-25T11:53:26.600Z"
   },
   {
    "duration": 10,
    "start_time": "2023-03-25T11:53:41.216Z"
   },
   {
    "duration": 4,
    "start_time": "2023-03-25T11:53:41.696Z"
   },
   {
    "duration": 3,
    "start_time": "2023-03-25T11:53:42.000Z"
   },
   {
    "duration": 3,
    "start_time": "2023-03-25T11:53:42.303Z"
   },
   {
    "duration": 3,
    "start_time": "2023-03-25T11:53:42.597Z"
   },
   {
    "duration": 5,
    "start_time": "2023-03-25T11:53:43.073Z"
   },
   {
    "duration": 6,
    "start_time": "2023-03-25T11:53:43.472Z"
   },
   {
    "duration": 5,
    "start_time": "2023-03-25T11:53:45.328Z"
   },
   {
    "duration": 18,
    "start_time": "2023-03-25T11:53:45.825Z"
   },
   {
    "duration": 11,
    "start_time": "2023-03-25T11:58:39.837Z"
   },
   {
    "duration": 4,
    "start_time": "2023-03-25T11:58:42.654Z"
   },
   {
    "duration": 4,
    "start_time": "2023-03-25T12:03:06.835Z"
   },
   {
    "duration": 10,
    "start_time": "2023-03-25T12:03:31.524Z"
   },
   {
    "duration": 11,
    "start_time": "2023-03-25T12:03:33.619Z"
   },
   {
    "duration": 9,
    "start_time": "2023-03-25T12:08:21.459Z"
   },
   {
    "duration": 11,
    "start_time": "2023-03-25T12:08:23.385Z"
   },
   {
    "duration": 13,
    "start_time": "2023-03-25T12:16:00.709Z"
   },
   {
    "duration": 2,
    "start_time": "2023-03-25T12:18:02.714Z"
   },
   {
    "duration": 49,
    "start_time": "2023-03-25T12:18:02.718Z"
   },
   {
    "duration": 10,
    "start_time": "2023-03-25T12:18:02.768Z"
   },
   {
    "duration": 17,
    "start_time": "2023-03-25T12:18:02.780Z"
   },
   {
    "duration": 5,
    "start_time": "2023-03-25T12:18:02.799Z"
   },
   {
    "duration": 18,
    "start_time": "2023-03-25T12:18:02.805Z"
   },
   {
    "duration": 28,
    "start_time": "2023-03-25T12:18:02.824Z"
   },
   {
    "duration": 22,
    "start_time": "2023-03-25T12:18:02.853Z"
   },
   {
    "duration": 42,
    "start_time": "2023-03-25T12:18:02.876Z"
   },
   {
    "duration": 13,
    "start_time": "2023-03-25T12:18:02.919Z"
   },
   {
    "duration": 26,
    "start_time": "2023-03-25T12:18:02.934Z"
   },
   {
    "duration": 29,
    "start_time": "2023-03-25T12:18:02.962Z"
   },
   {
    "duration": 24,
    "start_time": "2023-03-25T12:18:02.993Z"
   },
   {
    "duration": 44,
    "start_time": "2023-03-25T12:18:03.019Z"
   },
   {
    "duration": 39,
    "start_time": "2023-03-25T12:18:03.065Z"
   },
   {
    "duration": 5,
    "start_time": "2023-03-25T12:19:25.288Z"
   },
   {
    "duration": 17,
    "start_time": "2023-03-25T12:19:26.174Z"
   },
   {
    "duration": 5,
    "start_time": "2023-03-25T12:20:39.341Z"
   },
   {
    "duration": 4,
    "start_time": "2023-03-25T12:20:58.750Z"
   },
   {
    "duration": 5,
    "start_time": "2023-03-25T12:21:15.791Z"
   },
   {
    "duration": 6,
    "start_time": "2023-03-25T12:24:14.734Z"
   },
   {
    "duration": 6,
    "start_time": "2023-03-25T12:24:41.480Z"
   },
   {
    "duration": 6,
    "start_time": "2023-03-25T12:28:08.694Z"
   },
   {
    "duration": 7,
    "start_time": "2023-03-25T12:28:22.549Z"
   },
   {
    "duration": 6,
    "start_time": "2023-03-25T12:28:38.869Z"
   },
   {
    "duration": 5,
    "start_time": "2023-03-25T12:31:15.439Z"
   },
   {
    "duration": 4,
    "start_time": "2023-03-25T12:31:40.629Z"
   },
   {
    "duration": 6,
    "start_time": "2023-03-25T12:31:45.132Z"
   },
   {
    "duration": 5,
    "start_time": "2023-03-25T12:32:24.437Z"
   },
   {
    "duration": 10,
    "start_time": "2023-03-25T12:32:28.323Z"
   },
   {
    "duration": 4,
    "start_time": "2023-03-25T12:33:19.381Z"
   },
   {
    "duration": 10,
    "start_time": "2023-03-25T12:33:21.997Z"
   },
   {
    "duration": 5,
    "start_time": "2023-03-25T12:33:57.843Z"
   },
   {
    "duration": 9,
    "start_time": "2023-03-25T12:34:15.376Z"
   },
   {
    "duration": 5,
    "start_time": "2023-03-25T12:34:21.732Z"
   },
   {
    "duration": 8,
    "start_time": "2023-03-25T12:34:22.477Z"
   },
   {
    "duration": 11,
    "start_time": "2023-03-25T12:34:23.027Z"
   },
   {
    "duration": 11,
    "start_time": "2023-03-25T12:34:25.037Z"
   },
   {
    "duration": 4,
    "start_time": "2023-03-25T12:34:38.068Z"
   },
   {
    "duration": 5,
    "start_time": "2023-03-25T12:34:39.372Z"
   },
   {
    "duration": 8,
    "start_time": "2023-03-25T12:34:40.101Z"
   },
   {
    "duration": 9,
    "start_time": "2023-03-25T12:34:40.580Z"
   },
   {
    "duration": 10,
    "start_time": "2023-03-25T12:34:41.892Z"
   },
   {
    "duration": 3,
    "start_time": "2023-03-25T12:34:47.492Z"
   },
   {
    "duration": 35,
    "start_time": "2023-03-25T12:34:47.931Z"
   },
   {
    "duration": 11,
    "start_time": "2023-03-25T12:34:48.305Z"
   },
   {
    "duration": 12,
    "start_time": "2023-03-25T12:34:48.964Z"
   },
   {
    "duration": 6,
    "start_time": "2023-03-25T12:34:51.076Z"
   },
   {
    "duration": 5,
    "start_time": "2023-03-25T12:34:53.013Z"
   },
   {
    "duration": 6,
    "start_time": "2023-03-25T12:34:54.036Z"
   },
   {
    "duration": 10,
    "start_time": "2023-03-25T12:34:54.484Z"
   },
   {
    "duration": 9,
    "start_time": "2023-03-25T12:34:54.899Z"
   },
   {
    "duration": 9,
    "start_time": "2023-03-25T12:34:56.437Z"
   },
   {
    "duration": 3,
    "start_time": "2023-03-25T12:36:29.277Z"
   },
   {
    "duration": 36,
    "start_time": "2023-03-25T12:36:29.620Z"
   },
   {
    "duration": 11,
    "start_time": "2023-03-25T12:36:29.941Z"
   },
   {
    "duration": 10,
    "start_time": "2023-03-25T12:36:30.325Z"
   },
   {
    "duration": 6,
    "start_time": "2023-03-25T12:36:30.868Z"
   },
   {
    "duration": 216,
    "start_time": "2023-03-25T12:36:31.817Z"
   },
   {
    "duration": 13,
    "start_time": "2023-03-25T12:36:32.277Z"
   },
   {
    "duration": 3,
    "start_time": "2023-03-25T12:37:58.652Z"
   },
   {
    "duration": 35,
    "start_time": "2023-03-25T12:37:58.973Z"
   },
   {
    "duration": 12,
    "start_time": "2023-03-25T12:37:59.277Z"
   },
   {
    "duration": 11,
    "start_time": "2023-03-25T12:37:59.614Z"
   },
   {
    "duration": 6,
    "start_time": "2023-03-25T12:37:59.996Z"
   },
   {
    "duration": 12,
    "start_time": "2023-03-25T12:38:00.884Z"
   },
   {
    "duration": 12,
    "start_time": "2023-03-25T12:38:01.590Z"
   },
   {
    "duration": 11,
    "start_time": "2023-03-25T12:38:05.102Z"
   },
   {
    "duration": 4,
    "start_time": "2023-03-25T12:38:15.292Z"
   },
   {
    "duration": 4,
    "start_time": "2023-03-25T12:39:42.075Z"
   },
   {
    "duration": 53,
    "start_time": "2023-03-25T12:39:42.082Z"
   },
   {
    "duration": 18,
    "start_time": "2023-03-25T12:39:42.137Z"
   },
   {
    "duration": 28,
    "start_time": "2023-03-25T12:39:42.156Z"
   },
   {
    "duration": 7,
    "start_time": "2023-03-25T12:39:42.186Z"
   },
   {
    "duration": 16,
    "start_time": "2023-03-25T12:39:42.195Z"
   },
   {
    "duration": 14,
    "start_time": "2023-03-25T12:39:42.213Z"
   },
   {
    "duration": 25,
    "start_time": "2023-03-25T12:39:42.228Z"
   },
   {
    "duration": 4,
    "start_time": "2023-03-25T12:39:42.255Z"
   },
   {
    "duration": 12,
    "start_time": "2023-03-25T12:39:42.272Z"
   },
   {
    "duration": 6,
    "start_time": "2023-03-25T12:39:42.286Z"
   },
   {
    "duration": 9,
    "start_time": "2023-03-25T12:39:42.293Z"
   },
   {
    "duration": 8,
    "start_time": "2023-03-25T12:39:42.304Z"
   },
   {
    "duration": 12,
    "start_time": "2023-03-25T12:39:42.314Z"
   },
   {
    "duration": 18,
    "start_time": "2023-03-25T12:39:42.327Z"
   },
   {
    "duration": 13,
    "start_time": "2023-03-25T12:39:42.347Z"
   },
   {
    "duration": 17,
    "start_time": "2023-03-25T12:39:42.361Z"
   },
   {
    "duration": 27,
    "start_time": "2023-03-25T12:39:42.379Z"
   },
   {
    "duration": 69,
    "start_time": "2023-03-25T12:39:42.408Z"
   },
   {
    "duration": 5,
    "start_time": "2023-03-25T12:39:50.980Z"
   },
   {
    "duration": 15,
    "start_time": "2023-03-25T12:39:52.347Z"
   },
   {
    "duration": 6,
    "start_time": "2023-03-25T12:39:53.396Z"
   },
   {
    "duration": 6,
    "start_time": "2023-03-25T12:40:23.035Z"
   },
   {
    "duration": 7,
    "start_time": "2023-03-25T12:40:54.124Z"
   },
   {
    "duration": 11,
    "start_time": "2023-03-25T12:41:14.020Z"
   },
   {
    "duration": 4,
    "start_time": "2023-03-25T12:42:48.587Z"
   },
   {
    "duration": 5,
    "start_time": "2023-03-25T12:43:17.290Z"
   },
   {
    "duration": 4,
    "start_time": "2023-03-25T12:43:39.371Z"
   },
   {
    "duration": 3,
    "start_time": "2023-03-25T12:43:44.011Z"
   },
   {
    "duration": 9,
    "start_time": "2023-03-25T12:44:01.435Z"
   },
   {
    "duration": 4,
    "start_time": "2023-03-25T12:44:27.594Z"
   },
   {
    "duration": 4,
    "start_time": "2023-03-25T12:44:31.186Z"
   },
   {
    "duration": 7,
    "start_time": "2023-03-25T12:44:43.891Z"
   },
   {
    "duration": 57,
    "start_time": "2023-03-25T12:45:13.322Z"
   },
   {
    "duration": 6,
    "start_time": "2023-03-25T12:45:31.410Z"
   },
   {
    "duration": 4,
    "start_time": "2023-03-25T12:46:02.498Z"
   },
   {
    "duration": 5,
    "start_time": "2023-03-25T12:46:11.539Z"
   },
   {
    "duration": 234,
    "start_time": "2023-03-25T12:46:29.738Z"
   },
   {
    "duration": 4,
    "start_time": "2023-03-25T12:46:30.681Z"
   },
   {
    "duration": 20,
    "start_time": "2023-03-25T12:48:08.801Z"
   },
   {
    "duration": 4,
    "start_time": "2023-03-25T12:48:09.344Z"
   },
   {
    "duration": 5,
    "start_time": "2023-03-25T12:48:09.818Z"
   },
   {
    "duration": 136,
    "start_time": "2023-03-25T12:54:16.193Z"
   },
   {
    "duration": 102,
    "start_time": "2023-03-25T12:54:22.634Z"
   },
   {
    "duration": 171,
    "start_time": "2023-03-25T12:56:30.033Z"
   },
   {
    "duration": 5,
    "start_time": "2023-03-25T12:58:35.584Z"
   },
   {
    "duration": 15,
    "start_time": "2023-03-25T13:00:30.215Z"
   },
   {
    "duration": 3,
    "start_time": "2023-03-25T13:00:35.231Z"
   },
   {
    "duration": 58,
    "start_time": "2023-03-25T13:00:35.550Z"
   },
   {
    "duration": 15,
    "start_time": "2023-03-25T13:00:35.901Z"
   },
   {
    "duration": 14,
    "start_time": "2023-03-25T13:00:36.239Z"
   },
   {
    "duration": 8,
    "start_time": "2023-03-25T13:00:36.684Z"
   },
   {
    "duration": 25,
    "start_time": "2023-03-25T13:00:37.770Z"
   },
   {
    "duration": 13,
    "start_time": "2023-03-25T13:00:43.796Z"
   },
   {
    "duration": 13,
    "start_time": "2023-03-25T13:00:45.399Z"
   },
   {
    "duration": 5,
    "start_time": "2023-03-25T13:00:49.032Z"
   },
   {
    "duration": 11,
    "start_time": "2023-03-25T13:00:49.814Z"
   },
   {
    "duration": 3,
    "start_time": "2023-03-25T13:00:50.159Z"
   },
   {
    "duration": 4,
    "start_time": "2023-03-25T13:00:50.438Z"
   },
   {
    "duration": 5,
    "start_time": "2023-03-25T13:00:50.703Z"
   },
   {
    "duration": 4,
    "start_time": "2023-03-25T13:00:50.992Z"
   },
   {
    "duration": 4,
    "start_time": "2023-03-25T13:00:51.246Z"
   },
   {
    "duration": 4,
    "start_time": "2023-03-25T13:00:51.563Z"
   },
   {
    "duration": 6,
    "start_time": "2023-03-25T13:00:53.439Z"
   },
   {
    "duration": 44,
    "start_time": "2023-03-25T13:00:54.067Z"
   },
   {
    "duration": 5,
    "start_time": "2023-03-25T13:00:56.039Z"
   },
   {
    "duration": 6,
    "start_time": "2023-03-25T13:00:56.527Z"
   },
   {
    "duration": 4,
    "start_time": "2023-03-25T13:00:56.927Z"
   },
   {
    "duration": 5,
    "start_time": "2023-03-25T13:00:57.353Z"
   },
   {
    "duration": 8,
    "start_time": "2023-03-25T13:00:57.794Z"
   },
   {
    "duration": 8,
    "start_time": "2023-03-25T13:00:58.215Z"
   },
   {
    "duration": 19,
    "start_time": "2023-03-25T13:02:34.292Z"
   },
   {
    "duration": 5,
    "start_time": "2023-03-25T13:02:38.596Z"
   },
   {
    "duration": 38,
    "start_time": "2023-03-25T13:02:38.604Z"
   },
   {
    "duration": 13,
    "start_time": "2023-03-25T13:02:38.644Z"
   },
   {
    "duration": 14,
    "start_time": "2023-03-25T13:02:38.658Z"
   },
   {
    "duration": 7,
    "start_time": "2023-03-25T13:02:38.674Z"
   },
   {
    "duration": 28,
    "start_time": "2023-03-25T13:02:38.682Z"
   },
   {
    "duration": 9,
    "start_time": "2023-03-25T13:02:38.711Z"
   },
   {
    "duration": 13,
    "start_time": "2023-03-25T13:02:38.721Z"
   },
   {
    "duration": 5,
    "start_time": "2023-03-25T13:02:38.736Z"
   },
   {
    "duration": 15,
    "start_time": "2023-03-25T13:02:38.743Z"
   },
   {
    "duration": 21,
    "start_time": "2023-03-25T13:02:38.759Z"
   },
   {
    "duration": 21,
    "start_time": "2023-03-25T13:02:38.781Z"
   },
   {
    "duration": 8,
    "start_time": "2023-03-25T13:02:38.804Z"
   },
   {
    "duration": 6,
    "start_time": "2023-03-25T13:02:38.814Z"
   },
   {
    "duration": 12,
    "start_time": "2023-03-25T13:02:38.822Z"
   },
   {
    "duration": 16,
    "start_time": "2023-03-25T13:02:38.836Z"
   },
   {
    "duration": 11,
    "start_time": "2023-03-25T13:02:38.854Z"
   },
   {
    "duration": 131,
    "start_time": "2023-03-25T13:02:38.867Z"
   },
   {
    "duration": 89,
    "start_time": "2023-03-25T13:02:39.000Z"
   },
   {
    "duration": 30,
    "start_time": "2023-03-25T13:02:39.091Z"
   },
   {
    "duration": 23,
    "start_time": "2023-03-25T13:02:39.123Z"
   },
   {
    "duration": 15,
    "start_time": "2023-03-25T13:02:39.148Z"
   },
   {
    "duration": 26,
    "start_time": "2023-03-25T13:02:39.164Z"
   },
   {
    "duration": 25,
    "start_time": "2023-03-25T13:02:39.194Z"
   },
   {
    "duration": 124,
    "start_time": "2023-03-25T13:02:39.221Z"
   },
   {
    "duration": 92,
    "start_time": "2023-03-25T13:02:59.487Z"
   },
   {
    "duration": 5,
    "start_time": "2023-03-25T13:02:59.944Z"
   },
   {
    "duration": 6,
    "start_time": "2023-03-25T13:03:00.446Z"
   },
   {
    "duration": 6,
    "start_time": "2023-03-25T13:03:03.600Z"
   },
   {
    "duration": 6,
    "start_time": "2023-03-25T13:03:04.213Z"
   },
   {
    "duration": 104,
    "start_time": "2023-03-25T13:06:34.334Z"
   },
   {
    "duration": 114,
    "start_time": "2023-03-25T13:18:34.723Z"
   },
   {
    "duration": 5,
    "start_time": "2023-03-25T13:19:00.098Z"
   },
   {
    "duration": 32,
    "start_time": "2023-03-25T13:19:18.357Z"
   },
   {
    "duration": 125,
    "start_time": "2023-03-25T13:19:54.783Z"
   },
   {
    "duration": 20,
    "start_time": "2023-03-25T13:20:40.884Z"
   },
   {
    "duration": 22,
    "start_time": "2023-03-25T13:26:34.606Z"
   },
   {
    "duration": 20,
    "start_time": "2023-03-25T13:27:44.783Z"
   },
   {
    "duration": 25,
    "start_time": "2023-03-25T13:28:21.048Z"
   },
   {
    "duration": 27,
    "start_time": "2023-03-25T13:29:04.479Z"
   },
   {
    "duration": 34,
    "start_time": "2023-03-25T13:29:27.110Z"
   },
   {
    "duration": 31,
    "start_time": "2023-03-25T13:29:52.454Z"
   },
   {
    "duration": 31,
    "start_time": "2023-03-25T13:29:59.911Z"
   },
   {
    "duration": 121,
    "start_time": "2023-03-25T13:30:45.135Z"
   },
   {
    "duration": 122,
    "start_time": "2023-03-25T13:31:30.470Z"
   },
   {
    "duration": 136,
    "start_time": "2023-03-25T13:31:46.527Z"
   },
   {
    "duration": 124,
    "start_time": "2023-03-25T13:32:22.488Z"
   },
   {
    "duration": 119,
    "start_time": "2023-03-25T13:32:32.734Z"
   },
   {
    "duration": 796,
    "start_time": "2023-03-25T13:32:51.494Z"
   },
   {
    "duration": 138,
    "start_time": "2023-03-25T13:33:14.053Z"
   },
   {
    "duration": 816,
    "start_time": "2023-03-25T13:33:29.318Z"
   },
   {
    "duration": 904,
    "start_time": "2023-03-25T13:49:11.876Z"
   },
   {
    "duration": 911,
    "start_time": "2023-03-25T13:50:06.221Z"
   },
   {
    "duration": 836,
    "start_time": "2023-03-25T13:50:42.416Z"
   },
   {
    "duration": 837,
    "start_time": "2023-03-25T13:50:51.355Z"
   },
   {
    "duration": 904,
    "start_time": "2023-03-25T13:52:11.991Z"
   },
   {
    "duration": 21,
    "start_time": "2023-03-25T14:02:25.386Z"
   },
   {
    "duration": 10,
    "start_time": "2023-03-25T14:02:25.771Z"
   },
   {
    "duration": 858,
    "start_time": "2023-03-25T14:03:24.915Z"
   },
   {
    "duration": 23840,
    "start_time": "2023-03-25T14:06:59.059Z"
   },
   {
    "duration": 31462,
    "start_time": "2023-03-25T14:08:33.019Z"
   },
   {
    "duration": 33031,
    "start_time": "2023-03-25T14:11:05.891Z"
   },
   {
    "duration": 32987,
    "start_time": "2023-03-25T14:11:46.791Z"
   },
   {
    "duration": 73340,
    "start_time": "2023-03-25T14:12:48.601Z"
   },
   {
    "duration": 30,
    "start_time": "2023-03-25T14:16:03.498Z"
   },
   {
    "duration": 1033,
    "start_time": "2023-03-25T17:45:14.779Z"
   },
   {
    "duration": 194,
    "start_time": "2023-03-25T17:45:15.814Z"
   },
   {
    "duration": 26,
    "start_time": "2023-03-25T17:45:16.010Z"
   },
   {
    "duration": 17,
    "start_time": "2023-03-25T17:45:16.038Z"
   },
   {
    "duration": 8,
    "start_time": "2023-03-25T17:45:16.058Z"
   },
   {
    "duration": 16,
    "start_time": "2023-03-25T17:45:16.067Z"
   },
   {
    "duration": 9,
    "start_time": "2023-03-25T17:45:16.084Z"
   },
   {
    "duration": 13,
    "start_time": "2023-03-25T17:45:16.095Z"
   },
   {
    "duration": 5,
    "start_time": "2023-03-25T17:45:16.110Z"
   },
   {
    "duration": 10,
    "start_time": "2023-03-25T17:45:16.116Z"
   },
   {
    "duration": 5,
    "start_time": "2023-03-25T17:45:16.128Z"
   },
   {
    "duration": 37,
    "start_time": "2023-03-25T17:45:16.134Z"
   },
   {
    "duration": 6,
    "start_time": "2023-03-25T17:45:16.173Z"
   },
   {
    "duration": 4,
    "start_time": "2023-03-25T17:45:16.183Z"
   },
   {
    "duration": 4,
    "start_time": "2023-03-25T17:45:16.188Z"
   },
   {
    "duration": 6,
    "start_time": "2023-03-25T17:45:16.194Z"
   },
   {
    "duration": 13,
    "start_time": "2023-03-25T17:45:16.201Z"
   },
   {
    "duration": 71,
    "start_time": "2023-03-25T17:45:16.215Z"
   },
   {
    "duration": 6,
    "start_time": "2023-03-25T17:45:16.287Z"
   },
   {
    "duration": 80,
    "start_time": "2023-03-25T17:45:16.295Z"
   },
   {
    "duration": 795,
    "start_time": "2023-03-25T17:45:16.376Z"
   },
   {
    "duration": 63537,
    "start_time": "2023-03-25T17:45:17.172Z"
   },
   {
    "duration": 37,
    "start_time": "2023-03-25T17:46:20.711Z"
   },
   {
    "duration": 755,
    "start_time": "2023-03-25T17:50:45.045Z"
   },
   {
    "duration": 702,
    "start_time": "2023-03-25T18:38:01.049Z"
   },
   {
    "duration": 4,
    "start_time": "2023-03-25T18:39:25.850Z"
   },
   {
    "duration": 41,
    "start_time": "2023-03-25T18:39:25.856Z"
   },
   {
    "duration": 12,
    "start_time": "2023-03-25T18:39:25.898Z"
   },
   {
    "duration": 15,
    "start_time": "2023-03-25T18:39:25.912Z"
   },
   {
    "duration": 7,
    "start_time": "2023-03-25T18:39:25.930Z"
   },
   {
    "duration": 12,
    "start_time": "2023-03-25T18:39:25.939Z"
   },
   {
    "duration": 17,
    "start_time": "2023-03-25T18:39:25.952Z"
   },
   {
    "duration": 10,
    "start_time": "2023-03-25T18:39:25.971Z"
   },
   {
    "duration": 4,
    "start_time": "2023-03-25T18:39:25.983Z"
   },
   {
    "duration": 10,
    "start_time": "2023-03-25T18:39:25.988Z"
   },
   {
    "duration": 4,
    "start_time": "2023-03-25T18:39:25.999Z"
   },
   {
    "duration": 8,
    "start_time": "2023-03-25T18:39:26.005Z"
   },
   {
    "duration": 27,
    "start_time": "2023-03-25T18:39:26.014Z"
   },
   {
    "duration": 4,
    "start_time": "2023-03-25T18:39:26.044Z"
   },
   {
    "duration": 21,
    "start_time": "2023-03-25T18:39:26.050Z"
   },
   {
    "duration": 5,
    "start_time": "2023-03-25T18:39:26.072Z"
   },
   {
    "duration": 6,
    "start_time": "2023-03-25T18:39:26.079Z"
   },
   {
    "duration": 83,
    "start_time": "2023-03-25T18:39:26.086Z"
   },
   {
    "duration": 9,
    "start_time": "2023-03-25T18:39:26.170Z"
   },
   {
    "duration": 91,
    "start_time": "2023-03-25T18:39:26.180Z"
   },
   {
    "duration": 699,
    "start_time": "2023-03-25T18:39:26.273Z"
   },
   {
    "duration": 59585,
    "start_time": "2023-03-25T18:39:26.973Z"
   },
   {
    "duration": 36,
    "start_time": "2023-03-25T18:40:26.560Z"
   },
   {
    "duration": 59803,
    "start_time": "2023-03-25T18:41:40.124Z"
   },
   {
    "duration": 4,
    "start_time": "2023-03-25T18:50:24.544Z"
   },
   {
    "duration": 4,
    "start_time": "2023-03-25T18:50:33.763Z"
   },
   {
    "duration": 3,
    "start_time": "2023-03-25T18:51:13.809Z"
   },
   {
    "duration": 97,
    "start_time": "2023-03-25T18:52:16.617Z"
   },
   {
    "duration": 10,
    "start_time": "2023-03-25T18:52:25.992Z"
   },
   {
    "duration": 10,
    "start_time": "2023-03-25T18:52:56.168Z"
   },
   {
    "duration": 10,
    "start_time": "2023-03-25T18:52:59.895Z"
   },
   {
    "duration": 5,
    "start_time": "2023-03-25T18:53:05.255Z"
   },
   {
    "duration": 8,
    "start_time": "2023-03-25T18:53:50.639Z"
   },
   {
    "duration": 20,
    "start_time": "2023-03-25T18:53:51.407Z"
   },
   {
    "duration": 19,
    "start_time": "2023-03-25T18:54:04.310Z"
   },
   {
    "duration": 14,
    "start_time": "2023-03-25T18:54:10.416Z"
   },
   {
    "duration": 5,
    "start_time": "2023-03-25T18:54:51.287Z"
   },
   {
    "duration": 4,
    "start_time": "2023-03-25T18:55:03.447Z"
   },
   {
    "duration": 43,
    "start_time": "2023-03-25T18:57:06.263Z"
   },
   {
    "duration": 4,
    "start_time": "2023-03-25T18:59:30.181Z"
   },
   {
    "duration": 10,
    "start_time": "2023-03-25T18:59:31.909Z"
   },
   {
    "duration": 3,
    "start_time": "2023-03-25T18:59:32.654Z"
   },
   {
    "duration": 4,
    "start_time": "2023-03-25T18:59:33.077Z"
   },
   {
    "duration": 3,
    "start_time": "2023-03-25T18:59:33.423Z"
   },
   {
    "duration": 4,
    "start_time": "2023-03-25T18:59:33.735Z"
   },
   {
    "duration": 4,
    "start_time": "2023-03-25T18:59:34.101Z"
   },
   {
    "duration": 4,
    "start_time": "2023-03-25T18:59:34.565Z"
   },
   {
    "duration": 6,
    "start_time": "2023-03-25T18:59:40.813Z"
   },
   {
    "duration": 13,
    "start_time": "2023-03-25T19:02:47.149Z"
   },
   {
    "duration": 18,
    "start_time": "2023-03-25T19:02:57.148Z"
   },
   {
    "duration": 23,
    "start_time": "2023-03-25T19:03:36.546Z"
   },
   {
    "duration": 4,
    "start_time": "2023-03-25T19:03:52.407Z"
   },
   {
    "duration": 53,
    "start_time": "2023-03-25T19:03:52.412Z"
   },
   {
    "duration": 13,
    "start_time": "2023-03-25T19:03:52.467Z"
   },
   {
    "duration": 13,
    "start_time": "2023-03-25T19:03:52.482Z"
   },
   {
    "duration": 6,
    "start_time": "2023-03-25T19:03:52.498Z"
   },
   {
    "duration": 14,
    "start_time": "2023-03-25T19:03:52.506Z"
   },
   {
    "duration": 10,
    "start_time": "2023-03-25T19:03:52.522Z"
   },
   {
    "duration": 46,
    "start_time": "2023-03-25T19:03:52.534Z"
   },
   {
    "duration": 16,
    "start_time": "2023-03-25T19:03:58.475Z"
   },
   {
    "duration": 13,
    "start_time": "2023-03-25T19:04:00.435Z"
   },
   {
    "duration": 13,
    "start_time": "2023-03-25T19:04:14.020Z"
   },
   {
    "duration": 15,
    "start_time": "2023-03-25T19:04:31.665Z"
   },
   {
    "duration": 5,
    "start_time": "2023-03-25T19:06:38.354Z"
   },
   {
    "duration": 11,
    "start_time": "2023-03-25T19:06:39.218Z"
   },
   {
    "duration": 3,
    "start_time": "2023-03-25T19:06:39.522Z"
   },
   {
    "duration": 4,
    "start_time": "2023-03-25T19:06:39.762Z"
   },
   {
    "duration": 5,
    "start_time": "2023-03-25T19:06:40.002Z"
   },
   {
    "duration": 3,
    "start_time": "2023-03-25T19:06:40.371Z"
   },
   {
    "duration": 3,
    "start_time": "2023-03-25T19:06:41.059Z"
   },
   {
    "duration": 3,
    "start_time": "2023-03-25T19:06:41.418Z"
   },
   {
    "duration": 6,
    "start_time": "2023-03-25T19:06:43.803Z"
   },
   {
    "duration": 20,
    "start_time": "2023-03-25T19:06:49.186Z"
   },
   {
    "duration": 8,
    "start_time": "2023-03-25T19:06:53.451Z"
   },
   {
    "duration": 6,
    "start_time": "2023-03-25T19:06:59.610Z"
   },
   {
    "duration": 725,
    "start_time": "2023-03-25T19:07:07.226Z"
   },
   {
    "duration": 1014,
    "start_time": "2023-03-25T19:07:25.091Z"
   },
   {
    "duration": 38,
    "start_time": "2023-03-25T19:07:26.107Z"
   },
   {
    "duration": 18,
    "start_time": "2023-03-25T19:07:26.147Z"
   },
   {
    "duration": 12,
    "start_time": "2023-03-25T19:07:26.166Z"
   },
   {
    "duration": 6,
    "start_time": "2023-03-25T19:07:26.180Z"
   },
   {
    "duration": 13,
    "start_time": "2023-03-25T19:07:26.187Z"
   },
   {
    "duration": 9,
    "start_time": "2023-03-25T19:07:26.201Z"
   },
   {
    "duration": 14,
    "start_time": "2023-03-25T19:07:26.213Z"
   },
   {
    "duration": 58,
    "start_time": "2023-03-25T19:07:26.229Z"
   },
   {
    "duration": 17,
    "start_time": "2023-03-25T19:07:26.289Z"
   },
   {
    "duration": 11,
    "start_time": "2023-03-25T19:07:26.308Z"
   },
   {
    "duration": 5,
    "start_time": "2023-03-25T19:07:26.320Z"
   },
   {
    "duration": 14,
    "start_time": "2023-03-25T19:07:26.326Z"
   },
   {
    "duration": 4,
    "start_time": "2023-03-25T19:07:26.343Z"
   },
   {
    "duration": 21,
    "start_time": "2023-03-25T19:07:26.349Z"
   },
   {
    "duration": 4,
    "start_time": "2023-03-25T19:07:26.371Z"
   },
   {
    "duration": 5,
    "start_time": "2023-03-25T19:07:26.376Z"
   },
   {
    "duration": 6,
    "start_time": "2023-03-25T19:07:26.382Z"
   },
   {
    "duration": 4,
    "start_time": "2023-03-25T19:07:26.389Z"
   },
   {
    "duration": 7,
    "start_time": "2023-03-25T19:07:26.394Z"
   },
   {
    "duration": 76,
    "start_time": "2023-03-25T19:07:26.402Z"
   },
   {
    "duration": 90,
    "start_time": "2023-03-25T19:07:26.480Z"
   },
   {
    "duration": 8,
    "start_time": "2023-03-25T19:07:26.572Z"
   },
   {
    "duration": 857,
    "start_time": "2023-03-25T19:07:26.582Z"
   },
   {
    "duration": 59511,
    "start_time": "2023-03-25T19:07:27.441Z"
   },
   {
    "duration": 92,
    "start_time": "2023-03-25T19:08:26.953Z"
   },
   {
    "duration": 31,
    "start_time": "2023-03-25T19:09:00.146Z"
   },
   {
    "duration": 28,
    "start_time": "2023-03-25T19:13:21.032Z"
   },
   {
    "duration": 5,
    "start_time": "2023-03-25T19:13:26.185Z"
   },
   {
    "duration": 5,
    "start_time": "2023-03-25T19:13:33.000Z"
   },
   {
    "duration": 739,
    "start_time": "2023-03-25T19:17:28.934Z"
   },
   {
    "duration": 741,
    "start_time": "2023-03-25T19:17:42.070Z"
   },
   {
    "duration": 59940,
    "start_time": "2023-03-25T19:18:02.886Z"
   },
   {
    "duration": 52,
    "start_time": "2023-03-25T19:20:10.646Z"
   },
   {
    "duration": 9,
    "start_time": "2023-03-25T19:20:25.112Z"
   },
   {
    "duration": 6,
    "start_time": "2023-03-25T19:20:53.582Z"
   },
   {
    "duration": 7,
    "start_time": "2023-03-25T19:26:22.547Z"
   },
   {
    "duration": 4,
    "start_time": "2023-03-25T19:34:48.856Z"
   },
   {
    "duration": 3,
    "start_time": "2023-03-25T19:36:24.008Z"
   },
   {
    "duration": 16,
    "start_time": "2023-03-25T19:36:44.360Z"
   },
   {
    "duration": 4,
    "start_time": "2023-03-25T19:36:54.383Z"
   },
   {
    "duration": 10,
    "start_time": "2023-03-25T19:37:01.337Z"
   },
   {
    "duration": 3,
    "start_time": "2023-03-25T19:37:06.303Z"
   },
   {
    "duration": 3,
    "start_time": "2023-03-25T19:38:30.591Z"
   },
   {
    "duration": 4,
    "start_time": "2023-03-25T19:38:31.743Z"
   },
   {
    "duration": 15,
    "start_time": "2023-03-25T19:38:38.102Z"
   },
   {
    "duration": 3,
    "start_time": "2023-03-25T19:38:45.727Z"
   },
   {
    "duration": 36,
    "start_time": "2023-03-25T19:38:46.181Z"
   },
   {
    "duration": 11,
    "start_time": "2023-03-25T19:38:46.524Z"
   },
   {
    "duration": 10,
    "start_time": "2023-03-25T19:38:47.438Z"
   },
   {
    "duration": 8,
    "start_time": "2023-03-25T19:38:47.766Z"
   },
   {
    "duration": 12,
    "start_time": "2023-03-25T19:38:48.814Z"
   },
   {
    "duration": 8,
    "start_time": "2023-03-25T19:38:49.311Z"
   },
   {
    "duration": 9,
    "start_time": "2023-03-25T19:38:50.030Z"
   },
   {
    "duration": 16,
    "start_time": "2023-03-25T19:38:50.375Z"
   },
   {
    "duration": 11,
    "start_time": "2023-03-25T19:38:51.302Z"
   },
   {
    "duration": 12,
    "start_time": "2023-03-25T19:38:51.734Z"
   },
   {
    "duration": 4,
    "start_time": "2023-03-25T19:38:53.822Z"
   },
   {
    "duration": 10,
    "start_time": "2023-03-25T19:38:54.470Z"
   },
   {
    "duration": 3,
    "start_time": "2023-03-25T19:38:54.814Z"
   },
   {
    "duration": 3,
    "start_time": "2023-03-25T19:38:55.134Z"
   },
   {
    "duration": 4,
    "start_time": "2023-03-25T19:38:55.446Z"
   },
   {
    "duration": 3,
    "start_time": "2023-03-25T19:38:55.763Z"
   },
   {
    "duration": 4,
    "start_time": "2023-03-25T19:38:56.110Z"
   },
   {
    "duration": 4,
    "start_time": "2023-03-25T19:38:56.454Z"
   },
   {
    "duration": 5,
    "start_time": "2023-03-25T19:39:00.542Z"
   },
   {
    "duration": 4,
    "start_time": "2023-03-25T19:39:06.182Z"
   },
   {
    "duration": 4,
    "start_time": "2023-03-25T19:39:07.582Z"
   },
   {
    "duration": 10,
    "start_time": "2023-03-25T19:39:08.622Z"
   },
   {
    "duration": 4,
    "start_time": "2023-03-25T19:40:18.086Z"
   },
   {
    "duration": 6,
    "start_time": "2023-03-25T19:40:36.805Z"
   },
   {
    "duration": 6,
    "start_time": "2023-03-25T19:40:43.348Z"
   },
   {
    "duration": 22,
    "start_time": "2023-03-25T20:11:00.442Z"
   },
   {
    "duration": 7,
    "start_time": "2023-03-25T20:11:09.987Z"
   },
   {
    "duration": 6,
    "start_time": "2023-03-25T20:11:21.569Z"
   },
   {
    "duration": 21,
    "start_time": "2023-03-25T20:12:28.169Z"
   },
   {
    "duration": 6,
    "start_time": "2023-03-25T20:12:28.977Z"
   },
   {
    "duration": 6,
    "start_time": "2023-03-25T20:12:29.904Z"
   },
   {
    "duration": 20,
    "start_time": "2023-03-25T20:13:46.440Z"
   },
   {
    "duration": 5,
    "start_time": "2023-03-25T20:13:46.840Z"
   },
   {
    "duration": 5,
    "start_time": "2023-03-25T20:13:47.225Z"
   },
   {
    "duration": 955,
    "start_time": "2023-03-25T20:14:56.192Z"
   },
   {
    "duration": 3,
    "start_time": "2023-03-25T20:22:32.310Z"
   },
   {
    "duration": 39,
    "start_time": "2023-03-25T20:22:32.773Z"
   },
   {
    "duration": 11,
    "start_time": "2023-03-25T20:22:33.243Z"
   },
   {
    "duration": 10,
    "start_time": "2023-03-25T20:22:34.043Z"
   },
   {
    "duration": 6,
    "start_time": "2023-03-25T20:22:34.846Z"
   },
   {
    "duration": 11,
    "start_time": "2023-03-25T20:22:36.136Z"
   },
   {
    "duration": 9,
    "start_time": "2023-03-25T20:22:36.622Z"
   },
   {
    "duration": 10,
    "start_time": "2023-03-25T20:22:43.028Z"
   },
   {
    "duration": 16,
    "start_time": "2023-03-25T20:22:53.048Z"
   },
   {
    "duration": 13,
    "start_time": "2023-03-25T20:22:54.935Z"
   },
   {
    "duration": 11,
    "start_time": "2023-03-25T20:22:55.900Z"
   },
   {
    "duration": 5,
    "start_time": "2023-03-25T20:23:38.461Z"
   },
   {
    "duration": 10,
    "start_time": "2023-03-25T20:23:39.413Z"
   },
   {
    "duration": 3,
    "start_time": "2023-03-25T20:23:39.734Z"
   },
   {
    "duration": 3,
    "start_time": "2023-03-25T20:23:40.053Z"
   },
   {
    "duration": 3,
    "start_time": "2023-03-25T20:23:40.278Z"
   },
   {
    "duration": 3,
    "start_time": "2023-03-25T20:23:40.460Z"
   },
   {
    "duration": 4,
    "start_time": "2023-03-25T20:23:40.635Z"
   },
   {
    "duration": 4,
    "start_time": "2023-03-25T20:23:40.836Z"
   },
   {
    "duration": 5,
    "start_time": "2023-03-25T20:23:44.289Z"
   },
   {
    "duration": 58865,
    "start_time": "2023-03-25T20:24:25.720Z"
   },
   {
    "duration": 4,
    "start_time": "2023-03-25T20:28:28.340Z"
   },
   {
    "duration": 758,
    "start_time": "2023-03-25T20:28:46.611Z"
   },
   {
    "duration": 325,
    "start_time": "2023-03-25T20:29:06.299Z"
   },
   {
    "duration": 693,
    "start_time": "2023-03-25T20:29:45.619Z"
   },
   {
    "duration": 61942,
    "start_time": "2023-03-25T20:29:55.291Z"
   },
   {
    "duration": 29,
    "start_time": "2023-03-25T20:31:47.905Z"
   },
   {
    "duration": 5,
    "start_time": "2023-03-25T20:31:50.330Z"
   },
   {
    "duration": 8,
    "start_time": "2023-03-25T20:31:51.291Z"
   },
   {
    "duration": 49,
    "start_time": "2023-03-25T20:54:10.198Z"
   },
   {
    "duration": 1122,
    "start_time": "2023-03-25T20:55:52.155Z"
   },
   {
    "duration": 43,
    "start_time": "2023-03-25T20:55:53.283Z"
   },
   {
    "duration": 17,
    "start_time": "2023-03-25T20:55:53.327Z"
   },
   {
    "duration": 12,
    "start_time": "2023-03-25T20:55:53.345Z"
   },
   {
    "duration": 5,
    "start_time": "2023-03-25T20:55:53.359Z"
   },
   {
    "duration": 17,
    "start_time": "2023-03-25T20:55:53.365Z"
   },
   {
    "duration": 25,
    "start_time": "2023-03-25T20:55:53.383Z"
   },
   {
    "duration": 11,
    "start_time": "2023-03-25T20:55:53.409Z"
   },
   {
    "duration": 10,
    "start_time": "2023-03-25T20:55:53.422Z"
   },
   {
    "duration": 4,
    "start_time": "2023-03-25T20:55:53.433Z"
   },
   {
    "duration": 35,
    "start_time": "2023-03-25T20:55:53.438Z"
   },
   {
    "duration": 5,
    "start_time": "2023-03-25T20:55:53.475Z"
   },
   {
    "duration": 15,
    "start_time": "2023-03-25T20:55:53.482Z"
   },
   {
    "duration": 3,
    "start_time": "2023-03-25T20:55:53.501Z"
   },
   {
    "duration": 4,
    "start_time": "2023-03-25T20:55:53.505Z"
   },
   {
    "duration": 5,
    "start_time": "2023-03-25T20:55:53.510Z"
   },
   {
    "duration": 7,
    "start_time": "2023-03-25T20:55:53.516Z"
   },
   {
    "duration": 8,
    "start_time": "2023-03-25T20:55:53.524Z"
   },
   {
    "duration": 46,
    "start_time": "2023-03-25T20:55:53.533Z"
   },
   {
    "duration": 9,
    "start_time": "2023-03-25T20:55:53.581Z"
   },
   {
    "duration": 88,
    "start_time": "2023-03-25T20:55:53.592Z"
   },
   {
    "duration": 20,
    "start_time": "2023-03-25T20:55:53.684Z"
   },
   {
    "duration": 72,
    "start_time": "2023-03-25T20:55:53.706Z"
   },
   {
    "duration": 14,
    "start_time": "2023-03-25T20:55:53.780Z"
   },
   {
    "duration": 822,
    "start_time": "2023-03-25T20:55:53.796Z"
   },
   {
    "duration": 65203,
    "start_time": "2023-03-25T20:55:54.619Z"
   },
   {
    "duration": 34,
    "start_time": "2023-03-25T20:56:59.823Z"
   },
   {
    "duration": 27,
    "start_time": "2023-03-25T20:56:59.859Z"
   },
   {
    "duration": 7,
    "start_time": "2023-03-25T20:56:59.894Z"
   },
   {
    "duration": 3,
    "start_time": "2023-03-25T20:56:59.902Z"
   },
   {
    "duration": 4,
    "start_time": "2023-03-25T20:56:59.907Z"
   },
   {
    "duration": 11,
    "start_time": "2023-03-25T20:56:59.912Z"
   },
   {
    "duration": 3,
    "start_time": "2023-03-25T20:56:59.924Z"
   },
   {
    "duration": 6,
    "start_time": "2023-03-25T20:56:59.928Z"
   },
   {
    "duration": 50,
    "start_time": "2023-03-25T20:56:59.935Z"
   },
   {
    "duration": 9,
    "start_time": "2023-03-25T20:56:59.986Z"
   },
   {
    "duration": 176,
    "start_time": "2023-03-25T20:56:59.997Z"
   },
   {
    "duration": 927,
    "start_time": "2023-03-25T20:58:24.596Z"
   },
   {
    "duration": 87184,
    "start_time": "2023-03-25T21:00:08.047Z"
   },
   {
    "duration": 4,
    "start_time": "2023-03-25T21:11:56.920Z"
   },
   {
    "duration": 7,
    "start_time": "2023-03-25T21:20:57.599Z"
   },
   {
    "duration": 6,
    "start_time": "2023-03-25T21:22:50.057Z"
   },
   {
    "duration": 30,
    "start_time": "2023-03-25T21:23:03.240Z"
   },
   {
    "duration": 52,
    "start_time": "2023-03-25T21:23:51.471Z"
   },
   {
    "duration": 7,
    "start_time": "2023-03-25T21:24:09.624Z"
   },
   {
    "duration": 26,
    "start_time": "2023-03-25T21:24:10.896Z"
   },
   {
    "duration": 6,
    "start_time": "2023-03-25T21:25:11.912Z"
   },
   {
    "duration": 8,
    "start_time": "2023-03-25T21:25:43.236Z"
   },
   {
    "duration": 86,
    "start_time": "2023-03-25T21:25:45.943Z"
   },
   {
    "duration": 29,
    "start_time": "2023-03-25T21:25:54.926Z"
   },
   {
    "duration": 6,
    "start_time": "2023-03-25T21:26:04.015Z"
   },
   {
    "duration": 38,
    "start_time": "2023-03-25T21:26:06.231Z"
   },
   {
    "duration": 3,
    "start_time": "2023-03-25T21:26:19.043Z"
   },
   {
    "duration": 53,
    "start_time": "2023-03-25T21:26:19.048Z"
   },
   {
    "duration": 11,
    "start_time": "2023-03-25T21:26:19.103Z"
   },
   {
    "duration": 12,
    "start_time": "2023-03-25T21:26:19.115Z"
   },
   {
    "duration": 7,
    "start_time": "2023-03-25T21:26:19.129Z"
   },
   {
    "duration": 17,
    "start_time": "2023-03-25T21:26:19.138Z"
   },
   {
    "duration": 22,
    "start_time": "2023-03-25T21:26:19.157Z"
   },
   {
    "duration": 11,
    "start_time": "2023-03-25T21:26:19.180Z"
   },
   {
    "duration": 11,
    "start_time": "2023-03-25T21:26:19.193Z"
   },
   {
    "duration": 4,
    "start_time": "2023-03-25T21:26:19.205Z"
   },
   {
    "duration": 10,
    "start_time": "2023-03-25T21:26:19.210Z"
   },
   {
    "duration": 3,
    "start_time": "2023-03-25T21:26:19.221Z"
   },
   {
    "duration": 5,
    "start_time": "2023-03-25T21:26:19.226Z"
   },
   {
    "duration": 36,
    "start_time": "2023-03-25T21:26:19.233Z"
   },
   {
    "duration": 5,
    "start_time": "2023-03-25T21:26:19.271Z"
   },
   {
    "duration": 9,
    "start_time": "2023-03-25T21:26:19.277Z"
   },
   {
    "duration": 20,
    "start_time": "2023-03-25T21:26:19.288Z"
   },
   {
    "duration": 11,
    "start_time": "2023-03-25T21:26:19.310Z"
   },
   {
    "duration": 9,
    "start_time": "2023-03-25T21:26:19.322Z"
   },
   {
    "duration": 7,
    "start_time": "2023-03-25T21:26:24.455Z"
   },
   {
    "duration": 23,
    "start_time": "2023-03-25T21:26:25.587Z"
   },
   {
    "duration": 2,
    "start_time": "2023-03-25T21:28:02.272Z"
   },
   {
    "duration": 10,
    "start_time": "2023-03-25T21:28:12.696Z"
   },
   {
    "duration": 20,
    "start_time": "2023-03-25T21:28:19.631Z"
   },
   {
    "duration": 10,
    "start_time": "2023-03-25T21:28:25.150Z"
   },
   {
    "duration": 45,
    "start_time": "2023-03-25T21:28:30.424Z"
   },
   {
    "duration": 3,
    "start_time": "2023-03-25T21:28:36.270Z"
   },
   {
    "duration": 18,
    "start_time": "2023-03-25T21:28:36.894Z"
   },
   {
    "duration": 8,
    "start_time": "2023-03-25T21:29:18.222Z"
   },
   {
    "duration": 7,
    "start_time": "2023-03-25T21:29:32.488Z"
   },
   {
    "duration": 697,
    "start_time": "2023-03-25T21:29:37.951Z"
   },
   {
    "duration": 7,
    "start_time": "2023-03-25T22:10:07.233Z"
   },
   {
    "duration": 17,
    "start_time": "2023-03-25T22:10:10.131Z"
   },
   {
    "duration": 7,
    "start_time": "2023-03-25T22:10:34.929Z"
   },
   {
    "duration": 108,
    "start_time": "2023-03-25T22:10:37.161Z"
   },
   {
    "duration": 7,
    "start_time": "2023-03-25T22:12:36.411Z"
   },
   {
    "duration": 120488,
    "start_time": "2023-03-25T22:13:17.357Z"
   },
   {
    "duration": 7,
    "start_time": "2023-03-25T22:15:17.847Z"
   },
   {
    "duration": 8,
    "start_time": "2023-03-25T22:15:50.905Z"
   },
   {
    "duration": 41648,
    "start_time": "2023-03-25T22:15:56.912Z"
   },
   {
    "duration": 8,
    "start_time": "2023-03-25T22:17:30.615Z"
   },
   {
    "duration": 7,
    "start_time": "2023-03-25T22:19:49.650Z"
   },
   {
    "duration": 40431,
    "start_time": "2023-03-25T22:19:52.904Z"
   },
   {
    "duration": 8,
    "start_time": "2023-03-25T22:21:57.838Z"
   },
   {
    "duration": 39624,
    "start_time": "2023-03-25T22:22:00.330Z"
   },
   {
    "duration": 8,
    "start_time": "2023-03-25T22:23:09.498Z"
   },
   {
    "duration": 39583,
    "start_time": "2023-03-25T22:23:12.745Z"
   },
   {
    "duration": 4,
    "start_time": "2023-03-25T22:32:28.789Z"
   },
   {
    "duration": 4,
    "start_time": "2023-03-25T22:32:33.209Z"
   },
   {
    "duration": 4,
    "start_time": "2023-03-25T22:32:37.489Z"
   },
   {
    "duration": 9,
    "start_time": "2023-03-25T22:32:38.841Z"
   },
   {
    "duration": 4,
    "start_time": "2023-03-25T22:32:39.689Z"
   },
   {
    "duration": 5,
    "start_time": "2023-03-25T22:32:41.381Z"
   },
   {
    "duration": 5,
    "start_time": "2023-03-25T22:38:34.569Z"
   },
   {
    "duration": 4,
    "start_time": "2023-03-25T22:38:45.706Z"
   },
   {
    "duration": 3,
    "start_time": "2023-03-25T22:38:58.087Z"
   },
   {
    "duration": 10,
    "start_time": "2023-03-25T22:38:59.407Z"
   },
   {
    "duration": 3,
    "start_time": "2023-03-25T22:38:59.791Z"
   },
   {
    "duration": 4,
    "start_time": "2023-03-25T22:39:00.239Z"
   },
   {
    "duration": 4,
    "start_time": "2023-03-25T22:39:00.559Z"
   },
   {
    "duration": 4,
    "start_time": "2023-03-25T22:39:00.862Z"
   },
   {
    "duration": 4,
    "start_time": "2023-03-25T22:39:01.159Z"
   },
   {
    "duration": 3,
    "start_time": "2023-03-25T22:39:02.208Z"
   },
   {
    "duration": 4,
    "start_time": "2023-03-25T22:39:06.224Z"
   },
   {
    "duration": 9,
    "start_time": "2023-03-25T22:39:30.495Z"
   },
   {
    "duration": 3,
    "start_time": "2023-03-25T22:39:34.504Z"
   },
   {
    "duration": 6,
    "start_time": "2023-03-25T22:39:39.183Z"
   },
   {
    "duration": 15,
    "start_time": "2023-03-25T22:40:09.904Z"
   },
   {
    "duration": 15,
    "start_time": "2023-03-25T22:40:22.232Z"
   },
   {
    "duration": 8,
    "start_time": "2023-03-25T22:40:43.905Z"
   },
   {
    "duration": 3,
    "start_time": "2023-03-25T22:40:45.496Z"
   },
   {
    "duration": 5,
    "start_time": "2023-03-25T22:40:46.055Z"
   },
   {
    "duration": 20,
    "start_time": "2023-03-25T22:40:55.784Z"
   },
   {
    "duration": 5,
    "start_time": "2023-03-25T22:41:29.560Z"
   },
   {
    "duration": 8,
    "start_time": "2023-03-25T22:41:31.959Z"
   },
   {
    "duration": 3,
    "start_time": "2023-03-25T22:41:38.928Z"
   },
   {
    "duration": 3,
    "start_time": "2023-03-25T22:41:45.816Z"
   },
   {
    "duration": 5,
    "start_time": "2023-03-25T22:42:01.824Z"
   },
   {
    "duration": 8,
    "start_time": "2023-03-25T22:44:38.257Z"
   },
   {
    "duration": 8,
    "start_time": "2023-03-25T22:44:44.280Z"
   },
   {
    "duration": 2,
    "start_time": "2023-03-25T22:44:56.321Z"
   },
   {
    "duration": 2,
    "start_time": "2023-03-25T22:45:03.448Z"
   },
   {
    "duration": 53153,
    "start_time": "2023-03-25T22:45:23.288Z"
   },
   {
    "duration": 3,
    "start_time": "2023-03-25T22:46:16.443Z"
   },
   {
    "duration": 22244,
    "start_time": "2023-03-25T22:46:24.303Z"
   },
   {
    "duration": 15,
    "start_time": "2023-03-25T22:51:05.655Z"
   },
   {
    "duration": 4,
    "start_time": "2023-03-25T22:51:24.678Z"
   },
   {
    "duration": 39858,
    "start_time": "2023-03-25T22:52:38.310Z"
   },
   {
    "duration": 8,
    "start_time": "2023-03-25T22:53:18.170Z"
   },
   {
    "duration": 39879,
    "start_time": "2023-03-25T22:53:46.958Z"
   },
   {
    "duration": 8,
    "start_time": "2023-03-25T23:17:52.266Z"
   },
   {
    "duration": 861,
    "start_time": "2023-03-25T23:18:01.390Z"
   },
   {
    "duration": 8,
    "start_time": "2023-03-25T23:18:30.318Z"
   },
   {
    "duration": 847,
    "start_time": "2023-03-25T23:18:32.587Z"
   },
   {
    "duration": 8,
    "start_time": "2023-03-25T23:18:47.557Z"
   },
   {
    "duration": 851,
    "start_time": "2023-03-25T23:18:58.191Z"
   },
   {
    "duration": 9,
    "start_time": "2023-03-25T23:19:36.391Z"
   },
   {
    "duration": 868,
    "start_time": "2023-03-25T23:19:39.382Z"
   },
   {
    "duration": 845,
    "start_time": "2023-03-25T23:19:48.092Z"
   },
   {
    "duration": 5,
    "start_time": "2023-03-25T23:20:34.783Z"
   },
   {
    "duration": 53,
    "start_time": "2023-03-25T23:20:53.191Z"
   },
   {
    "duration": 841,
    "start_time": "2023-03-25T23:21:03.307Z"
   },
   {
    "duration": 9,
    "start_time": "2023-03-25T23:22:46.164Z"
   },
   {
    "duration": 861,
    "start_time": "2023-03-25T23:22:49.092Z"
   },
   {
    "duration": 905,
    "start_time": "2023-03-25T23:22:59.339Z"
   },
   {
    "duration": 9,
    "start_time": "2023-03-25T23:24:13.458Z"
   },
   {
    "duration": 5,
    "start_time": "2023-03-25T23:26:11.224Z"
   },
   {
    "duration": 38669,
    "start_time": "2023-03-25T23:26:18.793Z"
   },
   {
    "duration": 53305,
    "start_time": "2023-03-25T23:31:29.295Z"
   },
   {
    "duration": 8,
    "start_time": "2023-03-25T23:34:36.702Z"
   },
   {
    "duration": 948,
    "start_time": "2023-03-25T23:35:20.328Z"
   },
   {
    "duration": 39,
    "start_time": "2023-03-25T23:35:21.278Z"
   },
   {
    "duration": 16,
    "start_time": "2023-03-25T23:35:21.318Z"
   },
   {
    "duration": 11,
    "start_time": "2023-03-25T23:35:21.335Z"
   },
   {
    "duration": 5,
    "start_time": "2023-03-25T23:35:21.348Z"
   },
   {
    "duration": 18,
    "start_time": "2023-03-25T23:35:21.354Z"
   },
   {
    "duration": 15,
    "start_time": "2023-03-25T23:35:21.373Z"
   },
   {
    "duration": 10,
    "start_time": "2023-03-25T23:35:21.389Z"
   },
   {
    "duration": 10,
    "start_time": "2023-03-25T23:35:21.400Z"
   },
   {
    "duration": 4,
    "start_time": "2023-03-25T23:35:21.411Z"
   },
   {
    "duration": 13,
    "start_time": "2023-03-25T23:35:21.416Z"
   },
   {
    "duration": 20,
    "start_time": "2023-03-25T23:35:21.430Z"
   },
   {
    "duration": 6,
    "start_time": "2023-03-25T23:35:21.451Z"
   },
   {
    "duration": 3,
    "start_time": "2023-03-25T23:35:21.468Z"
   },
   {
    "duration": 5,
    "start_time": "2023-03-25T23:35:21.472Z"
   },
   {
    "duration": 5,
    "start_time": "2023-03-25T23:35:21.479Z"
   },
   {
    "duration": 4,
    "start_time": "2023-03-25T23:35:21.485Z"
   },
   {
    "duration": 6,
    "start_time": "2023-03-25T23:35:21.490Z"
   },
   {
    "duration": 8,
    "start_time": "2023-03-25T23:35:21.498Z"
   },
   {
    "duration": 5,
    "start_time": "2023-03-25T23:35:21.507Z"
   },
   {
    "duration": 57852,
    "start_time": "2023-03-25T23:35:21.513Z"
   },
   {
    "duration": 5,
    "start_time": "2023-03-25T23:36:19.370Z"
   },
   {
    "duration": 11,
    "start_time": "2023-03-25T23:36:19.377Z"
   },
   {
    "duration": 3,
    "start_time": "2023-03-25T23:36:19.390Z"
   },
   {
    "duration": 5,
    "start_time": "2023-03-25T23:36:19.394Z"
   },
   {
    "duration": 9,
    "start_time": "2023-03-25T23:36:19.400Z"
   },
   {
    "duration": 4,
    "start_time": "2023-03-25T23:36:19.411Z"
   },
   {
    "duration": 6,
    "start_time": "2023-03-25T23:36:19.416Z"
   },
   {
    "duration": 4,
    "start_time": "2023-03-25T23:36:19.423Z"
   },
   {
    "duration": 79327,
    "start_time": "2023-03-25T23:36:19.429Z"
   },
   {
    "duration": 2,
    "start_time": "2023-03-25T23:37:38.758Z"
   },
   {
    "duration": 33135,
    "start_time": "2023-03-25T23:37:38.762Z"
   },
   {
    "duration": 57695,
    "start_time": "2023-03-25T23:38:11.899Z"
   },
   {
    "duration": 5,
    "start_time": "2023-03-25T23:39:09.597Z"
   },
   {
    "duration": 1139,
    "start_time": "2023-03-26T19:05:39.610Z"
   },
   {
    "duration": 182,
    "start_time": "2023-03-26T19:05:40.755Z"
   },
   {
    "duration": 24,
    "start_time": "2023-03-26T19:05:40.938Z"
   },
   {
    "duration": 12,
    "start_time": "2023-03-26T19:05:40.963Z"
   },
   {
    "duration": 5,
    "start_time": "2023-03-26T19:05:40.977Z"
   },
   {
    "duration": 13,
    "start_time": "2023-03-26T19:05:40.984Z"
   },
   {
    "duration": 54,
    "start_time": "2023-03-26T19:05:40.998Z"
   },
   {
    "duration": 17,
    "start_time": "2023-03-26T19:05:41.054Z"
   },
   {
    "duration": 10,
    "start_time": "2023-03-26T19:05:41.072Z"
   },
   {
    "duration": 5,
    "start_time": "2023-03-26T19:05:41.083Z"
   },
   {
    "duration": 10,
    "start_time": "2023-03-26T19:05:41.089Z"
   },
   {
    "duration": 3,
    "start_time": "2023-03-26T19:05:41.101Z"
   },
   {
    "duration": 15,
    "start_time": "2023-03-26T19:05:41.106Z"
   },
   {
    "duration": 31,
    "start_time": "2023-03-26T19:05:41.124Z"
   },
   {
    "duration": 4,
    "start_time": "2023-03-26T19:05:41.156Z"
   },
   {
    "duration": 4,
    "start_time": "2023-03-26T19:05:41.161Z"
   },
   {
    "duration": 4,
    "start_time": "2023-03-26T19:05:41.166Z"
   },
   {
    "duration": 6,
    "start_time": "2023-03-26T19:05:41.172Z"
   },
   {
    "duration": 9,
    "start_time": "2023-03-26T19:05:41.180Z"
   },
   {
    "duration": 4,
    "start_time": "2023-03-26T19:05:41.191Z"
   },
   {
    "duration": 76256,
    "start_time": "2023-03-26T19:05:41.197Z"
   },
   {
    "duration": 6,
    "start_time": "2023-03-26T19:06:57.458Z"
   },
   {
    "duration": 12,
    "start_time": "2023-03-26T19:06:57.465Z"
   },
   {
    "duration": 4,
    "start_time": "2023-03-26T19:06:57.478Z"
   },
   {
    "duration": 5,
    "start_time": "2023-03-26T19:06:57.483Z"
   },
   {
    "duration": 8,
    "start_time": "2023-03-26T19:06:57.490Z"
   },
   {
    "duration": 4,
    "start_time": "2023-03-26T19:06:57.499Z"
   },
   {
    "duration": 6,
    "start_time": "2023-03-26T19:06:57.504Z"
   },
   {
    "duration": 5,
    "start_time": "2023-03-26T19:06:57.549Z"
   },
   {
    "duration": 106600,
    "start_time": "2023-03-26T19:06:57.556Z"
   },
   {
    "duration": 3,
    "start_time": "2023-03-26T19:08:44.158Z"
   },
   {
    "duration": 43495,
    "start_time": "2023-03-26T19:08:44.163Z"
   },
   {
    "duration": 77065,
    "start_time": "2023-03-26T19:09:27.660Z"
   },
   {
    "duration": 3,
    "start_time": "2023-03-26T19:33:21.132Z"
   },
   {
    "duration": 4,
    "start_time": "2023-03-26T19:34:23.027Z"
   },
   {
    "duration": 745,
    "start_time": "2023-03-26T19:38:23.139Z"
   },
   {
    "duration": 936,
    "start_time": "2023-03-26T19:38:23.886Z"
   },
   {
    "duration": 102,
    "start_time": "2023-03-26T19:43:29.370Z"
   },
   {
    "duration": 102,
    "start_time": "2023-03-26T19:49:09.582Z"
   },
   {
    "duration": 930,
    "start_time": "2023-03-26T19:55:59.163Z"
   },
   {
    "duration": 107,
    "start_time": "2023-03-26T19:56:15.113Z"
   },
   {
    "duration": 892,
    "start_time": "2023-03-26T19:56:27.471Z"
   },
   {
    "duration": 110,
    "start_time": "2023-03-26T19:56:29.362Z"
   },
   {
    "duration": 1695,
    "start_time": "2023-03-26T19:57:00.458Z"
   },
   {
    "duration": 96,
    "start_time": "2023-03-26T19:57:05.255Z"
   },
   {
    "duration": 804,
    "start_time": "2023-03-26T19:57:33.421Z"
   },
   {
    "duration": 101,
    "start_time": "2023-03-26T19:57:34.557Z"
   },
   {
    "duration": 887,
    "start_time": "2023-03-26T19:58:35.337Z"
   },
   {
    "duration": 140,
    "start_time": "2023-03-26T19:58:36.226Z"
   },
   {
    "duration": 870,
    "start_time": "2023-03-26T19:59:45.227Z"
   },
   {
    "duration": 114,
    "start_time": "2023-03-26T20:01:18.720Z"
   },
   {
    "duration": 5,
    "start_time": "2023-03-26T20:01:47.434Z"
   },
   {
    "duration": 8,
    "start_time": "2023-03-26T20:02:50.327Z"
   },
   {
    "duration": 12,
    "start_time": "2023-03-26T20:02:57.679Z"
   },
   {
    "duration": 4,
    "start_time": "2023-03-26T20:03:06.622Z"
   },
   {
    "duration": 916,
    "start_time": "2023-03-26T20:03:43.751Z"
   },
   {
    "duration": 98,
    "start_time": "2023-03-26T20:03:47.119Z"
   },
   {
    "duration": 48,
    "start_time": "2023-03-26T20:11:58.562Z"
   },
   {
    "duration": 97,
    "start_time": "2023-03-26T20:12:05.570Z"
   },
   {
    "duration": 98,
    "start_time": "2023-03-26T20:12:21.929Z"
   },
   {
    "duration": 97,
    "start_time": "2023-03-26T20:12:43.458Z"
   },
   {
    "duration": 97,
    "start_time": "2023-03-26T20:13:31.786Z"
   },
   {
    "duration": 98,
    "start_time": "2023-03-26T20:13:50.978Z"
   },
   {
    "duration": 735,
    "start_time": "2023-03-26T20:15:42.867Z"
   },
   {
    "duration": 973,
    "start_time": "2023-03-26T20:15:44.202Z"
   },
   {
    "duration": 94,
    "start_time": "2023-03-26T20:15:45.506Z"
   },
   {
    "duration": 99,
    "start_time": "2023-03-26T20:15:52.746Z"
   },
   {
    "duration": 875,
    "start_time": "2023-03-26T20:16:13.746Z"
   },
   {
    "duration": 9,
    "start_time": "2023-03-26T20:16:15.114Z"
   },
   {
    "duration": 4,
    "start_time": "2023-03-26T20:16:15.906Z"
   },
   {
    "duration": 964,
    "start_time": "2023-03-26T20:16:16.650Z"
   },
   {
    "duration": 99,
    "start_time": "2023-03-26T20:16:17.850Z"
   },
   {
    "duration": 5,
    "start_time": "2023-03-26T20:28:35.945Z"
   },
   {
    "duration": 52,
    "start_time": "2023-03-26T20:39:26.831Z"
   },
   {
    "duration": 50,
    "start_time": "2023-03-26T20:47:54.569Z"
   },
   {
    "duration": 10,
    "start_time": "2023-03-26T20:56:34.279Z"
   },
   {
    "duration": 1114,
    "start_time": "2023-03-26T20:56:46.906Z"
   },
   {
    "duration": 42,
    "start_time": "2023-03-26T20:56:48.022Z"
   },
   {
    "duration": 19,
    "start_time": "2023-03-26T20:56:48.066Z"
   },
   {
    "duration": 21,
    "start_time": "2023-03-26T20:56:48.086Z"
   },
   {
    "duration": 6,
    "start_time": "2023-03-26T20:56:48.109Z"
   },
   {
    "duration": 13,
    "start_time": "2023-03-26T20:56:48.116Z"
   },
   {
    "duration": 24,
    "start_time": "2023-03-26T20:56:48.130Z"
   },
   {
    "duration": 10,
    "start_time": "2023-03-26T20:56:48.156Z"
   },
   {
    "duration": 11,
    "start_time": "2023-03-26T20:56:48.167Z"
   },
   {
    "duration": 3,
    "start_time": "2023-03-26T20:56:48.180Z"
   },
   {
    "duration": 9,
    "start_time": "2023-03-26T20:56:48.185Z"
   },
   {
    "duration": 3,
    "start_time": "2023-03-26T20:56:48.196Z"
   },
   {
    "duration": 4,
    "start_time": "2023-03-26T20:56:48.200Z"
   },
   {
    "duration": 4,
    "start_time": "2023-03-26T20:56:48.239Z"
   },
   {
    "duration": 4,
    "start_time": "2023-03-26T20:56:48.245Z"
   },
   {
    "duration": 4,
    "start_time": "2023-03-26T20:56:48.250Z"
   },
   {
    "duration": 4,
    "start_time": "2023-03-26T20:56:48.255Z"
   },
   {
    "duration": 9,
    "start_time": "2023-03-26T20:56:48.260Z"
   },
   {
    "duration": 10,
    "start_time": "2023-03-26T20:56:48.270Z"
   },
   {
    "duration": 5,
    "start_time": "2023-03-26T20:56:48.281Z"
   },
   {
    "duration": 385,
    "start_time": "2023-03-26T20:56:48.287Z"
   },
   {
    "duration": 6,
    "start_time": "2023-03-26T20:56:48.674Z"
   },
   {
    "duration": 11,
    "start_time": "2023-03-26T20:56:48.681Z"
   },
   {
    "duration": 3,
    "start_time": "2023-03-26T20:56:48.693Z"
   },
   {
    "duration": 5,
    "start_time": "2023-03-26T20:56:48.698Z"
   },
   {
    "duration": 8,
    "start_time": "2023-03-26T20:56:48.704Z"
   },
   {
    "duration": 8,
    "start_time": "2023-03-26T20:56:48.713Z"
   },
   {
    "duration": 5,
    "start_time": "2023-03-26T20:56:48.723Z"
   },
   {
    "duration": 11,
    "start_time": "2023-03-26T20:56:48.729Z"
   },
   {
    "duration": 199,
    "start_time": "2023-03-26T20:56:48.742Z"
   },
   {
    "duration": 3,
    "start_time": "2023-03-26T20:56:48.943Z"
   },
   {
    "duration": 197,
    "start_time": "2023-03-26T20:56:48.947Z"
   },
   {
    "duration": 197,
    "start_time": "2023-03-26T20:56:49.145Z"
   },
   {
    "duration": 690,
    "start_time": "2023-03-26T20:56:49.344Z"
   },
   {
    "duration": 885,
    "start_time": "2023-03-26T20:56:50.035Z"
   },
   {
    "duration": 103,
    "start_time": "2023-03-26T20:56:50.922Z"
   },
   {
    "duration": 101,
    "start_time": "2023-03-26T20:56:51.027Z"
   },
   {
    "duration": 872,
    "start_time": "2023-03-26T20:56:51.130Z"
   },
   {
    "duration": 9,
    "start_time": "2023-03-26T20:56:52.004Z"
   },
   {
    "duration": 14,
    "start_time": "2023-03-26T20:56:52.014Z"
   },
   {
    "duration": 918,
    "start_time": "2023-03-26T20:56:52.039Z"
   },
   {
    "duration": 108,
    "start_time": "2023-03-26T20:56:52.959Z"
   },
   {
    "duration": 50,
    "start_time": "2023-03-26T20:56:53.069Z"
   },
   {
    "duration": 14,
    "start_time": "2023-03-26T21:02:39.060Z"
   },
   {
    "duration": 3,
    "start_time": "2023-03-26T21:02:41.797Z"
   },
   {
    "duration": 167,
    "start_time": "2023-03-26T21:02:42.483Z"
   },
   {
    "duration": 10,
    "start_time": "2023-03-26T21:03:09.548Z"
   },
   {
    "duration": 3,
    "start_time": "2023-03-26T21:03:10.275Z"
   },
   {
    "duration": 231,
    "start_time": "2023-03-26T21:03:10.611Z"
   },
   {
    "duration": 15,
    "start_time": "2023-03-26T21:04:26.544Z"
   },
   {
    "duration": 3,
    "start_time": "2023-03-26T21:04:27.443Z"
   },
   {
    "duration": 78981,
    "start_time": "2023-03-26T21:04:28.467Z"
   },
   {
    "duration": 1102,
    "start_time": "2023-03-26T21:06:13.625Z"
   },
   {
    "duration": 43,
    "start_time": "2023-03-26T21:06:14.729Z"
   },
   {
    "duration": 22,
    "start_time": "2023-03-26T21:06:14.774Z"
   },
   {
    "duration": 13,
    "start_time": "2023-03-26T21:06:14.798Z"
   },
   {
    "duration": 6,
    "start_time": "2023-03-26T21:06:14.813Z"
   },
   {
    "duration": 26,
    "start_time": "2023-03-26T21:06:14.820Z"
   },
   {
    "duration": 17,
    "start_time": "2023-03-26T21:06:14.847Z"
   },
   {
    "duration": 12,
    "start_time": "2023-03-26T21:06:14.865Z"
   },
   {
    "duration": 14,
    "start_time": "2023-03-26T21:06:14.878Z"
   },
   {
    "duration": 5,
    "start_time": "2023-03-26T21:06:14.894Z"
   },
   {
    "duration": 43,
    "start_time": "2023-03-26T21:06:14.900Z"
   },
   {
    "duration": 5,
    "start_time": "2023-03-26T21:06:14.944Z"
   },
   {
    "duration": 4,
    "start_time": "2023-03-26T21:06:14.951Z"
   },
   {
    "duration": 5,
    "start_time": "2023-03-26T21:06:14.956Z"
   },
   {
    "duration": 4,
    "start_time": "2023-03-26T21:06:14.963Z"
   },
   {
    "duration": 10,
    "start_time": "2023-03-26T21:06:14.969Z"
   },
   {
    "duration": 10,
    "start_time": "2023-03-26T21:06:14.981Z"
   },
   {
    "duration": 7,
    "start_time": "2023-03-26T21:06:14.993Z"
   },
   {
    "duration": 50,
    "start_time": "2023-03-26T21:06:15.001Z"
   },
   {
    "duration": 28,
    "start_time": "2023-03-26T21:06:15.053Z"
   },
   {
    "duration": 78092,
    "start_time": "2023-03-26T21:06:15.082Z"
   },
   {
    "duration": 6,
    "start_time": "2023-03-26T21:07:33.175Z"
   },
   {
    "duration": 14,
    "start_time": "2023-03-26T21:07:33.182Z"
   },
   {
    "duration": 4,
    "start_time": "2023-03-26T21:07:33.198Z"
   },
   {
    "duration": 9,
    "start_time": "2023-03-26T21:07:33.203Z"
   },
   {
    "duration": 9,
    "start_time": "2023-03-26T21:07:33.213Z"
   },
   {
    "duration": 17,
    "start_time": "2023-03-26T21:07:33.223Z"
   },
   {
    "duration": 14,
    "start_time": "2023-03-26T21:07:33.243Z"
   },
   {
    "duration": 4,
    "start_time": "2023-03-26T21:07:33.258Z"
   },
   {
    "duration": 106152,
    "start_time": "2023-03-26T21:07:33.263Z"
   },
   {
    "duration": 2,
    "start_time": "2023-03-26T21:09:19.417Z"
   },
   {
    "duration": 45132,
    "start_time": "2023-03-26T21:09:19.421Z"
   },
   {
    "duration": 78175,
    "start_time": "2023-03-26T21:10:04.555Z"
   },
   {
    "duration": 688,
    "start_time": "2023-03-26T21:11:22.731Z"
   },
   {
    "duration": 884,
    "start_time": "2023-03-26T21:11:23.421Z"
   },
   {
    "duration": 101,
    "start_time": "2023-03-26T21:11:24.307Z"
   },
   {
    "duration": 100,
    "start_time": "2023-03-26T21:11:24.410Z"
   },
   {
    "duration": 863,
    "start_time": "2023-03-26T21:11:24.512Z"
   },
   {
    "duration": 7,
    "start_time": "2023-03-26T21:11:25.377Z"
   },
   {
    "duration": 5,
    "start_time": "2023-03-26T21:11:25.386Z"
   },
   {
    "duration": 931,
    "start_time": "2023-03-26T21:11:25.392Z"
   },
   {
    "duration": 118,
    "start_time": "2023-03-26T21:11:26.324Z"
   },
   {
    "duration": 53,
    "start_time": "2023-03-26T21:11:26.443Z"
   },
   {
    "duration": 101,
    "start_time": "2023-03-26T21:14:27.598Z"
   },
   {
    "duration": 16,
    "start_time": "2023-03-26T21:14:35.736Z"
   },
   {
    "duration": 3,
    "start_time": "2023-03-26T21:14:38.055Z"
   },
   {
    "duration": 78750,
    "start_time": "2023-03-26T21:14:39.727Z"
   },
   {
    "duration": 12,
    "start_time": "2023-03-26T21:16:23.888Z"
   },
   {
    "duration": 3,
    "start_time": "2023-03-26T21:16:27.800Z"
   },
   {
    "duration": 78104,
    "start_time": "2023-03-26T21:16:33.671Z"
   },
   {
    "duration": 55,
    "start_time": "2023-03-26T21:18:36.672Z"
   },
   {
    "duration": 10,
    "start_time": "2023-03-26T21:19:10.822Z"
   },
   {
    "duration": 2,
    "start_time": "2023-03-26T21:19:12.293Z"
   },
   {
    "duration": 78171,
    "start_time": "2023-03-26T21:19:12.981Z"
   },
   {
    "duration": 1055,
    "start_time": "2023-03-26T21:20:47.175Z"
   },
   {
    "duration": 42,
    "start_time": "2023-03-26T21:20:48.232Z"
   },
   {
    "duration": 20,
    "start_time": "2023-03-26T21:20:48.275Z"
   },
   {
    "duration": 12,
    "start_time": "2023-03-26T21:20:48.296Z"
   },
   {
    "duration": 6,
    "start_time": "2023-03-26T21:20:48.310Z"
   },
   {
    "duration": 22,
    "start_time": "2023-03-26T21:20:48.318Z"
   },
   {
    "duration": 19,
    "start_time": "2023-03-26T21:20:48.341Z"
   },
   {
    "duration": 11,
    "start_time": "2023-03-26T21:20:48.362Z"
   },
   {
    "duration": 12,
    "start_time": "2023-03-26T21:20:48.375Z"
   },
   {
    "duration": 5,
    "start_time": "2023-03-26T21:20:48.388Z"
   },
   {
    "duration": 46,
    "start_time": "2023-03-26T21:20:48.395Z"
   },
   {
    "duration": 4,
    "start_time": "2023-03-26T21:20:48.442Z"
   },
   {
    "duration": 11,
    "start_time": "2023-03-26T21:20:48.448Z"
   },
   {
    "duration": 16,
    "start_time": "2023-03-26T21:20:48.462Z"
   },
   {
    "duration": 6,
    "start_time": "2023-03-26T21:20:48.479Z"
   },
   {
    "duration": 3,
    "start_time": "2023-03-26T21:20:48.487Z"
   },
   {
    "duration": 4,
    "start_time": "2023-03-26T21:20:48.491Z"
   },
   {
    "duration": 7,
    "start_time": "2023-03-26T21:20:48.496Z"
   },
   {
    "duration": 11,
    "start_time": "2023-03-26T21:20:48.504Z"
   },
   {
    "duration": 25,
    "start_time": "2023-03-26T21:20:48.517Z"
   },
   {
    "duration": 77700,
    "start_time": "2023-03-26T21:20:48.544Z"
   },
   {
    "duration": 6,
    "start_time": "2023-03-26T21:22:06.246Z"
   },
   {
    "duration": 14,
    "start_time": "2023-03-26T21:22:06.253Z"
   },
   {
    "duration": 4,
    "start_time": "2023-03-26T21:22:06.269Z"
   },
   {
    "duration": 6,
    "start_time": "2023-03-26T21:22:06.275Z"
   },
   {
    "duration": 10,
    "start_time": "2023-03-26T21:22:06.283Z"
   },
   {
    "duration": 5,
    "start_time": "2023-03-26T21:22:06.295Z"
   },
   {
    "duration": 42,
    "start_time": "2023-03-26T21:22:06.302Z"
   },
   {
    "duration": 2,
    "start_time": "2023-03-26T21:22:06.346Z"
   },
   {
    "duration": 106094,
    "start_time": "2023-03-26T21:22:06.350Z"
   },
   {
    "duration": 2,
    "start_time": "2023-03-26T21:23:52.446Z"
   },
   {
    "duration": 44956,
    "start_time": "2023-03-26T21:23:52.450Z"
   },
   {
    "duration": 78001,
    "start_time": "2023-03-26T21:24:37.408Z"
   },
   {
    "duration": 693,
    "start_time": "2023-03-26T21:25:55.410Z"
   },
   {
    "duration": 977,
    "start_time": "2023-03-26T21:25:56.105Z"
   },
   {
    "duration": 105,
    "start_time": "2023-03-26T21:25:57.083Z"
   },
   {
    "duration": 102,
    "start_time": "2023-03-26T21:25:57.190Z"
   },
   {
    "duration": 870,
    "start_time": "2023-03-26T21:25:57.294Z"
   },
   {
    "duration": 7,
    "start_time": "2023-03-26T21:25:58.166Z"
   },
   {
    "duration": 5,
    "start_time": "2023-03-26T21:25:58.175Z"
   },
   {
    "duration": 920,
    "start_time": "2023-03-26T21:25:58.183Z"
   },
   {
    "duration": 111,
    "start_time": "2023-03-26T21:25:59.105Z"
   },
   {
    "duration": 60,
    "start_time": "2023-03-26T21:25:59.218Z"
   },
   {
    "duration": 513,
    "start_time": "2023-03-26T21:34:30.912Z"
   },
   {
    "duration": 173,
    "start_time": "2023-03-26T21:36:10.687Z"
   },
   {
    "duration": 700,
    "start_time": "2023-03-26T21:38:00.454Z"
   },
   {
    "duration": 511,
    "start_time": "2023-03-26T21:38:02.007Z"
   },
   {
    "duration": 170,
    "start_time": "2023-03-26T21:38:03.334Z"
   },
   {
    "duration": 168,
    "start_time": "2023-03-26T21:39:33.974Z"
   },
   {
    "duration": 208,
    "start_time": "2023-03-26T21:41:14.278Z"
   },
   {
    "duration": 168,
    "start_time": "2023-03-26T21:41:24.326Z"
   },
   {
    "duration": 1502,
    "start_time": "2023-03-26T21:45:48.949Z"
   },
   {
    "duration": 171,
    "start_time": "2023-03-26T21:45:52.004Z"
   },
   {
    "duration": 1708,
    "start_time": "2023-03-26T21:46:36.915Z"
   },
   {
    "duration": 707,
    "start_time": "2023-03-26T21:47:05.531Z"
   },
   {
    "duration": 613,
    "start_time": "2023-03-26T21:47:06.787Z"
   },
   {
    "duration": 170,
    "start_time": "2023-03-26T21:47:07.507Z"
   },
   {
    "duration": 169,
    "start_time": "2023-03-26T21:47:14.010Z"
   },
   {
    "duration": 1746,
    "start_time": "2023-03-26T21:47:45.659Z"
   },
   {
    "duration": 1382,
    "start_time": "2023-03-26T21:58:25.207Z"
   },
   {
    "duration": 1475,
    "start_time": "2023-03-27T15:47:57.583Z"
   },
   {
    "duration": 166,
    "start_time": "2023-03-27T15:47:59.060Z"
   },
   {
    "duration": 21,
    "start_time": "2023-03-27T15:47:59.227Z"
   },
   {
    "duration": 18,
    "start_time": "2023-03-27T15:47:59.250Z"
   },
   {
    "duration": 8,
    "start_time": "2023-03-27T15:47:59.272Z"
   },
   {
    "duration": 24,
    "start_time": "2023-03-27T15:47:59.282Z"
   },
   {
    "duration": 22,
    "start_time": "2023-03-27T15:47:59.308Z"
   },
   {
    "duration": 13,
    "start_time": "2023-03-27T15:47:59.331Z"
   },
   {
    "duration": 44,
    "start_time": "2023-03-27T15:47:59.346Z"
   },
   {
    "duration": 7,
    "start_time": "2023-03-27T15:47:59.392Z"
   },
   {
    "duration": 23,
    "start_time": "2023-03-27T15:47:59.402Z"
   },
   {
    "duration": 8,
    "start_time": "2023-03-27T15:47:59.427Z"
   },
   {
    "duration": 13,
    "start_time": "2023-03-27T15:47:59.437Z"
   },
   {
    "duration": 8,
    "start_time": "2023-03-27T15:47:59.453Z"
   },
   {
    "duration": 7,
    "start_time": "2023-03-27T15:47:59.462Z"
   },
   {
    "duration": 6,
    "start_time": "2023-03-27T15:47:59.486Z"
   },
   {
    "duration": 18,
    "start_time": "2023-03-27T15:47:59.494Z"
   },
   {
    "duration": 10,
    "start_time": "2023-03-27T15:47:59.513Z"
   },
   {
    "duration": 12,
    "start_time": "2023-03-27T15:47:59.525Z"
   },
   {
    "duration": 12,
    "start_time": "2023-03-27T15:47:59.539Z"
   },
   {
    "duration": 83324,
    "start_time": "2023-03-27T15:47:59.554Z"
   },
   {
    "duration": 7,
    "start_time": "2023-03-27T15:49:22.880Z"
   },
   {
    "duration": 37,
    "start_time": "2023-03-27T15:49:22.888Z"
   },
   {
    "duration": 22,
    "start_time": "2023-03-27T15:49:22.927Z"
   },
   {
    "duration": 20,
    "start_time": "2023-03-27T15:49:22.950Z"
   },
   {
    "duration": 35,
    "start_time": "2023-03-27T15:49:22.972Z"
   },
   {
    "duration": 28,
    "start_time": "2023-03-27T15:49:23.009Z"
   },
   {
    "duration": 46,
    "start_time": "2023-03-27T15:49:23.039Z"
   },
   {
    "duration": 20,
    "start_time": "2023-03-27T15:49:23.087Z"
   },
   {
    "duration": 108297,
    "start_time": "2023-03-27T15:49:23.108Z"
   },
   {
    "duration": 3,
    "start_time": "2023-03-27T15:51:11.407Z"
   },
   {
    "duration": 47949,
    "start_time": "2023-03-27T15:51:11.411Z"
   },
   {
    "duration": 81002,
    "start_time": "2023-03-27T15:51:59.362Z"
   },
   {
    "duration": 1434,
    "start_time": "2023-03-27T15:53:20.366Z"
   },
   {
    "duration": 216,
    "start_time": "2023-03-27T15:53:21.802Z"
   },
   {
    "duration": 1695,
    "start_time": "2023-03-27T15:53:22.019Z"
   },
   {
    "duration": 50,
    "start_time": "2023-03-27T20:02:12.802Z"
   },
   {
    "duration": 1353,
    "start_time": "2023-03-27T20:02:21.586Z"
   },
   {
    "duration": 177,
    "start_time": "2023-03-27T20:02:22.942Z"
   },
   {
    "duration": 20,
    "start_time": "2023-03-27T20:02:23.123Z"
   },
   {
    "duration": 14,
    "start_time": "2023-03-27T20:02:23.146Z"
   },
   {
    "duration": 64,
    "start_time": "2023-03-27T20:02:23.162Z"
   },
   {
    "duration": 7,
    "start_time": "2023-03-27T20:02:23.228Z"
   },
   {
    "duration": 17,
    "start_time": "2023-03-27T20:02:23.236Z"
   },
   {
    "duration": 37,
    "start_time": "2023-03-27T20:02:23.255Z"
   },
   {
    "duration": 13,
    "start_time": "2023-03-27T20:02:23.294Z"
   },
   {
    "duration": 35,
    "start_time": "2023-03-27T20:02:23.309Z"
   },
   {
    "duration": 7,
    "start_time": "2023-03-27T20:02:23.346Z"
   },
   {
    "duration": 23,
    "start_time": "2023-03-27T20:02:23.355Z"
   },
   {
    "duration": 14,
    "start_time": "2023-03-27T20:02:23.382Z"
   },
   {
    "duration": 26,
    "start_time": "2023-03-27T20:02:23.398Z"
   },
   {
    "duration": 14,
    "start_time": "2023-03-27T20:02:23.426Z"
   },
   {
    "duration": 6,
    "start_time": "2023-03-27T20:02:23.441Z"
   },
   {
    "duration": 14,
    "start_time": "2023-03-27T20:02:23.449Z"
   },
   {
    "duration": 13,
    "start_time": "2023-03-27T20:02:23.465Z"
   },
   {
    "duration": 14,
    "start_time": "2023-03-27T20:02:23.480Z"
   },
   {
    "duration": 15,
    "start_time": "2023-03-27T20:02:23.495Z"
   },
   {
    "duration": 19,
    "start_time": "2023-03-27T20:02:23.511Z"
   },
   {
    "duration": 76812,
    "start_time": "2023-03-27T20:02:23.532Z"
   },
   {
    "duration": 6,
    "start_time": "2023-03-27T20:03:40.345Z"
   },
   {
    "duration": 31,
    "start_time": "2023-03-27T20:03:40.352Z"
   },
   {
    "duration": 4,
    "start_time": "2023-03-27T20:03:40.385Z"
   },
   {
    "duration": 20,
    "start_time": "2023-03-27T20:03:40.391Z"
   },
   {
    "duration": 27,
    "start_time": "2023-03-27T20:03:40.413Z"
   },
   {
    "duration": 11,
    "start_time": "2023-03-27T20:03:40.442Z"
   },
   {
    "duration": 19,
    "start_time": "2023-03-27T20:03:40.455Z"
   },
   {
    "duration": 14,
    "start_time": "2023-03-27T20:03:40.475Z"
   },
   {
    "duration": 102478,
    "start_time": "2023-03-27T20:03:40.491Z"
   },
   {
    "duration": 2,
    "start_time": "2023-03-27T20:05:22.971Z"
   },
   {
    "duration": 46244,
    "start_time": "2023-03-27T20:05:22.975Z"
   },
   {
    "duration": 80143,
    "start_time": "2023-03-27T20:06:09.220Z"
   },
   {
    "duration": 1379,
    "start_time": "2023-03-27T20:07:29.365Z"
   },
   {
    "duration": 235,
    "start_time": "2023-03-27T20:07:30.746Z"
   },
   {
    "duration": 1780,
    "start_time": "2023-03-27T20:07:30.983Z"
   },
   {
    "duration": 581,
    "start_time": "2023-03-27T20:11:45.402Z"
   },
   {
    "duration": 238,
    "start_time": "2023-03-27T20:12:07.898Z"
   },
   {
    "duration": 125,
    "start_time": "2023-03-27T20:12:13.595Z"
   },
   {
    "duration": 111,
    "start_time": "2023-03-27T20:12:18.531Z"
   },
   {
    "duration": 105,
    "start_time": "2023-03-27T20:12:24.809Z"
   },
   {
    "duration": 92,
    "start_time": "2023-03-27T20:12:45.442Z"
   },
   {
    "duration": 93,
    "start_time": "2023-03-27T20:12:57.795Z"
   },
   {
    "duration": 93,
    "start_time": "2023-03-27T20:13:05.587Z"
   },
   {
    "duration": 98,
    "start_time": "2023-03-27T20:13:35.363Z"
   },
   {
    "duration": 11,
    "start_time": "2023-03-27T20:27:46.335Z"
   },
   {
    "duration": 1119,
    "start_time": "2023-03-27T20:27:52.812Z"
   },
   {
    "duration": 11,
    "start_time": "2023-03-27T20:28:52.876Z"
   },
   {
    "duration": 1149,
    "start_time": "2023-03-27T20:28:54.628Z"
   },
   {
    "duration": 11,
    "start_time": "2023-03-27T20:38:19.464Z"
   },
   {
    "duration": 1218,
    "start_time": "2023-03-27T20:38:24.336Z"
   },
   {
    "duration": 12,
    "start_time": "2023-03-27T20:39:16.368Z"
   },
   {
    "duration": 1340,
    "start_time": "2023-03-27T20:39:18.408Z"
   },
   {
    "duration": 14,
    "start_time": "2023-03-27T20:40:40.952Z"
   },
   {
    "duration": 3,
    "start_time": "2023-03-27T20:40:46.422Z"
   },
   {
    "duration": 1299,
    "start_time": "2023-03-27T20:40:46.848Z"
   },
   {
    "duration": 14,
    "start_time": "2023-03-27T20:42:56.831Z"
   },
   {
    "duration": 1293,
    "start_time": "2023-03-27T20:43:00.498Z"
   },
   {
    "duration": 12,
    "start_time": "2023-03-27T20:45:19.202Z"
   },
   {
    "duration": 1252,
    "start_time": "2023-03-27T20:45:21.000Z"
   },
   {
    "duration": 11,
    "start_time": "2023-03-27T20:47:00.919Z"
   },
   {
    "duration": 3,
    "start_time": "2023-03-27T20:47:02.709Z"
   },
   {
    "duration": 1131,
    "start_time": "2023-03-27T20:47:03.044Z"
   },
   {
    "duration": 10,
    "start_time": "2023-03-27T20:47:26.853Z"
   },
   {
    "duration": 1126,
    "start_time": "2023-03-27T20:47:37.269Z"
   },
   {
    "duration": 1125,
    "start_time": "2023-03-27T20:51:43.738Z"
   },
   {
    "duration": 13,
    "start_time": "2023-03-27T20:52:21.867Z"
   },
   {
    "duration": 79530,
    "start_time": "2023-03-27T20:52:24.368Z"
   },
   {
    "duration": 1077,
    "start_time": "2023-03-27T20:55:44.535Z"
   },
   {
    "duration": 41,
    "start_time": "2023-03-27T20:55:45.614Z"
   },
   {
    "duration": 19,
    "start_time": "2023-03-27T20:55:45.656Z"
   },
   {
    "duration": 18,
    "start_time": "2023-03-27T20:55:45.677Z"
   },
   {
    "duration": 49,
    "start_time": "2023-03-27T20:55:45.697Z"
   },
   {
    "duration": 5,
    "start_time": "2023-03-27T20:55:45.748Z"
   },
   {
    "duration": 15,
    "start_time": "2023-03-27T20:55:45.755Z"
   },
   {
    "duration": 18,
    "start_time": "2023-03-27T20:55:45.772Z"
   },
   {
    "duration": 29,
    "start_time": "2023-03-27T20:55:45.792Z"
   },
   {
    "duration": 29,
    "start_time": "2023-03-27T20:55:45.823Z"
   },
   {
    "duration": 8,
    "start_time": "2023-03-27T20:55:45.854Z"
   },
   {
    "duration": 16,
    "start_time": "2023-03-27T20:55:45.863Z"
   },
   {
    "duration": 3,
    "start_time": "2023-03-27T20:55:45.881Z"
   },
   {
    "duration": 12,
    "start_time": "2023-03-27T20:55:45.887Z"
   },
   {
    "duration": 6,
    "start_time": "2023-03-27T20:55:45.901Z"
   },
   {
    "duration": 6,
    "start_time": "2023-03-27T20:55:45.909Z"
   },
   {
    "duration": 6,
    "start_time": "2023-03-27T20:55:45.917Z"
   },
   {
    "duration": 9,
    "start_time": "2023-03-27T20:55:45.924Z"
   },
   {
    "duration": 9,
    "start_time": "2023-03-27T20:55:45.935Z"
   },
   {
    "duration": 360,
    "start_time": "2023-03-27T20:55:45.945Z"
   },
   {
    "duration": 15,
    "start_time": "2023-03-27T20:55:46.307Z"
   },
   {
    "duration": 22,
    "start_time": "2023-03-27T20:55:46.324Z"
   },
   {
    "duration": 79692,
    "start_time": "2023-03-27T20:55:46.348Z"
   },
   {
    "duration": 6,
    "start_time": "2023-03-27T20:57:06.042Z"
   },
   {
    "duration": 20,
    "start_time": "2023-03-27T20:57:06.050Z"
   },
   {
    "duration": 4,
    "start_time": "2023-03-27T20:57:06.072Z"
   },
   {
    "duration": 12,
    "start_time": "2023-03-27T20:57:06.077Z"
   },
   {
    "duration": 31,
    "start_time": "2023-03-27T20:57:06.091Z"
   },
   {
    "duration": 13,
    "start_time": "2023-03-27T20:57:06.123Z"
   },
   {
    "duration": 38,
    "start_time": "2023-03-27T20:57:06.138Z"
   },
   {
    "duration": 17,
    "start_time": "2023-03-27T20:57:06.177Z"
   },
   {
    "duration": 107040,
    "start_time": "2023-03-27T20:57:06.196Z"
   },
   {
    "duration": 4,
    "start_time": "2023-03-27T20:58:53.237Z"
   },
   {
    "duration": 47679,
    "start_time": "2023-03-27T20:58:53.242Z"
   },
   {
    "duration": 79580,
    "start_time": "2023-03-27T20:59:40.923Z"
   },
   {
    "duration": 1352,
    "start_time": "2023-03-27T21:01:00.505Z"
   },
   {
    "duration": 231,
    "start_time": "2023-03-27T21:01:01.860Z"
   },
   {
    "duration": 1757,
    "start_time": "2023-03-27T21:01:02.093Z"
   },
   {
    "duration": 12,
    "start_time": "2023-03-27T21:20:33.360Z"
   },
   {
    "duration": 1080,
    "start_time": "2023-03-27T21:21:27.139Z"
   },
   {
    "duration": 43,
    "start_time": "2023-03-27T21:21:28.221Z"
   },
   {
    "duration": 21,
    "start_time": "2023-03-27T21:21:28.266Z"
   },
   {
    "duration": 15,
    "start_time": "2023-03-27T21:21:28.288Z"
   },
   {
    "duration": 48,
    "start_time": "2023-03-27T21:21:28.305Z"
   },
   {
    "duration": 6,
    "start_time": "2023-03-27T21:21:28.354Z"
   },
   {
    "duration": 41,
    "start_time": "2023-03-27T21:21:28.362Z"
   },
   {
    "duration": 30,
    "start_time": "2023-03-27T21:21:28.404Z"
   },
   {
    "duration": 20,
    "start_time": "2023-03-27T21:21:28.436Z"
   },
   {
    "duration": 22,
    "start_time": "2023-03-27T21:21:28.458Z"
   },
   {
    "duration": 22,
    "start_time": "2023-03-27T21:21:28.482Z"
   },
   {
    "duration": 39,
    "start_time": "2023-03-27T21:21:28.506Z"
   },
   {
    "duration": 21,
    "start_time": "2023-03-27T21:21:28.547Z"
   },
   {
    "duration": 27,
    "start_time": "2023-03-27T21:21:28.571Z"
   },
   {
    "duration": 28,
    "start_time": "2023-03-27T21:21:28.600Z"
   },
   {
    "duration": 22,
    "start_time": "2023-03-27T21:21:28.630Z"
   },
   {
    "duration": 18,
    "start_time": "2023-03-27T21:21:28.654Z"
   },
   {
    "duration": 35,
    "start_time": "2023-03-27T21:21:28.674Z"
   },
   {
    "duration": 31,
    "start_time": "2023-03-27T21:21:28.711Z"
   },
   {
    "duration": 368,
    "start_time": "2023-03-27T21:21:28.744Z"
   },
   {
    "duration": 12,
    "start_time": "2023-03-27T21:21:29.117Z"
   },
   {
    "duration": 36,
    "start_time": "2023-03-27T21:21:29.131Z"
   },
   {
    "duration": 78306,
    "start_time": "2023-03-27T21:21:29.169Z"
   },
   {
    "duration": 6,
    "start_time": "2023-03-27T21:22:47.476Z"
   },
   {
    "duration": 18,
    "start_time": "2023-03-27T21:22:47.484Z"
   },
   {
    "duration": 10,
    "start_time": "2023-03-27T21:22:47.504Z"
   },
   {
    "duration": 9,
    "start_time": "2023-03-27T21:22:47.515Z"
   },
   {
    "duration": 14,
    "start_time": "2023-03-27T21:22:47.525Z"
   },
   {
    "duration": 4,
    "start_time": "2023-03-27T21:22:47.541Z"
   },
   {
    "duration": 13,
    "start_time": "2023-03-27T21:22:47.546Z"
   },
   {
    "duration": 31,
    "start_time": "2023-03-27T21:22:47.561Z"
   },
   {
    "duration": 105672,
    "start_time": "2023-03-27T21:22:47.594Z"
   },
   {
    "duration": 4,
    "start_time": "2023-03-27T21:24:33.268Z"
   },
   {
    "duration": 47170,
    "start_time": "2023-03-27T21:24:33.274Z"
   },
   {
    "duration": 78374,
    "start_time": "2023-03-27T21:25:20.445Z"
   },
   {
    "duration": 1333,
    "start_time": "2023-03-27T21:26:38.821Z"
   },
   {
    "duration": 211,
    "start_time": "2023-03-27T21:26:40.156Z"
   },
   {
    "duration": 1687,
    "start_time": "2023-03-27T21:26:40.369Z"
   },
   {
    "duration": 135,
    "start_time": "2023-03-27T21:28:31.852Z"
   },
   {
    "duration": 4,
    "start_time": "2023-03-27T21:28:39.283Z"
   },
   {
    "duration": 4,
    "start_time": "2023-03-27T21:28:44.725Z"
   },
   {
    "duration": 9,
    "start_time": "2023-03-27T21:28:53.401Z"
   },
   {
    "duration": 10,
    "start_time": "2023-03-27T21:29:14.188Z"
   },
   {
    "duration": 19,
    "start_time": "2023-03-27T21:29:32.077Z"
   },
   {
    "duration": 241,
    "start_time": "2023-03-27T21:30:08.892Z"
   },
   {
    "duration": 236,
    "start_time": "2023-03-27T21:34:50.683Z"
   },
   {
    "duration": 1240,
    "start_time": "2023-03-27T21:38:28.432Z"
   },
   {
    "duration": 0,
    "start_time": "2023-03-27T21:38:29.675Z"
   },
   {
    "duration": 13,
    "start_time": "2023-03-27T21:38:49.240Z"
   },
   {
    "duration": 41,
    "start_time": "2023-03-27T21:39:01.109Z"
   },
   {
    "duration": 14,
    "start_time": "2023-03-27T21:39:01.608Z"
   },
   {
    "duration": 12,
    "start_time": "2023-03-27T21:39:24.209Z"
   },
   {
    "duration": 1165,
    "start_time": "2023-03-27T21:39:27.856Z"
   },
   {
    "duration": 4,
    "start_time": "2023-03-27T21:39:42.153Z"
   },
   {
    "duration": 13,
    "start_time": "2023-03-27T21:39:43.135Z"
   },
   {
    "duration": 4,
    "start_time": "2023-03-27T21:39:43.600Z"
   },
   {
    "duration": 3,
    "start_time": "2023-03-27T21:39:44.104Z"
   },
   {
    "duration": 4,
    "start_time": "2023-03-27T21:39:44.408Z"
   },
   {
    "duration": 4,
    "start_time": "2023-03-27T21:39:44.672Z"
   },
   {
    "duration": 4,
    "start_time": "2023-03-27T21:39:44.992Z"
   },
   {
    "duration": 4,
    "start_time": "2023-03-27T21:39:45.272Z"
   },
   {
    "duration": 14,
    "start_time": "2023-03-27T21:39:46.158Z"
   },
   {
    "duration": 21,
    "start_time": "2023-03-27T21:39:51.136Z"
   },
   {
    "duration": 7,
    "start_time": "2023-03-27T21:40:37.239Z"
   },
   {
    "duration": 12,
    "start_time": "2023-03-27T21:40:42.904Z"
   },
   {
    "duration": 6,
    "start_time": "2023-03-27T21:40:47.943Z"
   },
   {
    "duration": 11,
    "start_time": "2023-03-27T21:40:48.728Z"
   },
   {
    "duration": 4,
    "start_time": "2023-03-27T21:40:48.992Z"
   },
   {
    "duration": 4,
    "start_time": "2023-03-27T21:40:49.207Z"
   },
   {
    "duration": 5,
    "start_time": "2023-03-27T21:40:49.390Z"
   },
   {
    "duration": 4,
    "start_time": "2023-03-27T21:40:49.672Z"
   },
   {
    "duration": 4,
    "start_time": "2023-03-27T21:40:49.935Z"
   },
   {
    "duration": 4,
    "start_time": "2023-03-27T21:40:50.335Z"
   },
   {
    "duration": 11,
    "start_time": "2023-03-27T21:40:51.288Z"
   },
   {
    "duration": 15,
    "start_time": "2023-03-27T21:41:14.751Z"
   },
   {
    "duration": 9,
    "start_time": "2023-03-27T21:41:22.959Z"
   },
   {
    "duration": 228,
    "start_time": "2023-03-27T21:41:24.866Z"
   },
   {
    "duration": 325,
    "start_time": "2023-03-27T21:41:38.911Z"
   },
   {
    "duration": 11,
    "start_time": "2023-03-27T21:42:17.139Z"
   },
   {
    "duration": 225,
    "start_time": "2023-03-27T21:42:33.584Z"
   },
   {
    "duration": 42,
    "start_time": "2023-03-27T21:44:11.822Z"
   },
   {
    "duration": 15,
    "start_time": "2023-03-27T21:47:51.669Z"
   },
   {
    "duration": 13,
    "start_time": "2023-03-27T21:47:59.276Z"
   },
   {
    "duration": 6,
    "start_time": "2023-03-27T21:48:24.077Z"
   },
   {
    "duration": 13,
    "start_time": "2023-03-27T21:48:25.548Z"
   },
   {
    "duration": 246,
    "start_time": "2023-03-27T21:48:31.812Z"
   },
   {
    "duration": 226,
    "start_time": "2023-03-27T21:48:50.492Z"
   },
   {
    "duration": 14,
    "start_time": "2023-03-27T21:49:04.006Z"
   },
   {
    "duration": 17,
    "start_time": "2023-03-27T21:50:06.962Z"
   },
   {
    "duration": 14,
    "start_time": "2023-03-27T21:50:25.635Z"
   },
   {
    "duration": 13,
    "start_time": "2023-03-27T21:50:28.758Z"
   },
   {
    "duration": 14,
    "start_time": "2023-03-27T21:50:34.674Z"
   },
   {
    "duration": 12,
    "start_time": "2023-03-27T21:51:11.211Z"
   },
   {
    "duration": 14,
    "start_time": "2023-03-27T21:51:16.135Z"
   },
   {
    "duration": 8,
    "start_time": "2023-03-27T21:51:30.307Z"
   },
   {
    "duration": 13,
    "start_time": "2023-03-27T21:51:31.396Z"
   },
   {
    "duration": 180,
    "start_time": "2023-03-27T21:51:38.220Z"
   },
   {
    "duration": 8,
    "start_time": "2023-03-27T21:52:32.468Z"
   },
   {
    "duration": 15,
    "start_time": "2023-03-27T21:52:37.884Z"
   },
   {
    "duration": 9,
    "start_time": "2023-03-27T21:53:46.235Z"
   },
   {
    "duration": 17,
    "start_time": "2023-03-27T21:53:52.163Z"
   },
   {
    "duration": 4,
    "start_time": "2023-03-27T23:07:16.686Z"
   },
   {
    "duration": 16,
    "start_time": "2023-03-27T23:07:40.636Z"
   },
   {
    "duration": 11,
    "start_time": "2023-03-27T23:07:45.915Z"
   },
   {
    "duration": 13,
    "start_time": "2023-03-27T23:08:33.243Z"
   },
   {
    "duration": 3,
    "start_time": "2023-03-27T23:10:17.212Z"
   },
   {
    "duration": 10,
    "start_time": "2023-03-27T23:10:19.371Z"
   },
   {
    "duration": 12,
    "start_time": "2023-03-27T23:10:25.851Z"
   },
   {
    "duration": 3,
    "start_time": "2023-03-27T23:10:50.603Z"
   },
   {
    "duration": 23,
    "start_time": "2023-03-27T23:10:51.979Z"
   },
   {
    "duration": 10,
    "start_time": "2023-03-27T23:12:03.978Z"
   },
   {
    "duration": 4,
    "start_time": "2023-03-27T23:12:53.154Z"
   },
   {
    "duration": 11,
    "start_time": "2023-03-27T23:12:55.034Z"
   },
   {
    "duration": 13,
    "start_time": "2023-03-27T23:12:56.402Z"
   },
   {
    "duration": 16,
    "start_time": "2023-03-27T23:13:38.315Z"
   },
   {
    "duration": 3,
    "start_time": "2023-03-27T23:14:47.010Z"
   },
   {
    "duration": 15,
    "start_time": "2023-03-27T23:14:48.081Z"
   },
   {
    "duration": 3,
    "start_time": "2023-03-27T23:15:02.082Z"
   },
   {
    "duration": 24,
    "start_time": "2023-03-27T23:15:03.329Z"
   },
   {
    "duration": 3,
    "start_time": "2023-03-27T23:15:24.042Z"
   },
   {
    "duration": 17,
    "start_time": "2023-03-27T23:15:25.314Z"
   },
   {
    "duration": 29,
    "start_time": "2023-03-27T23:15:25.992Z"
   },
   {
    "duration": 3,
    "start_time": "2023-03-27T23:15:41.793Z"
   },
   {
    "duration": 21,
    "start_time": "2023-03-27T23:15:42.458Z"
   },
   {
    "duration": 29,
    "start_time": "2023-03-27T23:15:43.081Z"
   },
   {
    "duration": 3,
    "start_time": "2023-03-27T23:15:56.377Z"
   },
   {
    "duration": 18,
    "start_time": "2023-03-27T23:15:57.810Z"
   },
   {
    "duration": 28,
    "start_time": "2023-03-27T23:15:58.610Z"
   },
   {
    "duration": 4,
    "start_time": "2023-03-27T23:22:49.630Z"
   },
   {
    "duration": 19,
    "start_time": "2023-03-27T23:22:50.343Z"
   },
   {
    "duration": 28,
    "start_time": "2023-03-27T23:22:51.327Z"
   },
   {
    "duration": 3,
    "start_time": "2023-03-27T23:25:56.413Z"
   },
   {
    "duration": 17,
    "start_time": "2023-03-27T23:25:57.462Z"
   },
   {
    "duration": 15,
    "start_time": "2023-03-27T23:25:57.942Z"
   },
   {
    "duration": 4,
    "start_time": "2023-03-27T23:26:37.229Z"
   },
   {
    "duration": 16,
    "start_time": "2023-03-27T23:26:37.637Z"
   },
   {
    "duration": 15,
    "start_time": "2023-03-27T23:26:37.997Z"
   },
   {
    "duration": 3,
    "start_time": "2023-03-27T23:26:58.933Z"
   },
   {
    "duration": 16,
    "start_time": "2023-03-27T23:26:59.349Z"
   },
   {
    "duration": 16,
    "start_time": "2023-03-27T23:26:59.717Z"
   },
   {
    "duration": 3,
    "start_time": "2023-03-27T23:27:06.420Z"
   },
   {
    "duration": 23,
    "start_time": "2023-03-27T23:27:07.005Z"
   },
   {
    "duration": 25,
    "start_time": "2023-03-27T23:27:07.774Z"
   },
   {
    "duration": 18,
    "start_time": "2023-03-27T23:27:39.549Z"
   },
   {
    "duration": 4,
    "start_time": "2023-03-27T23:28:59.612Z"
   },
   {
    "duration": 11,
    "start_time": "2023-03-27T23:29:03.820Z"
   },
   {
    "duration": 4,
    "start_time": "2023-03-27T23:29:04.267Z"
   },
   {
    "duration": 3,
    "start_time": "2023-03-27T23:29:04.572Z"
   },
   {
    "duration": 3,
    "start_time": "2023-03-27T23:29:04.812Z"
   },
   {
    "duration": 4,
    "start_time": "2023-03-27T23:29:05.076Z"
   },
   {
    "duration": 4,
    "start_time": "2023-03-27T23:29:05.412Z"
   },
   {
    "duration": 4,
    "start_time": "2023-03-27T23:29:05.700Z"
   },
   {
    "duration": 16,
    "start_time": "2023-03-27T23:29:06.244Z"
   },
   {
    "duration": 6,
    "start_time": "2023-03-27T23:29:07.732Z"
   },
   {
    "duration": 3,
    "start_time": "2023-03-27T23:29:10.492Z"
   },
   {
    "duration": 17,
    "start_time": "2023-03-27T23:29:11.740Z"
   },
   {
    "duration": 24,
    "start_time": "2023-03-27T23:29:12.708Z"
   },
   {
    "duration": 19,
    "start_time": "2023-03-27T23:29:34.517Z"
   },
   {
    "duration": 11,
    "start_time": "2023-03-27T23:30:03.348Z"
   },
   {
    "duration": 15,
    "start_time": "2023-03-27T23:30:05.844Z"
   },
   {
    "duration": 3,
    "start_time": "2023-03-27T23:30:14.220Z"
   },
   {
    "duration": 18,
    "start_time": "2023-03-27T23:30:15.987Z"
   },
   {
    "duration": 25,
    "start_time": "2023-03-27T23:30:18.268Z"
   },
   {
    "duration": 4,
    "start_time": "2023-03-27T23:31:46.411Z"
   },
   {
    "duration": 17,
    "start_time": "2023-03-27T23:31:46.955Z"
   },
   {
    "duration": 23,
    "start_time": "2023-03-27T23:31:48.147Z"
   },
   {
    "duration": 10,
    "start_time": "2023-03-27T23:34:13.138Z"
   },
   {
    "duration": 23,
    "start_time": "2023-03-27T23:34:25.282Z"
   },
   {
    "duration": 16,
    "start_time": "2023-03-27T23:34:30.562Z"
   },
   {
    "duration": 16,
    "start_time": "2023-03-27T23:34:33.122Z"
   },
   {
    "duration": 35,
    "start_time": "2023-03-27T23:34:56.297Z"
   },
   {
    "duration": 50,
    "start_time": "2023-03-27T23:35:07.378Z"
   },
   {
    "duration": 17,
    "start_time": "2023-03-27T23:35:23.626Z"
   },
   {
    "duration": 13,
    "start_time": "2023-03-27T23:36:15.152Z"
   },
   {
    "duration": 19,
    "start_time": "2023-03-27T23:36:16.202Z"
   },
   {
    "duration": 84,
    "start_time": "2023-03-27T23:36:55.337Z"
   },
   {
    "duration": 16,
    "start_time": "2023-03-27T23:37:04.217Z"
   },
   {
    "duration": 19,
    "start_time": "2023-03-27T23:37:21.456Z"
   },
   {
    "duration": 12,
    "start_time": "2023-03-27T23:37:24.040Z"
   },
   {
    "duration": 17,
    "start_time": "2023-03-27T23:37:25.866Z"
   },
   {
    "duration": 7,
    "start_time": "2023-03-27T23:37:32.352Z"
   },
   {
    "duration": 3,
    "start_time": "2023-03-27T23:37:33.968Z"
   },
   {
    "duration": 23,
    "start_time": "2023-03-27T23:37:38.449Z"
   },
   {
    "duration": 19,
    "start_time": "2023-03-27T23:37:42.257Z"
   },
   {
    "duration": 13,
    "start_time": "2023-03-27T23:38:01.673Z"
   },
   {
    "duration": 4,
    "start_time": "2023-03-27T23:39:10.297Z"
   },
   {
    "duration": 10,
    "start_time": "2023-03-27T23:39:11.544Z"
   },
   {
    "duration": 10,
    "start_time": "2023-03-27T23:39:16.144Z"
   },
   {
    "duration": 25,
    "start_time": "2023-03-27T23:39:33.935Z"
   },
   {
    "duration": 14,
    "start_time": "2023-03-27T23:39:36.920Z"
   },
   {
    "duration": 13,
    "start_time": "2023-03-27T23:47:11.021Z"
   },
   {
    "duration": 11,
    "start_time": "2023-03-27T23:47:17.148Z"
   },
   {
    "duration": 4,
    "start_time": "2023-03-27T23:47:37.404Z"
   },
   {
    "duration": 13,
    "start_time": "2023-03-27T23:47:40.476Z"
   },
   {
    "duration": 24,
    "start_time": "2023-03-27T23:48:05.693Z"
   },
   {
    "duration": 13,
    "start_time": "2023-03-27T23:48:50.141Z"
   },
   {
    "duration": 12,
    "start_time": "2023-03-27T23:48:57.020Z"
   },
   {
    "duration": 7,
    "start_time": "2023-03-27T23:48:58.133Z"
   },
   {
    "duration": 6,
    "start_time": "2023-03-27T23:49:33.412Z"
   },
   {
    "duration": 3,
    "start_time": "2023-03-27T23:49:47.187Z"
   },
   {
    "duration": 5,
    "start_time": "2023-03-27T23:49:48.115Z"
   },
   {
    "duration": 23,
    "start_time": "2023-03-27T23:49:48.683Z"
   },
   {
    "duration": 19,
    "start_time": "2023-03-27T23:49:51.907Z"
   },
   {
    "duration": 12,
    "start_time": "2023-03-27T23:49:59.115Z"
   },
   {
    "duration": 3,
    "start_time": "2023-03-27T23:50:04.052Z"
   },
   {
    "duration": 4,
    "start_time": "2023-03-27T23:50:05.388Z"
   },
   {
    "duration": 22,
    "start_time": "2023-03-27T23:50:06.227Z"
   },
   {
    "duration": 15,
    "start_time": "2023-03-27T23:50:06.916Z"
   },
   {
    "duration": 5,
    "start_time": "2023-03-27T23:51:34.611Z"
   },
   {
    "duration": 12,
    "start_time": "2023-03-27T23:51:35.979Z"
   },
   {
    "duration": 4,
    "start_time": "2023-03-27T23:51:36.747Z"
   },
   {
    "duration": 4,
    "start_time": "2023-03-27T23:51:37.107Z"
   },
   {
    "duration": 4,
    "start_time": "2023-03-27T23:51:37.547Z"
   },
   {
    "duration": 4,
    "start_time": "2023-03-27T23:51:37.914Z"
   },
   {
    "duration": 3,
    "start_time": "2023-03-27T23:51:38.274Z"
   },
   {
    "duration": 4,
    "start_time": "2023-03-27T23:51:38.618Z"
   },
   {
    "duration": 11,
    "start_time": "2023-03-27T23:51:39.018Z"
   },
   {
    "duration": 3,
    "start_time": "2023-03-27T23:51:42.970Z"
   },
   {
    "duration": 5,
    "start_time": "2023-03-27T23:51:43.554Z"
   },
   {
    "duration": 21,
    "start_time": "2023-03-27T23:51:44.018Z"
   },
   {
    "duration": 14,
    "start_time": "2023-03-27T23:51:44.643Z"
   },
   {
    "duration": 8,
    "start_time": "2023-03-27T23:55:13.498Z"
   },
   {
    "duration": 25,
    "start_time": "2023-03-27T23:57:42.544Z"
   },
   {
    "duration": 16,
    "start_time": "2023-03-27T23:57:45.088Z"
   },
   {
    "duration": 15,
    "start_time": "2023-03-27T23:58:06.920Z"
   },
   {
    "duration": 11,
    "start_time": "2023-03-27T23:59:54.639Z"
   },
   {
    "duration": 11,
    "start_time": "2023-03-28T00:00:07.055Z"
   },
   {
    "duration": 11,
    "start_time": "2023-03-28T00:00:33.591Z"
   },
   {
    "duration": 11,
    "start_time": "2023-03-28T00:01:14.071Z"
   },
   {
    "duration": 45,
    "start_time": "2023-03-28T00:01:24.839Z"
   },
   {
    "duration": 6,
    "start_time": "2023-03-28T00:01:58.278Z"
   },
   {
    "duration": 101,
    "start_time": "2023-03-28T00:01:59.103Z"
   },
   {
    "duration": 10,
    "start_time": "2023-03-28T00:06:10.101Z"
   },
   {
    "duration": 1045,
    "start_time": "2023-03-28T00:07:23.149Z"
   },
   {
    "duration": 42,
    "start_time": "2023-03-28T00:07:24.196Z"
   },
   {
    "duration": 20,
    "start_time": "2023-03-28T00:07:24.239Z"
   },
   {
    "duration": 20,
    "start_time": "2023-03-28T00:07:24.260Z"
   },
   {
    "duration": 40,
    "start_time": "2023-03-28T00:07:24.282Z"
   },
   {
    "duration": 7,
    "start_time": "2023-03-28T00:07:24.323Z"
   },
   {
    "duration": 9,
    "start_time": "2023-03-28T00:07:24.332Z"
   },
   {
    "duration": 8,
    "start_time": "2023-03-28T00:07:24.342Z"
   },
   {
    "duration": 18,
    "start_time": "2023-03-28T00:07:24.351Z"
   },
   {
    "duration": 15,
    "start_time": "2023-03-28T00:07:24.370Z"
   },
   {
    "duration": 4,
    "start_time": "2023-03-28T00:07:24.386Z"
   },
   {
    "duration": 25,
    "start_time": "2023-03-28T00:07:24.392Z"
   },
   {
    "duration": 8,
    "start_time": "2023-03-28T00:07:24.419Z"
   },
   {
    "duration": 18,
    "start_time": "2023-03-28T00:07:24.429Z"
   },
   {
    "duration": 12,
    "start_time": "2023-03-28T00:07:24.448Z"
   },
   {
    "duration": 5,
    "start_time": "2023-03-28T00:07:24.462Z"
   },
   {
    "duration": 18,
    "start_time": "2023-03-28T00:07:24.469Z"
   },
   {
    "duration": 11,
    "start_time": "2023-03-28T00:07:24.488Z"
   },
   {
    "duration": 4,
    "start_time": "2023-03-28T00:07:24.501Z"
   },
   {
    "duration": 100,
    "start_time": "2023-03-28T00:07:24.507Z"
   },
   {
    "duration": 0,
    "start_time": "2023-03-28T00:07:24.609Z"
   },
   {
    "duration": 0,
    "start_time": "2023-03-28T00:07:24.610Z"
   },
   {
    "duration": 0,
    "start_time": "2023-03-28T00:07:24.611Z"
   },
   {
    "duration": 0,
    "start_time": "2023-03-28T00:07:24.612Z"
   },
   {
    "duration": 0,
    "start_time": "2023-03-28T00:07:24.613Z"
   },
   {
    "duration": 0,
    "start_time": "2023-03-28T00:07:24.617Z"
   },
   {
    "duration": 0,
    "start_time": "2023-03-28T00:07:24.618Z"
   },
   {
    "duration": 0,
    "start_time": "2023-03-28T00:07:24.619Z"
   },
   {
    "duration": 0,
    "start_time": "2023-03-28T00:07:24.620Z"
   },
   {
    "duration": 0,
    "start_time": "2023-03-28T00:07:24.621Z"
   },
   {
    "duration": 0,
    "start_time": "2023-03-28T00:07:24.622Z"
   },
   {
    "duration": 0,
    "start_time": "2023-03-28T00:07:24.623Z"
   },
   {
    "duration": 0,
    "start_time": "2023-03-28T00:07:24.624Z"
   },
   {
    "duration": 0,
    "start_time": "2023-03-28T00:07:24.625Z"
   },
   {
    "duration": 0,
    "start_time": "2023-03-28T00:07:24.625Z"
   },
   {
    "duration": 0,
    "start_time": "2023-03-28T00:07:24.626Z"
   },
   {
    "duration": 0,
    "start_time": "2023-03-28T00:07:24.628Z"
   },
   {
    "duration": 0,
    "start_time": "2023-03-28T00:07:24.628Z"
   },
   {
    "duration": 0,
    "start_time": "2023-03-28T00:07:24.629Z"
   },
   {
    "duration": 0,
    "start_time": "2023-03-28T00:07:24.630Z"
   },
   {
    "duration": 0,
    "start_time": "2023-03-28T00:07:24.631Z"
   },
   {
    "duration": 0,
    "start_time": "2023-03-28T00:07:24.632Z"
   },
   {
    "duration": 0,
    "start_time": "2023-03-28T00:07:24.633Z"
   },
   {
    "duration": 0,
    "start_time": "2023-03-28T00:07:24.635Z"
   },
   {
    "duration": 4,
    "start_time": "2023-03-28T00:08:51.931Z"
   },
   {
    "duration": 6,
    "start_time": "2023-03-28T00:08:59.716Z"
   },
   {
    "duration": 1150,
    "start_time": "2023-03-28T00:09:10.718Z"
   },
   {
    "duration": 47,
    "start_time": "2023-03-28T00:09:11.871Z"
   },
   {
    "duration": 23,
    "start_time": "2023-03-28T00:09:11.920Z"
   },
   {
    "duration": 15,
    "start_time": "2023-03-28T00:09:11.945Z"
   },
   {
    "duration": 60,
    "start_time": "2023-03-28T00:09:11.962Z"
   },
   {
    "duration": 6,
    "start_time": "2023-03-28T00:09:12.024Z"
   },
   {
    "duration": 9,
    "start_time": "2023-03-28T00:09:12.031Z"
   },
   {
    "duration": 4,
    "start_time": "2023-03-28T00:09:12.042Z"
   },
   {
    "duration": 14,
    "start_time": "2023-03-28T00:09:12.048Z"
   },
   {
    "duration": 12,
    "start_time": "2023-03-28T00:09:12.064Z"
   },
   {
    "duration": 5,
    "start_time": "2023-03-28T00:09:12.078Z"
   },
   {
    "duration": 41,
    "start_time": "2023-03-28T00:09:12.085Z"
   },
   {
    "duration": 5,
    "start_time": "2023-03-28T00:09:12.127Z"
   },
   {
    "duration": 4,
    "start_time": "2023-03-28T00:09:12.136Z"
   },
   {
    "duration": 5,
    "start_time": "2023-03-28T00:09:12.142Z"
   },
   {
    "duration": 6,
    "start_time": "2023-03-28T00:09:12.149Z"
   },
   {
    "duration": 6,
    "start_time": "2023-03-28T00:09:12.157Z"
   },
   {
    "duration": 19,
    "start_time": "2023-03-28T00:09:12.164Z"
   },
   {
    "duration": 6,
    "start_time": "2023-03-28T00:09:12.184Z"
   },
   {
    "duration": 28,
    "start_time": "2023-03-28T00:09:12.191Z"
   },
   {
    "duration": 9,
    "start_time": "2023-03-28T00:09:12.220Z"
   },
   {
    "duration": 22,
    "start_time": "2023-03-28T00:09:12.230Z"
   },
   {
    "duration": 33,
    "start_time": "2023-03-28T00:09:12.253Z"
   },
   {
    "duration": 14,
    "start_time": "2023-03-28T00:09:12.288Z"
   },
   {
    "duration": 46,
    "start_time": "2023-03-28T00:09:12.318Z"
   },
   {
    "duration": 7,
    "start_time": "2023-03-28T00:09:12.366Z"
   },
   {
    "duration": 437,
    "start_time": "2023-03-28T00:09:12.374Z"
   },
   {
    "duration": 11,
    "start_time": "2023-03-28T00:09:12.817Z"
   },
   {
    "duration": 23,
    "start_time": "2023-03-28T00:09:12.830Z"
   },
   {
    "duration": 74066,
    "start_time": "2023-03-28T00:09:12.855Z"
   },
   {
    "duration": 5,
    "start_time": "2023-03-28T00:10:26.923Z"
   },
   {
    "duration": 27,
    "start_time": "2023-03-28T00:10:26.930Z"
   },
   {
    "duration": 8,
    "start_time": "2023-03-28T00:10:26.959Z"
   },
   {
    "duration": 13,
    "start_time": "2023-03-28T00:10:26.969Z"
   },
   {
    "duration": 14,
    "start_time": "2023-03-28T00:10:26.984Z"
   },
   {
    "duration": 6,
    "start_time": "2023-03-28T00:10:26.999Z"
   },
   {
    "duration": 16,
    "start_time": "2023-03-28T00:10:27.007Z"
   },
   {
    "duration": 11,
    "start_time": "2023-03-28T00:10:27.025Z"
   },
   {
    "duration": 100616,
    "start_time": "2023-03-28T00:10:27.037Z"
   },
   {
    "duration": 3,
    "start_time": "2023-03-28T00:12:07.654Z"
   },
   {
    "duration": 45286,
    "start_time": "2023-03-28T00:12:07.660Z"
   },
   {
    "duration": 74607,
    "start_time": "2023-03-28T00:12:52.948Z"
   },
   {
    "duration": 1243,
    "start_time": "2023-03-28T00:14:07.557Z"
   },
   {
    "duration": 201,
    "start_time": "2023-03-28T00:14:08.801Z"
   },
   {
    "duration": 1504,
    "start_time": "2023-03-28T00:14:09.004Z"
   },
   {
    "duration": 49,
    "start_time": "2023-03-28T18:57:35.623Z"
   },
   {
    "duration": 1150,
    "start_time": "2023-03-28T18:57:47.764Z"
   },
   {
    "duration": 352,
    "start_time": "2023-03-28T18:57:48.916Z"
   },
   {
    "duration": 19,
    "start_time": "2023-03-28T18:57:49.269Z"
   },
   {
    "duration": 12,
    "start_time": "2023-03-28T18:57:49.289Z"
   },
   {
    "duration": 39,
    "start_time": "2023-03-28T18:57:49.303Z"
   },
   {
    "duration": 6,
    "start_time": "2023-03-28T18:57:49.343Z"
   },
   {
    "duration": 23,
    "start_time": "2023-03-28T18:57:49.351Z"
   },
   {
    "duration": 10,
    "start_time": "2023-03-28T18:57:49.375Z"
   },
   {
    "duration": 30,
    "start_time": "2023-03-28T18:57:49.387Z"
   },
   {
    "duration": 11,
    "start_time": "2023-03-28T18:57:49.419Z"
   },
   {
    "duration": 5,
    "start_time": "2023-03-28T18:57:49.431Z"
   },
   {
    "duration": 13,
    "start_time": "2023-03-28T18:57:49.437Z"
   },
   {
    "duration": 3,
    "start_time": "2023-03-28T18:57:49.452Z"
   },
   {
    "duration": 8,
    "start_time": "2023-03-28T18:57:49.460Z"
   },
   {
    "duration": 16,
    "start_time": "2023-03-28T18:57:49.470Z"
   },
   {
    "duration": 5,
    "start_time": "2023-03-28T18:57:49.488Z"
   },
   {
    "duration": 4,
    "start_time": "2023-03-28T18:57:49.495Z"
   },
   {
    "duration": 5,
    "start_time": "2023-03-28T18:57:49.501Z"
   },
   {
    "duration": 4,
    "start_time": "2023-03-28T18:57:49.508Z"
   },
   {
    "duration": 5,
    "start_time": "2023-03-28T18:57:49.514Z"
   },
   {
    "duration": 8,
    "start_time": "2023-03-28T18:57:49.520Z"
   },
   {
    "duration": 21,
    "start_time": "2023-03-28T18:57:49.530Z"
   },
   {
    "duration": 56,
    "start_time": "2023-03-28T18:57:49.553Z"
   },
   {
    "duration": 14,
    "start_time": "2023-03-28T18:57:49.611Z"
   },
   {
    "duration": 12,
    "start_time": "2023-03-28T18:57:49.627Z"
   },
   {
    "duration": 72,
    "start_time": "2023-03-28T18:57:49.641Z"
   },
   {
    "duration": 6,
    "start_time": "2023-03-28T18:57:49.715Z"
   },
   {
    "duration": 571,
    "start_time": "2023-03-28T18:57:49.723Z"
   },
   {
    "duration": 11,
    "start_time": "2023-03-28T18:57:50.295Z"
   },
   {
    "duration": 9,
    "start_time": "2023-03-28T18:57:50.308Z"
   },
   {
    "duration": 77545,
    "start_time": "2023-03-28T18:57:50.319Z"
   },
   {
    "duration": 6,
    "start_time": "2023-03-28T18:59:07.866Z"
   },
   {
    "duration": 26,
    "start_time": "2023-03-28T18:59:07.873Z"
   },
   {
    "duration": 4,
    "start_time": "2023-03-28T18:59:07.901Z"
   },
   {
    "duration": 16,
    "start_time": "2023-03-28T18:59:07.906Z"
   },
   {
    "duration": 14,
    "start_time": "2023-03-28T18:59:07.924Z"
   },
   {
    "duration": 4,
    "start_time": "2023-03-28T18:59:07.939Z"
   },
   {
    "duration": 9,
    "start_time": "2023-03-28T18:59:07.945Z"
   },
   {
    "duration": 12,
    "start_time": "2023-03-28T18:59:07.955Z"
   },
   {
    "duration": 104663,
    "start_time": "2023-03-28T18:59:07.969Z"
   },
   {
    "duration": 3,
    "start_time": "2023-03-28T19:00:52.637Z"
   },
   {
    "duration": 48432,
    "start_time": "2023-03-28T19:00:52.642Z"
   },
   {
    "duration": 77802,
    "start_time": "2023-03-28T19:01:41.075Z"
   },
   {
    "duration": 1337,
    "start_time": "2023-03-28T19:02:58.879Z"
   },
   {
    "duration": 229,
    "start_time": "2023-03-28T19:03:00.218Z"
   },
   {
    "duration": 1857,
    "start_time": "2023-03-28T19:03:00.449Z"
   },
   {
    "duration": 7,
    "start_time": "2023-03-28T21:06:45.128Z"
   },
   {
    "duration": 134,
    "start_time": "2023-03-28T21:07:07.831Z"
   },
   {
    "duration": 129,
    "start_time": "2023-03-28T21:07:23.740Z"
   },
   {
    "duration": 4,
    "start_time": "2023-03-28T21:07:41.140Z"
   },
   {
    "duration": 59,
    "start_time": "2023-03-28T21:07:41.146Z"
   },
   {
    "duration": 16,
    "start_time": "2023-03-28T21:07:41.207Z"
   },
   {
    "duration": 17,
    "start_time": "2023-03-28T21:07:41.225Z"
   },
   {
    "duration": 52,
    "start_time": "2023-03-28T21:07:41.244Z"
   },
   {
    "duration": 6,
    "start_time": "2023-03-28T21:07:41.298Z"
   },
   {
    "duration": 11,
    "start_time": "2023-03-28T21:07:41.306Z"
   },
   {
    "duration": 9,
    "start_time": "2023-03-28T21:07:41.319Z"
   },
   {
    "duration": 129,
    "start_time": "2023-03-28T21:07:44.062Z"
   },
   {
    "duration": 136,
    "start_time": "2023-03-28T21:07:50.773Z"
   },
   {
    "duration": 4,
    "start_time": "2023-03-28T21:08:06.316Z"
   },
   {
    "duration": 42,
    "start_time": "2023-03-28T21:08:06.322Z"
   },
   {
    "duration": 13,
    "start_time": "2023-03-28T21:08:06.366Z"
   },
   {
    "duration": 13,
    "start_time": "2023-03-28T21:08:06.381Z"
   },
   {
    "duration": 40,
    "start_time": "2023-03-28T21:08:06.396Z"
   },
   {
    "duration": 7,
    "start_time": "2023-03-28T21:08:06.438Z"
   },
   {
    "duration": 6,
    "start_time": "2023-03-28T21:08:06.447Z"
   },
   {
    "duration": 10,
    "start_time": "2023-03-28T21:08:06.455Z"
   },
   {
    "duration": 124,
    "start_time": "2023-03-28T21:08:08.991Z"
   },
   {
    "duration": 122,
    "start_time": "2023-03-28T21:08:15.061Z"
   },
   {
    "duration": 122,
    "start_time": "2023-03-28T21:16:18.172Z"
   },
   {
    "duration": 4,
    "start_time": "2023-03-28T21:16:37.897Z"
   },
   {
    "duration": 45,
    "start_time": "2023-03-28T21:16:37.904Z"
   },
   {
    "duration": 14,
    "start_time": "2023-03-28T21:16:37.951Z"
   },
   {
    "duration": 14,
    "start_time": "2023-03-28T21:16:37.967Z"
   },
   {
    "duration": 43,
    "start_time": "2023-03-28T21:16:37.983Z"
   },
   {
    "duration": 7,
    "start_time": "2023-03-28T21:16:38.027Z"
   },
   {
    "duration": 12,
    "start_time": "2023-03-28T21:16:40.571Z"
   },
   {
    "duration": 5,
    "start_time": "2023-03-28T21:16:42.187Z"
   },
   {
    "duration": 146,
    "start_time": "2023-03-28T21:16:42.730Z"
   },
   {
    "duration": 1125,
    "start_time": "2023-03-28T21:16:53.200Z"
   },
   {
    "duration": 42,
    "start_time": "2023-03-28T21:16:54.327Z"
   },
   {
    "duration": 21,
    "start_time": "2023-03-28T21:16:54.371Z"
   },
   {
    "duration": 15,
    "start_time": "2023-03-28T21:16:54.394Z"
   },
   {
    "duration": 45,
    "start_time": "2023-03-28T21:16:54.411Z"
   },
   {
    "duration": 31,
    "start_time": "2023-03-28T21:16:54.458Z"
   },
   {
    "duration": 8,
    "start_time": "2023-03-28T21:16:54.492Z"
   },
   {
    "duration": 6,
    "start_time": "2023-03-28T21:16:54.501Z"
   },
   {
    "duration": 439,
    "start_time": "2023-03-28T21:16:54.508Z"
   },
   {
    "duration": 3,
    "start_time": "2023-03-28T21:16:54.949Z"
   },
   {
    "duration": 16,
    "start_time": "2023-03-28T21:16:54.953Z"
   },
   {
    "duration": 25,
    "start_time": "2023-03-28T21:16:54.970Z"
   },
   {
    "duration": 7,
    "start_time": "2023-03-28T21:16:54.996Z"
   },
   {
    "duration": 19,
    "start_time": "2023-03-28T21:16:55.006Z"
   },
   {
    "duration": 4,
    "start_time": "2023-03-28T21:16:55.027Z"
   },
   {
    "duration": 6,
    "start_time": "2023-03-28T21:16:55.032Z"
   },
   {
    "duration": 12,
    "start_time": "2023-03-28T21:16:55.039Z"
   },
   {
    "duration": 7,
    "start_time": "2023-03-28T21:16:55.053Z"
   },
   {
    "duration": 27,
    "start_time": "2023-03-28T21:16:55.061Z"
   },
   {
    "duration": 7,
    "start_time": "2023-03-28T21:16:55.090Z"
   },
   {
    "duration": 7,
    "start_time": "2023-03-28T21:16:55.099Z"
   },
   {
    "duration": 6,
    "start_time": "2023-03-28T21:16:55.107Z"
   },
   {
    "duration": 9,
    "start_time": "2023-03-28T21:16:55.114Z"
   },
   {
    "duration": 22,
    "start_time": "2023-03-28T21:16:55.125Z"
   },
   {
    "duration": 49,
    "start_time": "2023-03-28T21:16:55.148Z"
   },
   {
    "duration": 16,
    "start_time": "2023-03-28T21:16:55.199Z"
   },
   {
    "duration": 14,
    "start_time": "2023-03-28T21:16:55.216Z"
   },
   {
    "duration": 76,
    "start_time": "2023-03-28T21:16:55.231Z"
   },
   {
    "duration": 7,
    "start_time": "2023-03-28T21:16:55.309Z"
   },
   {
    "duration": 111,
    "start_time": "2023-03-28T21:16:55.318Z"
   },
   {
    "duration": 12,
    "start_time": "2023-03-28T21:16:55.431Z"
   },
   {
    "duration": 11,
    "start_time": "2023-03-28T21:16:55.444Z"
   },
   {
    "duration": 78642,
    "start_time": "2023-03-28T21:16:55.457Z"
   },
   {
    "duration": 6,
    "start_time": "2023-03-28T21:18:14.101Z"
   },
   {
    "duration": 17,
    "start_time": "2023-03-28T21:18:14.108Z"
   },
   {
    "duration": 4,
    "start_time": "2023-03-28T21:18:14.127Z"
   },
   {
    "duration": 10,
    "start_time": "2023-03-28T21:18:14.133Z"
   },
   {
    "duration": 12,
    "start_time": "2023-03-28T21:18:14.145Z"
   },
   {
    "duration": 8,
    "start_time": "2023-03-28T21:18:14.158Z"
   },
   {
    "duration": 26,
    "start_time": "2023-03-28T21:18:14.168Z"
   },
   {
    "duration": 5,
    "start_time": "2023-03-28T21:18:14.197Z"
   },
   {
    "duration": 106072,
    "start_time": "2023-03-28T21:18:14.204Z"
   },
   {
    "duration": 3,
    "start_time": "2023-03-28T21:20:00.278Z"
   },
   {
    "duration": 47643,
    "start_time": "2023-03-28T21:20:00.287Z"
   },
   {
    "duration": 79696,
    "start_time": "2023-03-28T21:20:47.932Z"
   },
   {
    "duration": 1374,
    "start_time": "2023-03-28T21:22:07.630Z"
   },
   {
    "duration": 222,
    "start_time": "2023-03-28T21:22:09.006Z"
   },
   {
    "duration": 1812,
    "start_time": "2023-03-28T21:22:09.230Z"
   },
   {
    "duration": 1401,
    "start_time": "2023-03-28T21:26:44.487Z"
   },
   {
    "duration": 231,
    "start_time": "2023-03-28T21:26:59.959Z"
   },
   {
    "duration": 1696,
    "start_time": "2023-03-28T21:27:05.407Z"
   },
   {
    "duration": 8,
    "start_time": "2023-03-28T21:28:50.855Z"
   },
   {
    "duration": 5,
    "start_time": "2023-03-28T21:29:10.227Z"
   },
   {
    "duration": 63,
    "start_time": "2023-03-28T21:29:10.234Z"
   },
   {
    "duration": 26,
    "start_time": "2023-03-28T21:29:10.299Z"
   },
   {
    "duration": 16,
    "start_time": "2023-03-28T21:29:10.328Z"
   },
   {
    "duration": 48,
    "start_time": "2023-03-28T21:29:10.346Z"
   },
   {
    "duration": 8,
    "start_time": "2023-03-28T21:29:10.396Z"
   },
   {
    "duration": 9,
    "start_time": "2023-03-28T21:29:10.406Z"
   },
   {
    "duration": 5,
    "start_time": "2023-03-28T21:29:13.559Z"
   },
   {
    "duration": 8,
    "start_time": "2023-03-28T21:29:15.174Z"
   },
   {
    "duration": 1184,
    "start_time": "2023-03-28T21:32:36.017Z"
   },
   {
    "duration": 42,
    "start_time": "2023-03-28T21:32:37.203Z"
   },
   {
    "duration": 20,
    "start_time": "2023-03-28T21:32:37.246Z"
   },
   {
    "duration": 17,
    "start_time": "2023-03-28T21:32:37.268Z"
   },
   {
    "duration": 40,
    "start_time": "2023-03-28T21:32:37.287Z"
   },
   {
    "duration": 7,
    "start_time": "2023-03-28T21:32:37.328Z"
   },
   {
    "duration": 7,
    "start_time": "2023-03-28T21:32:37.337Z"
   },
   {
    "duration": 6,
    "start_time": "2023-03-28T21:32:37.345Z"
   },
   {
    "duration": 7,
    "start_time": "2023-03-28T21:32:37.353Z"
   },
   {
    "duration": 411,
    "start_time": "2023-03-28T21:32:37.362Z"
   },
   {
    "duration": 13,
    "start_time": "2023-03-28T21:32:37.775Z"
   },
   {
    "duration": 16,
    "start_time": "2023-03-28T21:32:37.789Z"
   },
   {
    "duration": 13,
    "start_time": "2023-03-28T21:32:37.807Z"
   },
   {
    "duration": 6,
    "start_time": "2023-03-28T21:32:37.823Z"
   },
   {
    "duration": 15,
    "start_time": "2023-03-28T21:32:37.831Z"
   },
   {
    "duration": 3,
    "start_time": "2023-03-28T21:32:37.848Z"
   },
   {
    "duration": 5,
    "start_time": "2023-03-28T21:32:37.853Z"
   },
   {
    "duration": 32,
    "start_time": "2023-03-28T21:32:37.860Z"
   },
   {
    "duration": 7,
    "start_time": "2023-03-28T21:32:37.894Z"
   },
   {
    "duration": 6,
    "start_time": "2023-03-28T21:32:37.902Z"
   },
   {
    "duration": 8,
    "start_time": "2023-03-28T21:32:37.910Z"
   },
   {
    "duration": 9,
    "start_time": "2023-03-28T21:32:37.920Z"
   },
   {
    "duration": 10,
    "start_time": "2023-03-28T21:32:37.931Z"
   },
   {
    "duration": 11,
    "start_time": "2023-03-28T21:32:37.943Z"
   },
   {
    "duration": 40,
    "start_time": "2023-03-28T21:32:37.956Z"
   },
   {
    "duration": 38,
    "start_time": "2023-03-28T21:32:37.998Z"
   },
   {
    "duration": 17,
    "start_time": "2023-03-28T21:32:38.038Z"
   },
   {
    "duration": 29,
    "start_time": "2023-03-28T21:32:38.057Z"
   },
   {
    "duration": 48,
    "start_time": "2023-03-28T21:32:38.088Z"
   },
   {
    "duration": 7,
    "start_time": "2023-03-28T21:32:38.138Z"
   },
   {
    "duration": 123,
    "start_time": "2023-03-28T21:32:38.147Z"
   },
   {
    "duration": 21,
    "start_time": "2023-03-28T21:32:38.272Z"
   },
   {
    "duration": 6,
    "start_time": "2023-03-28T21:32:38.295Z"
   },
   {
    "duration": 79622,
    "start_time": "2023-03-28T21:32:38.303Z"
   },
   {
    "duration": 6,
    "start_time": "2023-03-28T21:33:57.926Z"
   },
   {
    "duration": 14,
    "start_time": "2023-03-28T21:33:57.934Z"
   },
   {
    "duration": 4,
    "start_time": "2023-03-28T21:33:57.950Z"
   },
   {
    "duration": 7,
    "start_time": "2023-03-28T21:33:57.956Z"
   },
   {
    "duration": 31,
    "start_time": "2023-03-28T21:33:57.965Z"
   },
   {
    "duration": 4,
    "start_time": "2023-03-28T21:33:57.998Z"
   },
   {
    "duration": 7,
    "start_time": "2023-03-28T21:33:58.008Z"
   },
   {
    "duration": 3,
    "start_time": "2023-03-28T21:33:58.017Z"
   },
   {
    "duration": 106696,
    "start_time": "2023-03-28T21:33:58.022Z"
   },
   {
    "duration": 2,
    "start_time": "2023-03-28T21:35:44.720Z"
   },
   {
    "duration": 47740,
    "start_time": "2023-03-28T21:35:44.724Z"
   },
   {
    "duration": 79773,
    "start_time": "2023-03-28T21:36:32.466Z"
   },
   {
    "duration": 1454,
    "start_time": "2023-03-28T21:37:52.241Z"
   },
   {
    "duration": 233,
    "start_time": "2023-03-28T21:37:53.697Z"
   },
   {
    "duration": 1720,
    "start_time": "2023-03-28T21:37:53.931Z"
   },
   {
    "duration": 1397,
    "start_time": "2023-03-28T21:40:05.970Z"
   },
   {
    "duration": 217,
    "start_time": "2023-03-28T21:40:08.861Z"
   },
   {
    "duration": 1690,
    "start_time": "2023-03-28T21:40:22.331Z"
   },
   {
    "duration": 146,
    "start_time": "2023-03-28T21:47:49.934Z"
   },
   {
    "duration": 3,
    "start_time": "2023-03-28T21:48:03.367Z"
   },
   {
    "duration": 51,
    "start_time": "2023-03-28T21:48:03.374Z"
   },
   {
    "duration": 13,
    "start_time": "2023-03-28T21:48:03.427Z"
   },
   {
    "duration": 18,
    "start_time": "2023-03-28T21:48:03.442Z"
   },
   {
    "duration": 41,
    "start_time": "2023-03-28T21:48:03.462Z"
   },
   {
    "duration": 7,
    "start_time": "2023-03-28T21:48:03.505Z"
   },
   {
    "duration": 6,
    "start_time": "2023-03-28T21:48:03.514Z"
   },
   {
    "duration": 10,
    "start_time": "2023-03-28T21:48:03.522Z"
   },
   {
    "duration": 6,
    "start_time": "2023-03-28T21:48:03.534Z"
   },
   {
    "duration": 8,
    "start_time": "2023-03-28T21:48:04.798Z"
   },
   {
    "duration": 140,
    "start_time": "2023-03-28T21:48:06.070Z"
   },
   {
    "duration": 3,
    "start_time": "2023-03-28T21:52:42.437Z"
   },
   {
    "duration": 4,
    "start_time": "2023-03-28T21:52:57.364Z"
   },
   {
    "duration": 5,
    "start_time": "2023-03-28T21:52:58.493Z"
   },
   {
    "duration": 5,
    "start_time": "2023-03-28T21:53:02.839Z"
   },
   {
    "duration": 4,
    "start_time": "2023-03-28T21:53:04.029Z"
   },
   {
    "duration": 5,
    "start_time": "2023-03-28T21:53:05.172Z"
   },
   {
    "duration": 17,
    "start_time": "2023-03-28T21:53:06.276Z"
   },
   {
    "duration": 4,
    "start_time": "2023-03-28T21:53:07.349Z"
   },
   {
    "duration": 3,
    "start_time": "2023-03-28T21:53:31.661Z"
   },
   {
    "duration": 4,
    "start_time": "2023-03-28T21:53:46.150Z"
   },
   {
    "duration": 4,
    "start_time": "2023-03-28T21:53:48.780Z"
   },
   {
    "duration": 3,
    "start_time": "2023-03-28T21:53:50.213Z"
   },
   {
    "duration": 3,
    "start_time": "2023-03-28T21:58:10.827Z"
   },
   {
    "duration": 4,
    "start_time": "2023-03-28T21:58:12.723Z"
   },
   {
    "duration": 4,
    "start_time": "2023-03-28T21:58:14.322Z"
   },
   {
    "duration": 4,
    "start_time": "2023-03-28T21:58:23.942Z"
   },
   {
    "duration": 4,
    "start_time": "2023-03-28T21:58:25.170Z"
   },
   {
    "duration": 4,
    "start_time": "2023-03-28T21:58:28.954Z"
   },
   {
    "duration": 3,
    "start_time": "2023-03-28T21:58:31.635Z"
   },
   {
    "duration": 150,
    "start_time": "2023-03-28T21:58:36.731Z"
   },
   {
    "duration": 4,
    "start_time": "2023-03-28T21:58:38.728Z"
   },
   {
    "duration": 3,
    "start_time": "2023-03-28T21:58:40.075Z"
   },
   {
    "duration": 3,
    "start_time": "2023-03-28T21:58:47.619Z"
   },
   {
    "duration": 4,
    "start_time": "2023-03-28T21:58:48.434Z"
   },
   {
    "duration": 134,
    "start_time": "2023-03-28T21:58:50.002Z"
   },
   {
    "duration": 4,
    "start_time": "2023-03-28T21:58:51.587Z"
   },
   {
    "duration": 4,
    "start_time": "2023-03-28T21:58:52.914Z"
   },
   {
    "duration": 3,
    "start_time": "2023-03-28T21:58:55.371Z"
   },
   {
    "duration": 4,
    "start_time": "2023-03-28T21:58:56.580Z"
   },
   {
    "duration": 4,
    "start_time": "2023-03-28T21:58:58.891Z"
   },
   {
    "duration": 3,
    "start_time": "2023-03-28T21:59:05.155Z"
   },
   {
    "duration": 4,
    "start_time": "2023-03-28T21:59:07.387Z"
   },
   {
    "duration": 4,
    "start_time": "2023-03-28T21:59:08.578Z"
   },
   {
    "duration": 5,
    "start_time": "2023-03-28T21:59:11.730Z"
   },
   {
    "duration": 4,
    "start_time": "2023-03-28T21:59:13.115Z"
   },
   {
    "duration": 4,
    "start_time": "2023-03-28T21:59:14.514Z"
   },
   {
    "duration": 3,
    "start_time": "2023-03-28T21:59:17.434Z"
   },
   {
    "duration": 6,
    "start_time": "2023-03-28T21:59:38.513Z"
   },
   {
    "duration": 5,
    "start_time": "2023-03-28T21:59:55.563Z"
   },
   {
    "duration": 137,
    "start_time": "2023-03-28T21:59:57.452Z"
   },
   {
    "duration": 5,
    "start_time": "2023-03-28T21:59:59.626Z"
   },
   {
    "duration": 3,
    "start_time": "2023-03-28T22:00:06.778Z"
   },
   {
    "duration": 5,
    "start_time": "2023-03-28T22:00:07.722Z"
   },
   {
    "duration": 5,
    "start_time": "2023-03-28T22:00:09.654Z"
   },
   {
    "duration": 139,
    "start_time": "2023-03-28T22:00:11.706Z"
   },
   {
    "duration": 84,
    "start_time": "2023-03-28T22:00:43.633Z"
   },
   {
    "duration": 5,
    "start_time": "2023-03-28T22:01:02.930Z"
   },
   {
    "duration": 4,
    "start_time": "2023-03-28T22:01:09.633Z"
   },
   {
    "duration": 4,
    "start_time": "2023-03-28T22:01:18.653Z"
   },
   {
    "duration": 3,
    "start_time": "2023-03-28T22:01:22.834Z"
   },
   {
    "duration": 9,
    "start_time": "2023-03-28T22:01:53.466Z"
   },
   {
    "duration": 8,
    "start_time": "2023-03-28T22:02:14.698Z"
   },
   {
    "duration": 10,
    "start_time": "2023-03-28T22:02:21.777Z"
   },
   {
    "duration": 3,
    "start_time": "2023-03-28T22:02:50.266Z"
   },
   {
    "duration": 4,
    "start_time": "2023-03-28T22:02:54.339Z"
   },
   {
    "duration": 4,
    "start_time": "2023-03-28T22:02:58.785Z"
   },
   {
    "duration": 4,
    "start_time": "2023-03-28T22:03:00.193Z"
   },
   {
    "duration": 9,
    "start_time": "2023-03-28T22:03:02.089Z"
   },
   {
    "duration": 8,
    "start_time": "2023-03-28T22:03:23.482Z"
   },
   {
    "duration": 11,
    "start_time": "2023-03-28T22:03:33.697Z"
   },
   {
    "duration": 10,
    "start_time": "2023-03-28T22:03:58.122Z"
   },
   {
    "duration": 3,
    "start_time": "2023-03-28T22:04:14.289Z"
   },
   {
    "duration": 4,
    "start_time": "2023-03-28T22:04:16.560Z"
   },
   {
    "duration": 11,
    "start_time": "2023-03-28T22:04:18.272Z"
   },
   {
    "duration": 9,
    "start_time": "2023-03-28T22:04:50.106Z"
   },
   {
    "duration": 143,
    "start_time": "2023-03-28T22:05:03.521Z"
   },
   {
    "duration": 288,
    "start_time": "2023-03-28T22:05:12.847Z"
   },
   {
    "duration": 163,
    "start_time": "2023-03-28T22:05:29.585Z"
   },
   {
    "duration": 119,
    "start_time": "2023-03-28T22:06:26.120Z"
   },
   {
    "duration": 6,
    "start_time": "2023-03-28T22:07:27.568Z"
   },
   {
    "duration": 153,
    "start_time": "2023-03-28T22:09:13.279Z"
   },
   {
    "duration": 130,
    "start_time": "2023-03-28T22:09:40.120Z"
   },
   {
    "duration": 128,
    "start_time": "2023-03-28T22:09:44.655Z"
   },
   {
    "duration": 116,
    "start_time": "2023-03-28T22:10:28.447Z"
   },
   {
    "duration": 4,
    "start_time": "2023-03-28T22:10:53.662Z"
   },
   {
    "duration": 3,
    "start_time": "2023-03-28T22:10:54.711Z"
   },
   {
    "duration": 107,
    "start_time": "2023-03-28T22:11:03.062Z"
   },
   {
    "duration": 4,
    "start_time": "2023-03-28T22:11:11.830Z"
   },
   {
    "duration": 7,
    "start_time": "2023-03-28T22:11:16.552Z"
   },
   {
    "duration": 132,
    "start_time": "2023-03-28T22:11:17.472Z"
   },
   {
    "duration": 126,
    "start_time": "2023-03-28T22:11:18.454Z"
   },
   {
    "duration": 5,
    "start_time": "2023-03-28T22:11:31.086Z"
   },
   {
    "duration": 7,
    "start_time": "2023-03-28T22:12:14.212Z"
   },
   {
    "duration": 140,
    "start_time": "2023-03-28T22:12:15.662Z"
   },
   {
    "duration": 123,
    "start_time": "2023-03-28T22:12:16.854Z"
   },
   {
    "duration": 6,
    "start_time": "2023-03-28T22:12:18.469Z"
   },
   {
    "duration": 3,
    "start_time": "2023-03-28T22:25:36.010Z"
   },
   {
    "duration": 3,
    "start_time": "2023-03-28T22:25:36.881Z"
   },
   {
    "duration": 7,
    "start_time": "2023-03-28T22:25:40.888Z"
   },
   {
    "duration": 227,
    "start_time": "2023-03-28T22:25:41.512Z"
   },
   {
    "duration": 129,
    "start_time": "2023-03-28T22:25:42.784Z"
   },
   {
    "duration": 7,
    "start_time": "2023-03-28T22:25:44.409Z"
   },
   {
    "duration": 7,
    "start_time": "2023-03-28T22:26:16.783Z"
   },
   {
    "duration": 5,
    "start_time": "2023-03-28T22:26:43.329Z"
   },
   {
    "duration": 137,
    "start_time": "2023-03-28T22:27:11.282Z"
   },
   {
    "duration": 10,
    "start_time": "2023-03-28T22:27:32.378Z"
   },
   {
    "duration": 11,
    "start_time": "2023-03-28T22:27:35.936Z"
   },
   {
    "duration": 15,
    "start_time": "2023-03-28T22:27:46.528Z"
   },
   {
    "duration": 10,
    "start_time": "2023-03-28T22:27:55.440Z"
   },
   {
    "duration": 15,
    "start_time": "2023-03-28T22:28:44.392Z"
   },
   {
    "duration": 17,
    "start_time": "2023-03-28T22:28:54.776Z"
   },
   {
    "duration": 9,
    "start_time": "2023-03-28T22:28:59.408Z"
   },
   {
    "duration": 15,
    "start_time": "2023-03-28T22:29:04.263Z"
   },
   {
    "duration": 10,
    "start_time": "2023-03-28T22:29:29.407Z"
   },
   {
    "duration": 15,
    "start_time": "2023-03-28T22:29:37.505Z"
   },
   {
    "duration": 11,
    "start_time": "2023-03-28T22:29:56.782Z"
   },
   {
    "duration": 9,
    "start_time": "2023-03-28T22:30:02.559Z"
   },
   {
    "duration": 309,
    "start_time": "2023-03-28T22:30:50.072Z"
   },
   {
    "duration": 5,
    "start_time": "2023-03-28T22:32:38.720Z"
   },
   {
    "duration": 43,
    "start_time": "2023-03-28T22:32:38.727Z"
   },
   {
    "duration": 15,
    "start_time": "2023-03-28T22:32:38.772Z"
   },
   {
    "duration": 17,
    "start_time": "2023-03-28T22:32:38.789Z"
   },
   {
    "duration": 39,
    "start_time": "2023-03-28T22:32:38.808Z"
   },
   {
    "duration": 6,
    "start_time": "2023-03-28T22:32:38.849Z"
   },
   {
    "duration": 30,
    "start_time": "2023-03-28T22:32:38.857Z"
   },
   {
    "duration": 5,
    "start_time": "2023-03-28T22:32:38.889Z"
   },
   {
    "duration": 10,
    "start_time": "2023-03-28T22:32:38.895Z"
   },
   {
    "duration": 15,
    "start_time": "2023-03-28T22:32:43.959Z"
   },
   {
    "duration": 127,
    "start_time": "2023-03-28T22:32:46.552Z"
   },
   {
    "duration": 289,
    "start_time": "2023-03-28T22:33:06.679Z"
   },
   {
    "duration": 325,
    "start_time": "2023-03-28T22:33:30.857Z"
   },
   {
    "duration": 10,
    "start_time": "2023-03-28T22:34:23.574Z"
   },
   {
    "duration": 301,
    "start_time": "2023-03-28T22:34:43.557Z"
   },
   {
    "duration": 1063,
    "start_time": "2023-03-28T22:58:28.525Z"
   },
   {
    "duration": 40,
    "start_time": "2023-03-28T22:58:29.591Z"
   },
   {
    "duration": 21,
    "start_time": "2023-03-28T22:58:29.632Z"
   },
   {
    "duration": 13,
    "start_time": "2023-03-28T22:58:29.655Z"
   },
   {
    "duration": 41,
    "start_time": "2023-03-28T22:58:29.670Z"
   },
   {
    "duration": 6,
    "start_time": "2023-03-28T22:58:29.713Z"
   },
   {
    "duration": 7,
    "start_time": "2023-03-28T22:58:29.720Z"
   },
   {
    "duration": 3,
    "start_time": "2023-03-28T22:58:29.729Z"
   },
   {
    "duration": 16,
    "start_time": "2023-03-28T22:58:29.734Z"
   },
   {
    "duration": 14,
    "start_time": "2023-03-28T22:58:29.752Z"
   },
   {
    "duration": 24,
    "start_time": "2023-03-28T22:58:29.768Z"
   },
   {
    "duration": 12,
    "start_time": "2023-03-28T22:58:29.793Z"
   },
   {
    "duration": 3,
    "start_time": "2023-03-28T22:58:29.807Z"
   },
   {
    "duration": 3,
    "start_time": "2023-03-28T22:58:29.814Z"
   },
   {
    "duration": 6,
    "start_time": "2023-03-28T22:58:29.819Z"
   },
   {
    "duration": 5,
    "start_time": "2023-03-28T22:58:29.826Z"
   },
   {
    "duration": 5,
    "start_time": "2023-03-28T22:58:29.833Z"
   },
   {
    "duration": 5,
    "start_time": "2023-03-28T22:58:29.839Z"
   },
   {
    "duration": 43,
    "start_time": "2023-03-28T22:58:29.845Z"
   },
   {
    "duration": 6,
    "start_time": "2023-03-28T22:58:29.890Z"
   },
   {
    "duration": 10,
    "start_time": "2023-03-28T22:58:29.897Z"
   },
   {
    "duration": 21,
    "start_time": "2023-03-28T22:58:29.909Z"
   },
   {
    "duration": 25,
    "start_time": "2023-03-28T22:58:29.931Z"
   },
   {
    "duration": 36,
    "start_time": "2023-03-28T22:58:29.958Z"
   },
   {
    "duration": 13,
    "start_time": "2023-03-28T22:58:29.996Z"
   },
   {
    "duration": 49,
    "start_time": "2023-03-28T22:58:30.010Z"
   },
   {
    "duration": 6,
    "start_time": "2023-03-28T22:58:30.060Z"
   },
   {
    "duration": 378,
    "start_time": "2023-03-28T22:58:30.068Z"
   },
   {
    "duration": 12,
    "start_time": "2023-03-28T22:58:30.448Z"
   },
   {
    "duration": 20,
    "start_time": "2023-03-28T22:58:30.461Z"
   },
   {
    "duration": 74634,
    "start_time": "2023-03-28T22:58:30.482Z"
   },
   {
    "duration": 6,
    "start_time": "2023-03-28T22:59:45.118Z"
   },
   {
    "duration": 17,
    "start_time": "2023-03-28T22:59:45.125Z"
   },
   {
    "duration": 4,
    "start_time": "2023-03-28T22:59:45.143Z"
   },
   {
    "duration": 10,
    "start_time": "2023-03-28T22:59:45.148Z"
   },
   {
    "duration": 13,
    "start_time": "2023-03-28T22:59:45.159Z"
   },
   {
    "duration": 4,
    "start_time": "2023-03-28T22:59:45.188Z"
   },
   {
    "duration": 8,
    "start_time": "2023-03-28T22:59:45.194Z"
   },
   {
    "duration": 8,
    "start_time": "2023-03-28T22:59:45.204Z"
   },
   {
    "duration": 100458,
    "start_time": "2023-03-28T22:59:45.214Z"
   },
   {
    "duration": 2,
    "start_time": "2023-03-28T23:01:25.676Z"
   },
   {
    "duration": 45104,
    "start_time": "2023-03-28T23:01:25.680Z"
   },
   {
    "duration": 75252,
    "start_time": "2023-03-28T23:02:10.788Z"
   },
   {
    "duration": 1316,
    "start_time": "2023-03-28T23:03:26.041Z"
   },
   {
    "duration": 212,
    "start_time": "2023-03-28T23:03:27.359Z"
   },
   {
    "duration": 1619,
    "start_time": "2023-03-28T23:03:27.573Z"
   },
   {
    "duration": 132,
    "start_time": "2023-03-28T23:16:06.683Z"
   },
   {
    "duration": 140,
    "start_time": "2023-03-28T23:16:24.381Z"
   },
   {
    "duration": 3,
    "start_time": "2023-03-28T23:16:39.554Z"
   },
   {
    "duration": 49,
    "start_time": "2023-03-28T23:16:39.559Z"
   },
   {
    "duration": 13,
    "start_time": "2023-03-28T23:16:39.609Z"
   },
   {
    "duration": 17,
    "start_time": "2023-03-28T23:16:39.624Z"
   },
   {
    "duration": 54,
    "start_time": "2023-03-28T23:16:39.643Z"
   },
   {
    "duration": 6,
    "start_time": "2023-03-28T23:16:39.699Z"
   },
   {
    "duration": 137,
    "start_time": "2023-03-28T23:16:39.706Z"
   },
   {
    "duration": 132,
    "start_time": "2023-03-28T23:16:47.357Z"
   },
   {
    "duration": 118,
    "start_time": "2023-03-28T23:16:56.055Z"
   },
   {
    "duration": 6,
    "start_time": "2023-03-28T23:23:22.938Z"
   },
   {
    "duration": 21,
    "start_time": "2023-03-28T23:23:35.448Z"
   },
   {
    "duration": 22,
    "start_time": "2023-03-28T23:24:35.241Z"
   },
   {
    "duration": 1147,
    "start_time": "2023-03-28T23:52:22.658Z"
   },
   {
    "duration": 43,
    "start_time": "2023-03-28T23:52:23.807Z"
   },
   {
    "duration": 20,
    "start_time": "2023-03-28T23:52:23.852Z"
   },
   {
    "duration": 12,
    "start_time": "2023-03-28T23:52:23.874Z"
   },
   {
    "duration": 40,
    "start_time": "2023-03-28T23:52:23.888Z"
   },
   {
    "duration": 6,
    "start_time": "2023-03-28T23:52:23.930Z"
   },
   {
    "duration": 394,
    "start_time": "2023-03-28T23:52:23.937Z"
   },
   {
    "duration": 20,
    "start_time": "2023-03-28T23:52:24.333Z"
   },
   {
    "duration": 71,
    "start_time": "2023-03-28T23:52:24.355Z"
   },
   {
    "duration": 10,
    "start_time": "2023-03-28T23:52:24.427Z"
   },
   {
    "duration": 14,
    "start_time": "2023-03-28T23:52:24.439Z"
   },
   {
    "duration": 13,
    "start_time": "2023-03-28T23:52:24.455Z"
   },
   {
    "duration": 4,
    "start_time": "2023-03-28T23:52:24.470Z"
   },
   {
    "duration": 13,
    "start_time": "2023-03-28T23:52:24.476Z"
   },
   {
    "duration": 5,
    "start_time": "2023-03-28T23:52:24.491Z"
   },
   {
    "duration": 9,
    "start_time": "2023-03-28T23:52:24.498Z"
   },
   {
    "duration": 6,
    "start_time": "2023-03-28T23:52:24.509Z"
   },
   {
    "duration": 15,
    "start_time": "2023-03-28T23:52:24.517Z"
   },
   {
    "duration": 31,
    "start_time": "2023-03-28T23:52:24.534Z"
   },
   {
    "duration": 30,
    "start_time": "2023-03-28T23:52:24.567Z"
   },
   {
    "duration": 30,
    "start_time": "2023-03-28T23:52:24.599Z"
   },
   {
    "duration": 29,
    "start_time": "2023-03-28T23:52:24.630Z"
   },
   {
    "duration": 37,
    "start_time": "2023-03-28T23:52:24.661Z"
   },
   {
    "duration": 34,
    "start_time": "2023-03-28T23:52:24.700Z"
   },
   {
    "duration": 34,
    "start_time": "2023-03-28T23:52:24.736Z"
   },
   {
    "duration": 20,
    "start_time": "2023-03-28T23:52:24.772Z"
   },
   {
    "duration": 32,
    "start_time": "2023-03-28T23:52:24.794Z"
   },
   {
    "duration": 51,
    "start_time": "2023-03-28T23:52:24.828Z"
   },
   {
    "duration": 7,
    "start_time": "2023-03-28T23:52:24.881Z"
   },
   {
    "duration": 108,
    "start_time": "2023-03-28T23:52:24.889Z"
   },
   {
    "duration": 11,
    "start_time": "2023-03-28T23:52:24.999Z"
   },
   {
    "duration": 20,
    "start_time": "2023-03-28T23:52:25.011Z"
   },
   {
    "duration": 74701,
    "start_time": "2023-03-28T23:52:25.033Z"
   },
   {
    "duration": 6,
    "start_time": "2023-03-28T23:53:39.735Z"
   },
   {
    "duration": 18,
    "start_time": "2023-03-28T23:53:39.742Z"
   },
   {
    "duration": 4,
    "start_time": "2023-03-28T23:53:39.761Z"
   },
   {
    "duration": 21,
    "start_time": "2023-03-28T23:53:39.767Z"
   },
   {
    "duration": 16,
    "start_time": "2023-03-28T23:53:39.790Z"
   },
   {
    "duration": 15,
    "start_time": "2023-03-28T23:53:39.807Z"
   },
   {
    "duration": 16,
    "start_time": "2023-03-28T23:53:39.824Z"
   },
   {
    "duration": 34,
    "start_time": "2023-03-28T23:53:39.845Z"
   },
   {
    "duration": 100059,
    "start_time": "2023-03-28T23:53:39.881Z"
   },
   {
    "duration": 2,
    "start_time": "2023-03-28T23:55:19.942Z"
   },
   {
    "duration": 45315,
    "start_time": "2023-03-28T23:55:19.946Z"
   },
   {
    "duration": 74946,
    "start_time": "2023-03-28T23:56:05.263Z"
   },
   {
    "duration": 1345,
    "start_time": "2023-03-28T23:57:20.210Z"
   },
   {
    "duration": 205,
    "start_time": "2023-03-28T23:57:21.557Z"
   },
   {
    "duration": 1625,
    "start_time": "2023-03-28T23:57:21.764Z"
   },
   {
    "duration": 1300,
    "start_time": "2023-03-29T03:27:29.410Z"
   },
   {
    "duration": 41,
    "start_time": "2023-03-29T03:27:30.712Z"
   },
   {
    "duration": 47,
    "start_time": "2023-03-29T03:27:30.755Z"
   },
   {
    "duration": 56,
    "start_time": "2023-03-29T03:27:30.804Z"
   },
   {
    "duration": 50,
    "start_time": "2023-03-29T03:27:30.862Z"
   },
   {
    "duration": 6,
    "start_time": "2023-03-29T03:27:30.914Z"
   },
   {
    "duration": 443,
    "start_time": "2023-03-29T03:27:30.922Z"
   },
   {
    "duration": 8,
    "start_time": "2023-03-29T03:27:31.367Z"
   },
   {
    "duration": 21,
    "start_time": "2023-03-29T03:27:31.377Z"
   },
   {
    "duration": 30,
    "start_time": "2023-03-29T03:27:31.401Z"
   },
   {
    "duration": 30,
    "start_time": "2023-03-29T03:27:31.433Z"
   },
   {
    "duration": 5,
    "start_time": "2023-03-29T03:27:31.465Z"
   },
   {
    "duration": 14,
    "start_time": "2023-03-29T03:27:31.472Z"
   },
   {
    "duration": 6,
    "start_time": "2023-03-29T03:27:31.488Z"
   },
   {
    "duration": 12,
    "start_time": "2023-03-29T03:27:31.496Z"
   },
   {
    "duration": 19,
    "start_time": "2023-03-29T03:27:31.510Z"
   },
   {
    "duration": 13,
    "start_time": "2023-03-29T03:27:31.530Z"
   },
   {
    "duration": 22,
    "start_time": "2023-03-29T03:27:31.544Z"
   },
   {
    "duration": 14,
    "start_time": "2023-03-29T03:27:31.568Z"
   },
   {
    "duration": 5,
    "start_time": "2023-03-29T03:27:31.584Z"
   },
   {
    "duration": 17,
    "start_time": "2023-03-29T03:27:31.590Z"
   },
   {
    "duration": 12,
    "start_time": "2023-03-29T03:27:31.609Z"
   },
   {
    "duration": 29,
    "start_time": "2023-03-29T03:27:31.623Z"
   },
   {
    "duration": 25,
    "start_time": "2023-03-29T03:27:31.654Z"
   },
   {
    "duration": 14,
    "start_time": "2023-03-29T03:27:31.681Z"
   },
   {
    "duration": 25,
    "start_time": "2023-03-29T03:27:31.697Z"
   },
   {
    "duration": 58,
    "start_time": "2023-03-29T03:27:31.723Z"
   },
   {
    "duration": 8,
    "start_time": "2023-03-29T03:27:31.785Z"
   },
   {
    "duration": 118,
    "start_time": "2023-03-29T03:27:31.795Z"
   },
   {
    "duration": 13,
    "start_time": "2023-03-29T03:27:31.915Z"
   },
   {
    "duration": 12,
    "start_time": "2023-03-29T03:27:31.930Z"
   },
   {
    "duration": 83051,
    "start_time": "2023-03-29T03:27:31.943Z"
   },
   {
    "duration": 5,
    "start_time": "2023-03-29T03:28:54.996Z"
   },
   {
    "duration": 25,
    "start_time": "2023-03-29T03:28:55.003Z"
   },
   {
    "duration": 5,
    "start_time": "2023-03-29T03:28:55.030Z"
   },
   {
    "duration": 14,
    "start_time": "2023-03-29T03:28:55.041Z"
   },
   {
    "duration": 12,
    "start_time": "2023-03-29T03:28:55.056Z"
   },
   {
    "duration": 4,
    "start_time": "2023-03-29T03:28:55.070Z"
   },
   {
    "duration": 8,
    "start_time": "2023-03-29T03:28:55.076Z"
   },
   {
    "duration": 7,
    "start_time": "2023-03-29T03:28:55.086Z"
   },
   {
    "duration": 99353,
    "start_time": "2023-03-29T03:28:55.095Z"
   },
   {
    "duration": 3,
    "start_time": "2023-03-29T03:30:34.450Z"
   },
   {
    "duration": 44316,
    "start_time": "2023-03-29T03:30:34.455Z"
   },
   {
    "duration": 73132,
    "start_time": "2023-03-29T03:31:18.773Z"
   },
   {
    "duration": 1273,
    "start_time": "2023-03-29T03:32:31.907Z"
   },
   {
    "duration": 225,
    "start_time": "2023-03-29T03:32:33.182Z"
   },
   {
    "duration": 1566,
    "start_time": "2023-03-29T03:32:33.408Z"
   }
  ],
  "kernelspec": {
   "display_name": "Python 3 (ipykernel)",
   "language": "python",
   "name": "python3"
  },
  "language_info": {
   "codemirror_mode": {
    "name": "ipython",
    "version": 3
   },
   "file_extension": ".py",
   "mimetype": "text/x-python",
   "name": "python",
   "nbconvert_exporter": "python",
   "pygments_lexer": "ipython3",
   "version": "3.9.13"
  },
  "toc": {
   "base_numbering": 1,
   "nav_menu": {},
   "number_sections": true,
   "sideBar": true,
   "skip_h1_title": true,
   "title_cell": "Содержание",
   "title_sidebar": "Contents",
   "toc_cell": true,
   "toc_position": {},
   "toc_section_display": true,
   "toc_window_display": true
  }
 },
 "nbformat": 4,
 "nbformat_minor": 2
}
